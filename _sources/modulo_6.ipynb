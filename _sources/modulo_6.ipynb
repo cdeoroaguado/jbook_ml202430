{
 "cells": [
  {
   "cell_type": "markdown",
   "metadata": {},
   "source": [
    "#  **Modulo 6: Despliegue de modelos**"
   ]
  },
  {
   "cell_type": "markdown",
   "metadata": {},
   "source": [
    "## 1. Guardar el modelo"
   ]
  },
  {
   "cell_type": "code",
   "execution_count": null,
   "metadata": {},
   "outputs": [],
   "source": [
    "import pickle\n",
    "\n",
    "# Guardar el modelo entrenado en un archivo pickle\n",
    "with open('modelo_lasso.pkl', 'wb') as archivo_pickle:\n",
    "    pickle.dump(grid_search_lasso, archivo_pickle)\n",
    "\n",
    "print(\"Modelo guardado exitosamente en 'modelo_lasso.pkl'\")"
   ]
  },
  {
   "cell_type": "markdown",
   "metadata": {},
   "source": [
    "## 2. Instalar\n",
    "\n",
    "pip install fastapi \n",
    "\n",
    "pip install uvicorn"
   ]
  },
  {
   "cell_type": "markdown",
   "metadata": {},
   "source": [
    "## 3. crear api_modelo.py"
   ]
  },
  {
   "cell_type": "code",
   "execution_count": null,
   "metadata": {},
   "outputs": [],
   "source": [
    "from fastapi import FastAPI\n",
    "from pydantic import BaseModel\n",
    "import numpy as np\n",
    "import pickle\n",
    "\n",
    "# Crear la aplicación FastAPI\n",
    "app = FastAPI()\n",
    "\n",
    "# Definir la estructura de la fila de entrada usando Pydantic\n",
    "class InputData(BaseModel):\n",
    "    longitude: float\n",
    "    latitude: float\n",
    "    housing_median_age: float\n",
    "    total_rooms: float\n",
    "    total_bedrooms: float\n",
    "    population: float\n",
    "    households: float\n",
    "    median_income: float\n",
    "    ocean_proximity_1: int  # Variable dummy 1\n",
    "    ocean_proximity_2: int  # Variable dummy 2\n",
    "    ocean_proximity_3: int  # Variable dummy 3\n",
    "\n",
    "# Cargar el modelo guardado (Pickle)\n",
    "with open('modelo_lasso.pkl', 'rb') as archivo_pickle:\n",
    "    modelo_lasso = pickle.load(archivo_pickle)\n",
    "\n",
    "# Definir la ruta POST para recibir la fila y devolver la predicción\n",
    "@app.post(\"/predict/\")\n",
    "async def predict(data: InputData):\n",
    "    # Convertir la entrada en un array numpy\n",
    "    fila = np.array([[data.longitude, \n",
    "                      data.latitude,\n",
    "                      data.housing_median_age,\n",
    "                      data.total_rooms,\n",
    "                      data.total_bedrooms,\n",
    "                      data.population,\n",
    "                      data.households,\n",
    "                      data.median_income,\n",
    "                      data.ocean_proximity_1,\n",
    "                      data.ocean_proximity_2,\n",
    "                      data.ocean_proximity_3]])\n",
    "    \n",
    "    # Realizar la predicción\n",
    "    prediccion = modelo_lasso.predict(fila)\n",
    "    \n",
    "    # Devolver la predicción\n",
    "    return {\"prediccion\": prediccion[0]}"
   ]
  },
  {
   "cell_type": "markdown",
   "metadata": {},
   "source": [
    "## 4. Levantamos el servidor en local\n",
    "\n",
    "La forma de levantar el servidor local es\n",
    "\n",
    "![api_1](_image/api1.png) \n",
    "\n",
    "Si esta ruta no funciona usa el path absoluto que es\n",
    "\n",
    "![api_2](_image/api2.png) \n",
    "\n",
    "La siguiente imagen nos indica que el servidor esta funcionando en local\n",
    "\n",
    "![api_3](_image/api3.png) "
   ]
  },
  {
   "cell_type": "markdown",
   "metadata": {},
   "source": [
    "## 5. **Instalación de Postman**\n",
    "\n",
    "## 6. **Prueba de API: Solicitud POST**\n",
    "\n",
    "Para enviar una solicitud POST a la api local debo hacer:\n",
    "\n",
    "1. Escoger POST\n",
    "![api_6](_image/api6.png) \n",
    "\n",
    "2. Especificar la URL del servidor local( \"http://127.0.0.1:8000/predict/\")\n",
    "\n",
    "   Esto se creo asi:\n",
    "   * ![api_4](_image/api4.png) \n",
    "   \n",
    "   * ![api_5](_image/api5.png) \n",
    "3. \n",
    "\n",
    "![api_7](_image/api7.png) \n",
    "\n",
    "![api_8](_image/api8.png) \n",
    "\n",
    "![api_9](_image/api9.png) \n"
   ]
  },
  {
   "cell_type": "markdown",
   "metadata": {},
   "source": [
    "Se le da enviar para obtener la prediccion y la prueba de la api"
   ]
  },
  {
   "cell_type": "markdown",
   "metadata": {},
   "source": [
    "## Subir a la nube\n",
    "\n",
    "\n",
    "## Instalar Docker \n",
    "## Crear requierements.txt\n",
    "\n",
    "(ml_venv) C:\\Users\\cdeor\\OneDrive\\Escritorio\\api>pip freeze > requirements.txt\n",
    "\n",
    "## Crear Dockerfile\n"
   ]
  }
 ],
 "metadata": {
  "kernelspec": {
   "display_name": "ml_venv",
   "language": "python",
   "name": "python3"
  },
  "language_info": {
   "codemirror_mode": {
    "name": "ipython",
    "version": 3
   },
   "file_extension": ".py",
   "mimetype": "text/x-python",
   "name": "python",
   "nbconvert_exporter": "python",
   "pygments_lexer": "ipython3",
   "version": "3.9.19"
  }
 },
 "nbformat": 4,
 "nbformat_minor": 2
}
