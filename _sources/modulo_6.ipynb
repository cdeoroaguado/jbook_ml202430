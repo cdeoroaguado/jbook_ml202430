{
 "cells": [
  {
   "cell_type": "markdown",
   "metadata": {},
   "source": [
    "# **Módulo 6: Machine Learning**\n",
    "\n",
    "**Machine Learning** (ML), o aprendizaje automático, es una rama de la inteligencia artificial (IA) que se enfoca en construir sistemas capaces de aprender y mejorar automáticamente a partir de los datos sin necesidad de ser programados de manera explícita. Estos sistemas permiten identificar patrones y tomar decisiones basadas en grandes volúmenes de datos, aplicándose en diversas áreas como la clasificación de imágenes, la predicción de ventas o la personalización de recomendaciones.\n",
    "\n",
    "Uno de los algoritmos más simples y utilizados en Machine Learning es la **regresión lineal**, que permite predecir una variable continua a partir de la relación entre una variable dependiente y una o más variables independientes. Cuando se consideran múltiples variables independientes, se utiliza la **regresión múltiple** para mejorar las predicciones. A medida que los datos se vuelven más complejos, es importante aplicar técnicas como la **regresión Ridge** y **Lasso**, que introducen penalizaciones para evitar el sobreajuste y mejorar la regularización de los modelos. Ridge tiende a minimizar la magnitud de los coeficientes, mientras que Lasso puede reducir algunos de estos coeficientes a cero, facilitando la selección de las características más relevantes.\n",
    "\n",
    "En el ámbito de la clasificación, uno de los algoritmos más comunes es **Naive Bayes**, un modelo probabilístico basado en el teorema de Bayes que resulta especialmente útil para problemas donde se puede asumir independencia entre las características, como la clasificación de texto o el filtrado de correos no deseados. Otro algoritmo utilizado para clasificación es **K-Vecinos Más Cercanos (K-NN)**, que clasifica los nuevos datos en función de la cercanía a sus vecinos más cercanos, lo cual lo convierte en un enfoque intuitivo pero potencialmente costoso cuando se maneja un gran volumen de datos.\n",
    "\n",
    "Para abordar problemas más complejos que requieren modelos más potentes, se utilizan algoritmos avanzados como las **Máquinas de Soporte Vectorial (SVM)**, que buscan un hiperplano óptimo para separar las clases en un espacio de características. También destacan los modelos basados en árboles, como **Random Forest**, que combina varios árboles de decisión para mejorar la precisión y robustez del modelo, reduciendo el riesgo de sobreajuste. Un modelo de gran eficacia es **XGBoost**, una técnica de boosting que construye modelos secuenciales de árboles de decisión, lo que lo hace altamente eficiente y efectivo en grandes volúmenes de datos.\n",
    "\n",
    "La correcta **evaluación del modelo** es fundamental para garantizar que no solo funcione bien en los datos de entrenamiento, sino que también pueda generalizarse a datos nuevos. Este proceso incluye dividir los datos en conjuntos de entrenamiento y prueba, o utilizar validación cruzada. Las métricas más comunes para evaluar el rendimiento del modelo varían según el tipo de problema. En el caso de la regresión, se suelen utilizar métricas como el error cuadrático medio (MSE), el error absoluto medio (MAE) y el coeficiente de determinación (R²). Para la clasificación, se emplean métricas como la exactitud, la precisión, la recuperación (recall), la F1-Score y la curva ROC-AUC, que permiten medir la capacidad del modelo para distinguir entre las diferentes clases.\n",
    "\n",
    "Finalmente, las **redes neuronales** son modelos avanzados inspirados en la estructura del cerebro humano, que permiten resolver problemas complejos y no lineales. Estas redes están compuestas por capas de neuronas artificiales que transforman los datos a través de cálculos matemáticos. Las redes neuronales han demostrado ser especialmente útiles en aplicaciones como el reconocimiento de imágenes, el procesamiento de lenguaje natural y el análisis de grandes volúmenes de datos."
   ]
  },
  {
   "cell_type": "markdown",
   "metadata": {},
   "source": [
    "## Arthur Samuel: Pionero del Aprendizaje Automático y la Inteligencia Artificial\n",
    "\n",
    "Arthur Samuel fue un visionario en el campo de la inteligencia artificial y la computación. Nacido en 1901, Samuel se graduó en ingeniería eléctrica y comenzó su carrera trabajando en IBM, donde se convirtió en uno de los pioneros del desarrollo de software y en uno de los primeros en explorar el potencial de las máquinas para \"aprender\" por sí mismas. A través de su trabajo, sentó las bases de lo que hoy conocemos como **aprendizaje automático** (*Machine Learning*).\n",
    "\n",
    "El logro más reconocido de Samuel fue el desarrollo del programa **\"Jugador de Damas\"** en 1959, donde utilizó conceptos de lo que más tarde se llamaría **aprendizaje por refuerzo** y **algoritmos heurísticos**. Su programa no solo jugaba a las damas, sino que también era capaz de mejorar su habilidad con el tiempo, jugando contra sí mismo y aprendiendo de sus errores. Lo innovador de este enfoque fue que permitía que el programa ajustara sus estrategias con base en la retroalimentación de las partidas previas, optimizando su desempeño sin intervención humana directa.\n",
    "\n",
    "Samuel también fue uno de los primeros en utilizar el término **\"aprendizaje automático\"**, lo que indica su clara visión de que las máquinas podrían, algún día, desarrollar la capacidad de aprender de manera similar a los humanos. Este concepto marcó un punto de inflexión en la historia de la informática y la IA, ya que introdujo la idea de que las computadoras podían ser programadas no solo para ejecutar tareas específicas, sino también para **aprender y adaptarse** a nuevas situaciones y mejorar su rendimiento a medida que acumulaban experiencia.\n",
    "\n",
    "El impacto de Arthur Samuel se extiende más allá de su programa de damas. Su trabajo inspiró a generaciones de investigadores en inteligencia artificial y aprendizaje automático, y es recordado como uno de los primeros en abrir el camino para el desarrollo de sistemas de IA modernos que, como los humanos, pueden aprender y mejorar a través de la experiencia. Gracias a sus contribuciones, Samuel es reconocido como uno de los **padres fundadores de la inteligencia artificial**.\n",
    "\n",
    "![arthur](_image/arthut.jpg) "
   ]
  },
  {
   "cell_type": "markdown",
   "metadata": {},
   "source": [
    "## Generalización, sobreajuste y subajuste\n",
    "\n",
    "En el **aprendizaje supervisado**, el objetivo principal es construir un modelo a partir de los datos de entrenamiento y que este sea capaz de realizar **predicciones precisas** sobre datos desconocidos que tengan las mismas características que el conjunto de entrenamiento utilizado. Si un modelo es capaz de hacer predicciones acertadas sobre datos nuevos, decimos que tiene la capacidad de **generalizar** desde el conjunto de **entrenamiento** al conjunto de **prueba**. Nuestro objetivo es construir un modelo que pueda **generalizar** con la mayor precisión posible.\n",
    "\n",
    "Por lo general, entrenamos un modelo de manera que sea preciso en el conjunto de entrenamiento. Si los conjuntos de **entrenamiento** y de **prueba** comparten suficientes similitudes, esperamos que el modelo también funcione bien en el conjunto de prueba. Sin embargo, esto no siempre es así. Si construimos modelos demasiado complejos, podemos lograr un ajuste perfecto en el conjunto de entrenamiento, pero esto no garantiza que el modelo generalice bien a datos nuevos, lo que lleva a un fenómeno conocido como **sobreajuste**.\n",
    "\n",
    "El **sobreajuste (overfitting)** ocurre cuando el modelo se ajusta demasiado a las particularidades y ruido del conjunto de entrenamiento, lo que resulta en un modelo que tiene un rendimiento excelente en dicho conjunto, pero falla al enfrentarse a datos no vistos. Por el contrario, si el modelo es demasiado simple, podría no capturar adecuadamente la complejidad y variabilidad de los datos, causando un mal desempeño tanto en el conjunto de entrenamiento como en el de prueba. Esta situación se conoce como **subajuste (underfitting)**.\n",
    "\n",
    "El desafío en el aprendizaje supervisado es encontrar un balance adecuado entre un modelo demasiado simple y uno excesivamente complejo, de modo que pueda generalizar correctamente y ofrecer un rendimiento sólido en datos nuevos.\n",
    "\n",
    "![overunder](_image/overunder.png) "
   ]
  },
  {
   "cell_type": "markdown",
   "metadata": {},
   "source": [
    ":::{admonition} **Observación**\n",
    ":class: warning\n",
    "\n",
    "- **Cuanto más complejo permitimos que sea nuestro modelo, mejor podremos predecir en los datos de entrenamiento**. Sin embargo, si nuestro **modelo se vuelve demasiado complejo**, empezamos a **centrarnos demasiado en cada punto de datos individual de nuestro conjunto de entrenamiento**, y el modelo **no se generalizará correctamente con nuevos datos**. \n",
    "- Hay un **punto intermedio (sweet spot)** en el que se obtiene el mejor rendimiento de generalización. Este es el modelo que queremos encontrar. El **equilibrio entre el overfitting y underfitting**.\n",
    "\n",
    ":::"
   ]
  },
  {
   "cell_type": "markdown",
   "metadata": {},
   "source": [
    "![sweet_spot](_image/sweet_spot.png) "
   ]
  },
  {
   "cell_type": "markdown",
   "metadata": {},
   "source": [
    "## **Regresión**\n",
    "\n",
    "La **regresión** es una técnica estadística y de aprendizaje automático utilizada para modelar la relación entre una **variable dependiente** (o respuesta) y una o más **variables independientes** (o predictoras). El objetivo principal de la regresión es predecir el valor de la variable dependiente en función de los valores de las variables independientes, o entender cómo las variables independientes influyen en la variable dependiente.\n",
    "\n",
    "Existen varios tipos de regresión, siendo los más comunes la **regresión lineal** y la **regresión no lineal**, que se seleccionan en función de la relación entre las variables.\n",
    "\n",
    "### Tipos de regresión\n",
    "\n",
    "1. **Regresión lineal**: Este es el tipo más básico de regresión, donde se asume que la relación entre la variable dependiente y las variables independientes es lineal. Se busca ajustar una línea recta que mejor represente los datos, minimizando la distancia entre los puntos de los datos y la línea ajustada. La **regresión lineal simple** involucra solo una variable independiente, mientras que la **regresión lineal múltiple** involucra varias variables independientes.\n",
    "\n",
    "2. **Regresión polinómica**: Se utiliza cuando la relación entre la variable dependiente y las variables independientes no es lineal. En este caso, se ajusta una curva polinómica que puede capturar mejor las variaciones no lineales en los datos.\n",
    "\n",
    "3. **Regresión Ridge y Lasso**: Son variaciones de la regresión lineal que incluyen regularización para evitar el sobreajuste. **Ridge** agrega una penalización a la magnitud de los coeficientes del modelo, mientras que **Lasso** no solo penaliza los coeficientes, sino que también puede llevar algunos de ellos a cero, lo que resulta en la selección automática de características."
   ]
  },
  {
   "cell_type": "markdown",
   "metadata": {},
   "source": [
    "### **Modelo de regresión lineal**\n",
    "\n",
    "El objetivo principal de la regresión es encontrar los **coeficientes** que mejor ajusten el modelo, minimizando el **error** o la diferencia entre los valores predichos y los valores reales. \n",
    "\n",
    "El modelo tiene la forma:\n",
    "\n",
    "$$\n",
    "\\boldsymbol{y}=\\boldsymbol{X}\\boldsymbol{\\beta}+\\boldsymbol{\\varepsilon},\n",
    "$$ (linear_reg)\n",
    "\n",
    "este se denomina, `modelo de regresión lineal` clásico, si se cumplen los siguientes supuestos:\n",
    "\n",
    "- $E(\\boldsymbol{\\varepsilon})=\\boldsymbol{0}$\n",
    "- $Cov(\\boldsymbol{\\varepsilon})=E(\\boldsymbol{\\varepsilon}\\boldsymbol{\\varepsilon}^{T})=\\sigma^{2}\\boldsymbol{I}$\n",
    "- La matriz de diseño $\\boldsymbol{X}$ tiene rango completo, es decir $\\textrm{rk}(\\boldsymbol{X})=p+1$\n",
    "- El `modelo de regresión normal` clasico es obtenido si adicionalmente  se tiene que $\\boldsymbol{\\varepsilon}\\sim N(\\boldsymbol{0}, \\sigma^{2}\\boldsymbol{I})$. \n",
    "- El `modelo de regresión lineal` {eq}`linear_reg` puede escribirse en la siguiente forma\n",
    "\n",
    "$$\n",
    "\\begin{pmatrix}\n",
    "y_{1}\\\\\n",
    "y_{2}\\\\\n",
    "\\vdots\\\\\n",
    "y_{i}\\\\\n",
    "\\vdots\\\\\n",
    "y_{n}\n",
    "\\end{pmatrix}\n",
    "=\n",
    "\\begin{pmatrix}\n",
    "1 & x_{11} & x_{12} & \\cdots & x_{1p}\\\\\n",
    "1 & x_{21} & x_{22} & \\cdots & x_{2p}\\\\\n",
    "\\vdots & \\vdots & \\vdots & \\ddots & \\vdots\\\\\n",
    "1 & x_{i1} & x_{i2} & \\cdots & x_{ip}\\\\\n",
    "\\vdots & \\vdots & \\vdots & \\ddots & \\vdots\\\\\n",
    "1 & x_{n1} & x_{n2} & \\cdots & x_{np}\n",
    "\\end{pmatrix}\n",
    "\\begin{pmatrix}\n",
    "\\beta_{0}\\\\[2mm]\n",
    "\\beta_{1}\\\\[2mm]\n",
    "\\beta_{2}\\\\\n",
    "\\vdots\\\\[2mm]\n",
    "\\beta_{p}\n",
    "\\end{pmatrix}\n",
    "+\n",
    "\\begin{pmatrix}\n",
    "\\varepsilon_{1}\\\\\n",
    "\\varepsilon_{2}\\\\\n",
    "\\vdots\\\\\n",
    "\\varepsilon_{i}\\\\\n",
    "\\vdots\\\\\n",
    "\\varepsilon_{n}\n",
    "\\end{pmatrix}\n",
    "$$ (linear_reg_mat)\n",
    "\n",
    "- En el curso de `modelos lineales` se estudian estimaciones del vector de coeficientes de regresión $\\boldsymbol{\\beta}$ utilizando método de `mínimos cuadrados` y `máxima verosimilitud`."
   ]
  },
  {
   "cell_type": "markdown",
   "metadata": {},
   "source": [
    "- A partir del sistema {eq}`linear_reg_mat`, se puede observar que la $i$-esima predicción para un modelo lineal es la siguiente:\n",
    "\n",
    "$$\n",
    "\\hat{y}_{i}=\\hat{\\beta}_{0}+\\hat{\\beta}_{1}\\cdot x_{i1}+\\hat{\\beta}_{2}\\cdot x_{i2}+\\cdots+\\hat{\\beta}_{p}\\cdot x_{ip}=\\boldsymbol{\\hat{\\beta}}^{T}\\boldsymbol{x}_{i},~i = 1,2,\\dots, n.\n",
    "$$"
   ]
  },
  {
   "cell_type": "markdown",
   "metadata": {},
   "source": [
    "- Aquí, $x_{i1},\\dots, x_{ip}$ denotan las `variables predictoras` o características (en este ejemplo, el número de características es $p$). Los valores, $\\hat{\\beta}_{i},~i=0,1,\\dots,p$, son lo parámetros aprendidos por el modelo y $\\hat{y}_{i}$ es la predicción obtenida por el modelo. Para un conjunto de datos con una sola característica"
   ]
  },
  {
   "cell_type": "markdown",
   "metadata": {},
   "source": [
    "$$\n",
    "\\hat{y}_{i} = \\hat{\\beta}_{0}+\\hat{\\beta}_{1}\\cdot x_{i1},~i=1,2,\\dots,n.\n",
    "$$"
   ]
  },
  {
   "cell_type": "markdown",
   "metadata": {},
   "source": [
    "- Aquí, $\\hat{\\beta}_{1}$ es la pendiente y $\\hat{\\beta}_{0}$ es el desplazamiento en el eje $y$. Para más características, $\\boldsymbol{\\hat{\\beta}}$ contiene las pendientes a lo largo de cada eje de características. Alternativamente, se puede pensar en la respuesta predicha como una suma ponderada de las características de entrada, con pesos (que pueden ser negativos) dados por las entradas de $\\boldsymbol{\\hat{\\beta}}$."
   ]
  },
  {
   "cell_type": "markdown",
   "metadata": {},
   "source": [
    "Veamos una idea visual de la regresión lineal simple\n",
    "\n",
    "![MRL1](_image/MRL_1.png) \n",
    "\n",
    "![MRL2](_image/MRL_2.png) \n",
    "\n",
    "![MRL3](_image/MRL_3.png) \n",
    "\n",
    "![MRL4](_image/MRL_4.png) "
   ]
  },
  {
   "cell_type": "markdown",
   "metadata": {},
   "source": [
    "#### **Ejemplo de regresión lineal simple (Salario)**\n",
    "\n",
    "El siguiente  conjunto de datos relaciona los años de experiencia laboral con los salarios percibidos por empleados. Estas dos variables ofrecen una perspectiva clave para entender cómo la experiencia profesional puede influir en la remuneración en el contexto laboral.\n",
    "\n",
    "Las columnas presentes en el archivo son:\n",
    "\n",
    "1. **YearsExperience**: Indica los años de experiencia acumulada por un empleado. Esta variable podría ser útil para evaluar el crecimiento salarial promedio según la trayectoria laboral.\n",
    "   \n",
    "2. **Salary**: Refleja el salario anual correspondiente a esos años de experiencia. Este dato permite analizar la progresión del salario a medida que los empleados ganan más años de experiencia, lo que podría ser útil para modelos predictivos de salario.\n",
    "\n",
    "Este tipo de información suele ser relevante en estudios de recursos humanos, análisis de mercado laboral, o al construir modelos de regresión que estimen el salario en función de los años de experiencia, ayudando a identificar patrones o desigualdades salariales."
   ]
  },
  {
   "cell_type": "markdown",
   "metadata": {},
   "source": [
    "1) Importemos las librerias"
   ]
  },
  {
   "cell_type": "code",
   "execution_count": 21,
   "metadata": {},
   "outputs": [],
   "source": [
    "import numpy as np  # Importa la librería NumPy para operaciones matemáticas avanzadas.\n",
    "import matplotlib.pyplot as plt  # Importa Matplotlib para visualización de datos.\n",
    "import pandas as pd  # Importa pandas para manipulación y análisis de datos.\n",
    "import seaborn as sns # Importa seaborn para la visualizacion de datos\n",
    "import warnings # Importa warnings para las advertencia\n",
    "\n",
    "# Importa funciones de Scikit-learn para dividir el conjunto de datos y aplicar regresión lineal.\n",
    "from sklearn.model_selection import train_test_split\n",
    "from sklearn.linear_model import LinearRegression\n",
    "\n",
    "# Importa la librería Statsmodels para ajustar modelos de regresión con más opciones estadísticas.\n",
    "import statsmodels.formula.api as smf"
   ]
  },
  {
   "cell_type": "markdown",
   "metadata": {},
   "source": [
    "2. Carguemos los datos"
   ]
  },
  {
   "cell_type": "code",
   "execution_count": 10,
   "metadata": {},
   "outputs": [],
   "source": [
    "# Cargar el archivo CSV para inspeccionar su contenido\n",
    "file_path = 'C:/Users/cdeor/OneDrive/Documentos/MachineLearningDipSerfinanzas/jbook_ml202430/docs/_data/dataml/Salary_Data.csv'\n",
    "df_salary = pd.read_csv(file_path)"
   ]
  },
  {
   "cell_type": "markdown",
   "metadata": {},
   "source": [
    "3. Procedemos a realizar un **análisis exploratorio de datos** para investigar y resumir principales características de nuestros datos. "
   ]
  },
  {
   "cell_type": "code",
   "execution_count": 11,
   "metadata": {},
   "outputs": [
    {
     "data": {
      "text/html": [
       "<div>\n",
       "<style scoped>\n",
       "    .dataframe tbody tr th:only-of-type {\n",
       "        vertical-align: middle;\n",
       "    }\n",
       "\n",
       "    .dataframe tbody tr th {\n",
       "        vertical-align: top;\n",
       "    }\n",
       "\n",
       "    .dataframe thead th {\n",
       "        text-align: right;\n",
       "    }\n",
       "</style>\n",
       "<table border=\"1\" class=\"dataframe\">\n",
       "  <thead>\n",
       "    <tr style=\"text-align: right;\">\n",
       "      <th></th>\n",
       "      <th>YearsExperience</th>\n",
       "      <th>Salary</th>\n",
       "    </tr>\n",
       "  </thead>\n",
       "  <tbody>\n",
       "    <tr>\n",
       "      <th>0</th>\n",
       "      <td>1.1</td>\n",
       "      <td>39343.0</td>\n",
       "    </tr>\n",
       "    <tr>\n",
       "      <th>1</th>\n",
       "      <td>1.3</td>\n",
       "      <td>46205.0</td>\n",
       "    </tr>\n",
       "    <tr>\n",
       "      <th>2</th>\n",
       "      <td>1.5</td>\n",
       "      <td>37731.0</td>\n",
       "    </tr>\n",
       "    <tr>\n",
       "      <th>3</th>\n",
       "      <td>2.0</td>\n",
       "      <td>43525.0</td>\n",
       "    </tr>\n",
       "    <tr>\n",
       "      <th>4</th>\n",
       "      <td>2.2</td>\n",
       "      <td>39891.0</td>\n",
       "    </tr>\n",
       "  </tbody>\n",
       "</table>\n",
       "</div>"
      ],
      "text/plain": [
       "   YearsExperience   Salary\n",
       "0              1.1  39343.0\n",
       "1              1.3  46205.0\n",
       "2              1.5  37731.0\n",
       "3              2.0  43525.0\n",
       "4              2.2  39891.0"
      ]
     },
     "execution_count": 11,
     "metadata": {},
     "output_type": "execute_result"
    }
   ],
   "source": [
    "# Mostrar las primeras filas del conjunto de datos para entender su estructura\n",
    "df_salary.head()"
   ]
  },
  {
   "cell_type": "code",
   "execution_count": 22,
   "metadata": {},
   "outputs": [
    {
     "name": "stdout",
     "output_type": "stream",
     "text": [
      "<class 'pandas.core.frame.DataFrame'>\n",
      "RangeIndex: 30 entries, 0 to 29\n",
      "Data columns (total 2 columns):\n",
      " #   Column           Non-Null Count  Dtype  \n",
      "---  ------           --------------  -----  \n",
      " 0   YearsExperience  30 non-null     float64\n",
      " 1   Salary           30 non-null     float64\n",
      "dtypes: float64(2)\n",
      "memory usage: 608.0 bytes\n"
     ]
    }
   ],
   "source": [
    "# Mostrar la información\n",
    "df_salary.info()"
   ]
  },
  {
   "cell_type": "code",
   "execution_count": 25,
   "metadata": {},
   "outputs": [
    {
     "data": {
      "text/plain": [
       "(30, 2)"
      ]
     },
     "execution_count": 25,
     "metadata": {},
     "output_type": "execute_result"
    }
   ],
   "source": [
    "# tamaño de los datos\n",
    "df_salary.shape"
   ]
  },
  {
   "cell_type": "markdown",
   "metadata": {},
   "source": [
    "El método `DataFrame.describe()` genera estadísticos descriptivos que resumen la **tendencia central**, la **dispersión** y la **forma de la distribución** de un conjunto de datos, excluyendo los valores `NaN`. Este método es útil para obtener una visión general del comportamiento de los datos numéricos dentro del DataFrame.\n",
    "\n",
    "Algunos de los estadísticos que se generan incluyen:\n",
    "\n",
    "- **Conteo (count)**: La cantidad de valores no nulos.\n",
    "- **Promedio (mean)**: El valor promedio de la columna.\n",
    "- **Desviación estándar (std)**: La medida de dispersión o variabilidad de los datos.\n",
    "- **Mínimo (min)** y **máximo (max)**: Los valores más extremos.\n",
    "- **Cuartiles (25%, 50%, 75%)**: Los valores que dividen los datos en cuatro partes iguales.\n",
    "\n",
    "Es importante destacar que el método `describe()` **solo trabaja con valores numéricos** por defecto. Si el DataFrame contiene alguna columna categórica, el método la ignorará y solo mostrará el resumen de las columnas numéricas. Sin embargo, puedes incluir un resumen para todas las columnas, incluidas las categóricas, pasando el parámetro `include=\"all\"`.\n"
   ]
  },
  {
   "cell_type": "code",
   "execution_count": 12,
   "metadata": {},
   "outputs": [
    {
     "data": {
      "text/html": [
       "<div>\n",
       "<style scoped>\n",
       "    .dataframe tbody tr th:only-of-type {\n",
       "        vertical-align: middle;\n",
       "    }\n",
       "\n",
       "    .dataframe tbody tr th {\n",
       "        vertical-align: top;\n",
       "    }\n",
       "\n",
       "    .dataframe thead th {\n",
       "        text-align: right;\n",
       "    }\n",
       "</style>\n",
       "<table border=\"1\" class=\"dataframe\">\n",
       "  <thead>\n",
       "    <tr style=\"text-align: right;\">\n",
       "      <th></th>\n",
       "      <th>YearsExperience</th>\n",
       "      <th>Salary</th>\n",
       "    </tr>\n",
       "  </thead>\n",
       "  <tbody>\n",
       "    <tr>\n",
       "      <th>count</th>\n",
       "      <td>30.000000</td>\n",
       "      <td>30.000000</td>\n",
       "    </tr>\n",
       "    <tr>\n",
       "      <th>mean</th>\n",
       "      <td>5.313333</td>\n",
       "      <td>76003.000000</td>\n",
       "    </tr>\n",
       "    <tr>\n",
       "      <th>std</th>\n",
       "      <td>2.837888</td>\n",
       "      <td>27414.429785</td>\n",
       "    </tr>\n",
       "    <tr>\n",
       "      <th>min</th>\n",
       "      <td>1.100000</td>\n",
       "      <td>37731.000000</td>\n",
       "    </tr>\n",
       "    <tr>\n",
       "      <th>25%</th>\n",
       "      <td>3.200000</td>\n",
       "      <td>56720.750000</td>\n",
       "    </tr>\n",
       "    <tr>\n",
       "      <th>50%</th>\n",
       "      <td>4.700000</td>\n",
       "      <td>65237.000000</td>\n",
       "    </tr>\n",
       "    <tr>\n",
       "      <th>75%</th>\n",
       "      <td>7.700000</td>\n",
       "      <td>100544.750000</td>\n",
       "    </tr>\n",
       "    <tr>\n",
       "      <th>max</th>\n",
       "      <td>10.500000</td>\n",
       "      <td>122391.000000</td>\n",
       "    </tr>\n",
       "  </tbody>\n",
       "</table>\n",
       "</div>"
      ],
      "text/plain": [
       "       YearsExperience         Salary\n",
       "count        30.000000      30.000000\n",
       "mean          5.313333   76003.000000\n",
       "std           2.837888   27414.429785\n",
       "min           1.100000   37731.000000\n",
       "25%           3.200000   56720.750000\n",
       "50%           4.700000   65237.000000\n",
       "75%           7.700000  100544.750000\n",
       "max          10.500000  122391.000000"
      ]
     },
     "execution_count": 12,
     "metadata": {},
     "output_type": "execute_result"
    }
   ],
   "source": [
    "# Generar estadísticos descriptivos con salary_data\n",
    "df_salary.describe()"
   ]
  },
  {
   "cell_type": "markdown",
   "metadata": {},
   "source": [
    "4. Verifiquemos además si existen datos faltantes en nuestro conjunto de datos"
   ]
  },
  {
   "cell_type": "code",
   "execution_count": 13,
   "metadata": {},
   "outputs": [
    {
     "data": {
      "text/plain": [
       "YearsExperience    0\n",
       "Salary             0\n",
       "dtype: int64"
      ]
     },
     "execution_count": 13,
     "metadata": {},
     "output_type": "execute_result"
    }
   ],
   "source": [
    "df_salary.isnull().sum()"
   ]
  },
  {
   "cell_type": "markdown",
   "metadata": {},
   "source": [
    "5. Realicemos un diagrama de cajas y bigotes para el salario"
   ]
  },
  {
   "cell_type": "code",
   "execution_count": 19,
   "metadata": {},
   "outputs": [
    {
     "data": {
      "image/png": "[encoded data removed]",
      "text/plain": [
       "<Figure size 700x500 with 1 Axes>"
      ]
     },
     "metadata": {},
     "output_type": "display_data"
    }
   ],
   "source": [
    "# Ignorar advertencias de futuras versiones\n",
    "warnings.filterwarnings('ignore') \n",
    "\n",
    "# # Establecer el estilo de las gráficas como 'whitegrid'\n",
    "sns.set_style(\"whitegrid\")\n",
    "\n",
    "# Diagrama de cajas y bigotes para 'Salary'\n",
    "plt.figure(figsize=(7, 5))\n",
    "sns.boxplot(y=df_salary['Salary'])\n",
    "plt.title('Diagrama de Cajas y Bigotes - Salario')\n",
    "plt.show()"
   ]
  },
  {
   "cell_type": "markdown",
   "metadata": {},
   "source": [
    "Este gráfico muestra la distribución de los salarios en el conjunto de datos. Podemos observar lo siguiente:\n",
    "- La mayor concentración de salarios está en el rango entre 50,000 y 100,000 unidades monetarias.\n",
    "- La mediana se encuentra alrededor de los 70,000, lo que indica que la mitad de los salarios están por debajo de este valor."
   ]
  },
  {
   "cell_type": "code",
   "execution_count": 26,
   "metadata": {},
   "outputs": [
    {
     "data": {
      "image/png": "[encoded data removed]",
      "text/plain": [
       "<Figure size 700x500 with 1 Axes>"
      ]
     },
     "metadata": {},
     "output_type": "display_data"
    }
   ],
   "source": [
    "# Ignorar advertencias de futuras versiones\n",
    "warnings.filterwarnings('ignore') \n",
    "\n",
    "# # Establecer el estilo de las gráficas como 'whitegrid'\n",
    "sns.set_style(\"whitegrid\")\n",
    "\n",
    "# Diagrama de cajas y bigotes para 'YearsExperience'\n",
    "plt.figure(figsize=(7, 5))\n",
    "sns.boxplot(y=df_salary['YearsExperience'])\n",
    "plt.title('Diagrama de Cajas y Bigotes - Años de Experiencia')\n",
    "plt.show()"
   ]
  },
  {
   "cell_type": "markdown",
   "metadata": {},
   "source": [
    "Este gráfico muestra la distribución de los años de experiencia:\n",
    "- La mayoría de los empleados tiene entre 2 y 7 años de experiencia.\n",
    "- No se observan valores atípicos destacados en la variable de años de experiencia.\n",
    "- La mediana se encuentra alrededor de los 5 años de experiencia, lo que sugiere que el conjunto de datos está centrado en empleados con experiencia moderada."
   ]
  },
  {
   "cell_type": "code",
   "execution_count": 27,
   "metadata": {},
   "outputs": [
    {
     "data": {
      "image/png": "[encoded data removed]",
      "text/plain": [
       "<Figure size 700x500 with 1 Axes>"
      ]
     },
     "metadata": {},
     "output_type": "display_data"
    }
   ],
   "source": [
    "# Gráfico de dispersión de 'Salary' vs 'YearsExperience'\n",
    "plt.figure(figsize=(7, 5))\n",
    "sns.scatterplot(x='YearsExperience', y='Salary', data=salary_data)\n",
    "plt.title('Gráfico de Dispersión - Salario vs Años de Experiencia')\n",
    "plt.show()"
   ]
  },
  {
   "cell_type": "markdown",
   "metadata": {},
   "source": [
    "El gráfico de dispersión nos muestra cómo se relacionan los años de experiencia con el salario:\n",
    "- Existe una clara tendencia positiva: a medida que los empleados tienen más años de experiencia, su salario tiende a aumentar.\n",
    "- Sin embargo, parece haber cierta dispersión en los salarios para aquellos con más experiencia, lo que indica que el crecimiento salarial no es lineal ni uniforme en todos los casos."
   ]
  },
  {
   "cell_type": "code",
   "execution_count": 24,
   "metadata": {},
   "outputs": [
    {
     "data": {
      "image/png": "[encoded data removed]",
      "text/plain": [
       "<Figure size 700x500 with 2 Axes>"
      ]
     },
     "metadata": {},
     "output_type": "display_data"
    }
   ],
   "source": [
    "# Mapa de calor de las correlaciones\n",
    "plt.figure(figsize=(7, 5))\n",
    "correlation_matrix = df_salary.corr()\n",
    "sns.heatmap(correlation_matrix, annot=True, cmap='coolwarm_r', vmin=-1, vmax=1)\n",
    "plt.title('Mapa de Calor de Correlaciones')\n",
    "plt.show()"
   ]
  },
  {
   "cell_type": "markdown",
   "metadata": {},
   "source": [
    "Este mapa de calor visualiza las correlaciones entre las variables **Salary** y **YearsExperience**:\n",
    "- La correlación entre ambas variables es alta y positiva (+0.97), lo que confirma que los empleados con más años de experiencia suelen tener salarios más altos.\n",
    "- Este fuerte coeficiente sugiere que la experiencia laboral es un predictor clave del salario, lo que podría ser relevante para modelos de predicción."
   ]
  },
  {
   "cell_type": "markdown",
   "metadata": {},
   "source": [
    "4. **Ajuste del modelo**:\n",
    "Se ajusta un modelo de regresión lineal utilizando `Salary` como variable respuesta y `YearsExperience` como variable predictora. En cualquier estudio predictivo, no solo es esencial ajustar el modelo, sino también evaluar su capacidad para predecir correctamente nuevas observaciones. Para realizar esta evaluación de manera adecuada, los datos se dividen en dos grupos: uno destinado al entrenamiento del modelo y otro reservado para pruebas, lo que permite validar su rendimiento en datos no utilizados durante el ajuste del modelo."
   ]
  },
  {
   "cell_type": "code",
   "execution_count": 28,
   "metadata": {},
   "outputs": [],
   "source": [
    "# División de los datos en conjuntos de entrenamiento y prueba\n",
    "# ==============================================================================\n",
    "# X contiene la variable predictora 'YearsExperience' y y es la variable objetivo 'Salary'.\n",
    "X = df_salary[['YearsExperience']]\n",
    "y = df_salary['Salary']"
   ]
  },
  {
   "cell_type": "code",
   "execution_count": 29,
   "metadata": {},
   "outputs": [],
   "source": [
    "# Se divide el conjunto de datos en un 80% para entrenamiento y un 20% para prueba.\n",
    "# random_state = 1 asegura que la división sea reproducible.\n",
    "# shuffle = True indica que los datos se mezclarán antes de dividirse.\n",
    "X_train, X_test, y_train, y_test = train_test_split(\n",
    "                                        X,               # Variables predictoras\n",
    "                                        y,               # Variable objetivo\n",
    "                                        train_size   = 0.8,  # Tamaño del conjunto de entrenamiento\n",
    "                                        random_state = 42,    # Para obtener resultados reproducibles\n",
    "                                        shuffle      = True  # Mezclar los datos antes de dividir\n",
    "                                    )"
   ]
  },
  {
   "cell_type": "markdown",
   "metadata": {},
   "source": [
    ":::{admonition} **Observación**\n",
    ":class: warning\n",
    "\n",
    "* El número `42` es comúnmente elegido en la literatura relacionada con la **inteligencia artificial** (AI) como un homenaje al libro de Douglas Adams, *[The Hitchhiker's Guide to the Galaxy](https://en.wikipedia.org/wiki/Phrases_from_The_Hitchhiker%27s_Guide_to_the_Galaxy#The_number_42)*, una popular serie de ciencia ficción. En este libro, el número 42 es presentado como la respuesta a la gran pregunta sobre “la vida, el universo y todo lo demás”, según los cálculos de un superordenador llamado **\"Deep Thought\"**. Esta referencia ha ganado notoriedad tanto entre los aficionados al género como entre los miembros de la comunidad científica.\n",
    "\n",
    "* En el contexto de la programación, el parámetro `random_state` puede tomar cualquier número entero. Si bien se suele utilizar `42` por razones simbólicas, en realidad cualquier entero positivo es válido. Además, se podría realizar un `grid search` para encontrar el valor de `random_state` que proporcione el mejor rendimiento del modelo. Más adelante, abordaremos el uso de **GridSearch**.\n",
    "\n",
    "* Es importante tener en cuenta que, si no se establece un valor específico para `random_state`, como `42` u otro número entero, cada vez que se ejecute el código, se generará un conjunto de prueba diferente, lo que puede afectar la reproducibilidad de los resultados.\n",
    "\n",
    ":::"
   ]
  },
  {
   "cell_type": "code",
   "execution_count": 32,
   "metadata": {},
   "outputs": [
    {
     "data": {
      "text/html": [
       "<style>#sk-container-id-2 {color: black;}#sk-container-id-2 pre{padding: 0;}#sk-container-id-2 div.sk-toggleable {background-color: white;}#sk-container-id-2 label.sk-toggleable__label {cursor: pointer;display: block;width: 100%;margin-bottom: 0;padding: 0.3em;box-sizing: border-box;text-align: center;}#sk-container-id-2 label.sk-toggleable__label-arrow:before {content: \"▸\";float: left;margin-right: 0.25em;color: #696969;}#sk-container-id-2 label.sk-toggleable__label-arrow:hover:before {color: black;}#sk-container-id-2 div.sk-estimator:hover label.sk-toggleable__label-arrow:before {color: black;}#sk-container-id-2 div.sk-toggleable__content {max-height: 0;max-width: 0;overflow: hidden;text-align: left;background-color: #f0f8ff;}#sk-container-id-2 div.sk-toggleable__content pre {margin: 0.2em;color: black;border-radius: 0.25em;background-color: #f0f8ff;}#sk-container-id-2 input.sk-toggleable__control:checked~div.sk-toggleable__content {max-height: 200px;max-width: 100%;overflow: auto;}#sk-container-id-2 input.sk-toggleable__control:checked~label.sk-toggleable__label-arrow:before {content: \"▾\";}#sk-container-id-2 div.sk-estimator input.sk-toggleable__control:checked~label.sk-toggleable__label {background-color: #d4ebff;}#sk-container-id-2 div.sk-label input.sk-toggleable__control:checked~label.sk-toggleable__label {background-color: #d4ebff;}#sk-container-id-2 input.sk-hidden--visually {border: 0;clip: rect(1px 1px 1px 1px);clip: rect(1px, 1px, 1px, 1px);height: 1px;margin: -1px;overflow: hidden;padding: 0;position: absolute;width: 1px;}#sk-container-id-2 div.sk-estimator {font-family: monospace;background-color: #f0f8ff;border: 1px dotted black;border-radius: 0.25em;box-sizing: border-box;margin-bottom: 0.5em;}#sk-container-id-2 div.sk-estimator:hover {background-color: #d4ebff;}#sk-container-id-2 div.sk-parallel-item::after {content: \"\";width: 100%;border-bottom: 1px solid gray;flex-grow: 1;}#sk-container-id-2 div.sk-label:hover label.sk-toggleable__label {background-color: #d4ebff;}#sk-container-id-2 div.sk-serial::before {content: \"\";position: absolute;border-left: 1px solid gray;box-sizing: border-box;top: 0;bottom: 0;left: 50%;z-index: 0;}#sk-container-id-2 div.sk-serial {display: flex;flex-direction: column;align-items: center;background-color: white;padding-right: 0.2em;padding-left: 0.2em;position: relative;}#sk-container-id-2 div.sk-item {position: relative;z-index: 1;}#sk-container-id-2 div.sk-parallel {display: flex;align-items: stretch;justify-content: center;background-color: white;position: relative;}#sk-container-id-2 div.sk-item::before, #sk-container-id-2 div.sk-parallel-item::before {content: \"\";position: absolute;border-left: 1px solid gray;box-sizing: border-box;top: 0;bottom: 0;left: 50%;z-index: -1;}#sk-container-id-2 div.sk-parallel-item {display: flex;flex-direction: column;z-index: 1;position: relative;background-color: white;}#sk-container-id-2 div.sk-parallel-item:first-child::after {align-self: flex-end;width: 50%;}#sk-container-id-2 div.sk-parallel-item:last-child::after {align-self: flex-start;width: 50%;}#sk-container-id-2 div.sk-parallel-item:only-child::after {width: 0;}#sk-container-id-2 div.sk-dashed-wrapped {border: 1px dashed gray;margin: 0 0.4em 0.5em 0.4em;box-sizing: border-box;padding-bottom: 0.4em;background-color: white;}#sk-container-id-2 div.sk-label label {font-family: monospace;font-weight: bold;display: inline-block;line-height: 1.2em;}#sk-container-id-2 div.sk-label-container {text-align: center;}#sk-container-id-2 div.sk-container {/* jupyter's `normalize.less` sets `[hidden] { display: none; }` but bootstrap.min.css set `[hidden] { display: none !important; }` so we also need the `!important` here to be able to override the default hidden behavior on the sphinx rendered scikit-learn.org. See: https://github.com/scikit-learn/scikit-learn/issues/21755 */display: inline-block !important;position: relative;}#sk-container-id-2 div.sk-text-repr-fallback {display: none;}</style><div id=\"sk-container-id-2\" class=\"sk-top-container\"><div class=\"sk-text-repr-fallback\"><pre>LinearRegression()</pre><b>In a Jupyter environment, please rerun this cell to show the HTML representation or trust the notebook. <br />On GitHub, the HTML representation is unable to render, please try loading this page with nbviewer.org.</b></div><div class=\"sk-container\" hidden><div class=\"sk-item\"><div class=\"sk-estimator sk-toggleable\"><input class=\"sk-toggleable__control sk-hidden--visually\" id=\"sk-estimator-id-2\" type=\"checkbox\" checked><label for=\"sk-estimator-id-2\" class=\"sk-toggleable__label sk-toggleable__label-arrow\">LinearRegression</label><div class=\"sk-toggleable__content\"><pre>LinearRegression()</pre></div></div></div></div></div>"
      ],
      "text/plain": [
       "LinearRegression()"
      ]
     },
     "execution_count": 32,
     "metadata": {},
     "output_type": "execute_result"
    }
   ],
   "source": [
    "# Creación del modelo de regresión lineal\n",
    "# ==============================================================================\n",
    "# Se crea un objeto de regresión lineal utilizando la clase LinearRegression de sklearn.\n",
    "# Luego, se ajusta el modelo a los datos de entrenamiento X_train y y_train.\n",
    "modelo = LinearRegression()\n",
    "modelo.fit(X = X_train, y = y_train)"
   ]
  },
  {
   "cell_type": "markdown",
   "metadata": {},
   "source": [
    "- Los parámetros de \"pendiente\" ($\\hat{\\beta}_{i},~i=1,2,\\dots,p$), también llamados pesos o coeficientes, se almacenan en el atributo `coef_`, mientras que el desplazamiento o intercepción ($\\hat{\\beta}_{0}$) se almacena en el atributo `intercept_`:"
   ]
  },
  {
   "cell_type": "code",
   "execution_count": 31,
   "metadata": {},
   "outputs": [
    {
     "name": "stdout",
     "output_type": "stream",
     "text": [
      "lr.coef_: [9332.94473799]\n",
      "lr.intercept_: 25609.89799835482\n"
     ]
    }
   ],
   "source": [
    "print(\"lr.coef_: {}\".format(modelo.coef_))\n",
    "print(\"lr.intercept_: {}\".format(modelo.intercept_))"
   ]
  },
  {
   "cell_type": "markdown",
   "metadata": {},
   "source": [
    ":::{admonition} **Observación**\n",
    ":class: warning\n",
    "\n",
    "El guión bajo (`_`) al final de atributos como `coef_` e `intercept_` es una convención comúnmente utilizada en **scikit-learn** para indicar que dichos atributos son derivados de los datos de entrenamiento. Esta convención permite distinguir entre los atributos que son calculados por el modelo y los parámetros que son definidos por el usuario. De esta manera, los atributos que terminan con un guión bajo (`_`) indican que son aprendidos o ajustados durante el proceso de entrenamiento del modelo.\n",
    "\n",
    ":::"
   ]
  }
 ],
 "metadata": {
  "kernelspec": {
   "display_name": "ml_venv",
   "language": "python",
   "name": "python3"
  },
  "language_info": {
   "codemirror_mode": {
    "name": "ipython",
    "version": 3
   },
   "file_extension": ".py",
   "mimetype": "text/x-python",
   "name": "python",
   "nbconvert_exporter": "python",
   "pygments_lexer": "ipython3",
   "version": "3.9.19"
  }
 },
 "nbformat": 4,
 "nbformat_minor": 2
}
