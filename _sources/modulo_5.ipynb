{
 "cells": [
  {
   "cell_type": "markdown",
   "metadata": {},
   "source": [
    "# **Modulo 5: Introducción a Streamlit**\n",
    "\n",
    "## **¿Qué es Streamlit?**\n",
    "\n",
    "**`Streamlit`** es un marco de trabajo de **código abierto, gratuito y altamente eficiente**, diseñado para la **creación rápida de aplicaciones web interactivas** enfocadas en aprendizaje automático y ciencia de datos. Desarrollado en Python, Streamlit está pensado específicamente para científicos de datos e ingenieros de machine learning, quienes, sin ser necesariamente desarrolladores web, necesitan una herramienta sencilla y accesible que les permita construir visualizaciones y aplicaciones sin invertir semanas en aprender tecnologías web complejas.\n",
    "\n",
    "Con Streamlit, puedes desarrollar aplicaciones web atractivas y funcionales utilizando solo unas pocas líneas de código, lo que facilita la visualización de datos y la interacción con parámetros esenciales para los modelos, todo en un entorno que prioriza la simplicidad y la rapidez en el desarrollo.\n",
    "\n",
    "![stream](_image/stream.png)"
   ]
  },
  {
   "cell_type": "markdown",
   "metadata": {},
   "source": [
    "##  **¿Por qué los científicos de datos deberían utilizar Streamlit?**\n",
    "\n",
    "Lo más destacado de **Streamlit** es que no necesitas conocimientos previos de desarrollo web para comenzar a crear tu primera aplicación. Si te dedicas a la ciencia de datos y quieres implementar tus modelos de forma rápida, sencilla y con solo unas pocas líneas de código, **Streamlit** es una opción excelente.\n",
    "\n",
    "Una característica clave para el éxito de cualquier aplicación es ofrecer una interfaz de usuario intuitiva y eficiente. Muchas aplicaciones modernas, que gestionan grandes volúmenes de datos, se enfrentan al desafío de desarrollar interfaces atractivas sin procesos complicados. Aquí es donde **Streamlit** brilla: esta biblioteca de Python de código abierto permite a los desarrolladores crear interfaces interactivas y visualmente atractivas en muy poco tiempo.\n",
    "\n",
    "**Streamlit** es la forma más sencilla de convertir tu código en una aplicación web, especialmente si no tienes experiencia en desarrollo frontend:\n",
    "\n",
    "- No necesitas conocimientos previos de front-end (HTML, JavaScript, CSS).\n",
    "- En lugar de pasar días o meses desarrollando una aplicación web, puedes crear una aplicación de *machine learning* o ciencia de datos impresionante en tan solo unas horas, o incluso minutos.\n",
    "- Es compatible con una amplia gama de bibliotecas de Python como **pandas**, **matplotlib**, **seaborn**, **plotly**, **Keras**, **PyTorch** y **SymPy** (incluyendo soporte para *latex*).\n",
    "- Requiere menos código para construir aplicaciones sorprendentes.\n",
    "- El almacenamiento en caché de datos simplifica y acelera los cálculos, haciendo que el rendimiento sea más eficiente.\n"
   ]
  },
  {
   "cell_type": "markdown",
   "metadata": {},
   "source": [
    "## **¿Cómo utilizar Streamlit?**\n",
    "\n",
    "1. Debemos crear un ambiente exclusivamente para `streamlit` usando anaconda powershell prompt.\n",
    "\n",
    "![ambiente streamlit](_image/stream_1.png)"
   ]
  },
  {
   "cell_type": "markdown",
   "metadata": {},
   "source": [
    "2. Activamos el ambiente de `streamlit_venv`\n",
    "\n",
    "![ambiente activacion](_image/stream_2.png)"
   ]
  },
  {
   "cell_type": "markdown",
   "metadata": {},
   "source": [
    "3. Escriba este comando en la terminal para instalar Streamlit, `pip install streamlit`\n",
    "\n",
    "![instalacion](_image/stream_3.png)"
   ]
  },
  {
   "cell_type": "markdown",
   "metadata": {},
   "source": [
    "4. Si queremos ver que esta instalado correctamente, Pruebe en el terminal lo siguiente `streamlit hello`\n",
    "\n",
    "![instalacion](_image/stream_4.png)"
   ]
  },
  {
   "cell_type": "markdown",
   "metadata": {},
   "source": [
    ":::{admonition} **Observación**\n",
    ":class: warning\n",
    "\n",
    "Cuando ejecutas el comando **`streamlit hello`** por primera vez, Windows puede mostrar una advertencia o mensaje de seguridad relacionado con el firewall de Windows Defender. Esto sucede porque Streamlit levanta un servidor local, y el sistema operativo detecta que está intentando establecer conexiones a través de redes. Windows te pregunta si deseas permitir que la aplicación use redes públicas o privadas.\n",
    "\n",
    "Aquí te doy algunas pautas para proceder de forma segura:\n",
    "\n",
    "* **Red privada**: Si estás en casa o en una red confiable, como la de tu trabajo, selecciona la opción de red privada. Esto permitirá que Streamlit se comunique con otros dispositivos en la misma red local sin restricciones.\n",
    "\n",
    "* **Red pública**: Si estás en una red pública (por ejemplo, en una cafetería o aeropuerto), puedes desmarcar esta opción para evitar que Streamlit exponga información o se comunique en redes que pueden no ser seguras.\n",
    "\n",
    "**Si ves la advertencia de Windows Firewall**:\n",
    "\n",
    "* Marca la casilla para permitir que Streamlit funcione en redes privadas (desmarca la opción de redes públicas si no es necesario).\n",
    "* Luego, haz clic en *permitir acceso*.\n",
    "\n",
    "Esto le permitirá a Streamlit ejecutar sin problemas su servidor local en redes privadas.\n",
    "\n",
    ":::"
   ]
  },
  {
   "cell_type": "markdown",
   "metadata": {},
   "source": [
    "Además, cuando escriba este comando en la terminal, la página siguiente debería abrirse automáticamente:\n",
    "\n",
    "\n",
    "\n",
    "![desp_1](_image/stream_6.png)\n",
    "![desp_2](_image/stream_7.png)\n",
    "![desp_3](_image/stream_8.png)\n",
    "![desp_4](_image/stream_9.png)\n",
    "![desp_5](_image/stream_10.png)"
   ]
  },
  {
   "cell_type": "markdown",
   "metadata": {},
   "source": [
    "## **Guía paso a paso para la creación de una aplicación con Streamlit**\n",
    "\n",
    "Una explicación paso a paso más detallada para la creación de la carpeta *app* y el uso de Streamlit con un script en Python llamado **`app.py`**.\n",
    "\n",
    "### Creación de la carpeta **app**\n",
    "Para organizar tu proyecto, es importante crear una carpeta donde se alojarán todos los archivos relacionados. Sigue estos pasos:\n",
    "\n",
    "1. **En Windows**\n",
    "    * Abre el **Explorador de archivos**.\n",
    "    * Navega hasta la ubicación donde deseas crear tu proyecto (por ejemplo, el escritorio o una carpeta específica).\n",
    "    * Haz clic derecho en un espacio vacío.\n",
    "    * Selecciona la opción **Nuevo > Carpeta**.\n",
    "    * Nombra la carpeta como `app`.\n",
    "\n",
    "2. **En macOS o Linux**\n",
    "    * Abre la terminal.\n",
    "    * Navega hasta la ubicación donde deseas crear tu carpeta usando el comando `cd`. Por ejemplo:\n",
    "    `cd ~/Desktop`\n",
    "    * Crea la carpeta con el siguiente comando `mkdir app\n",
    "\n"
   ]
  },
  {
   "cell_type": "markdown",
   "metadata": {},
   "source": [
    "### **Apertura de la carpeta en el editor de código**\n",
    "\n",
    "Tomando el editor de código de Visual Studio Code (VSCode)\n",
    "\n",
    "* Abre `VSCode`.\n",
    "* Haz clic en `File > Open Folder...`.    \n",
    "* Selecciona la carpeta recién creada llamada `app` y haz clic en **Select Folder**."
   ]
  },
  {
   "cell_type": "markdown",
   "metadata": {},
   "source": [
    "### **Creación del archivo `app.py`**\n",
    "\n",
    "Pasos para VSCode\n",
    "* Dentro de la carpeta `app`, haz clic derecho y selecciona **Nuevo archivo**.\n",
    "* Nombra el archivo `app.py`."
   ]
  },
  {
   "cell_type": "markdown",
   "metadata": {},
   "source": [
    "### **Escritura y ejecución del código en `app.py`**\n",
    "\n",
    "Abrimos el archivo `app.py` y se escribe el código en Streamlit para empezar. Y despues en la terminal de anaconda powershell, escribe lo siguiente para la ejecución `streamlit run app.py`\n",
    "\n",
    "![desp_6](_image/stream_11.png)"
   ]
  },
  {
   "cell_type": "markdown",
   "metadata": {},
   "source": [
    "Los comandos de Streamlit son fáciles de escribir y comprender. Con un simple comando, podrá visualizar textos, elementos multimedia, widgets, gráficos, etc.\n",
    "\n",
    "### **Mostrar textos con Streamlit**\n",
    "Al principio, veremos cómo agregar texto a tu aplicación Streamlit y cuáles son los diferentes comandos para agregar textos.\n",
    "\n",
    "* `st.write()`: Esta función se utiliza para agregar cualquier cosa a una aplicación web, desde cadenas formateadas hasta gráficos en figuras de matplotlib, gráficos de Altair, figuras de plotly, marco de datos, modelo Keras y otros.\n",
    "\n",
    "* `st.title()`: Esta es una función que te permite agregar un título a tu aplicación web.\n",
    "\n",
    "* `st.text_input()`: Esta función se utiliza para crear un cuadro de texto donde el usuario puede escribir.\n",
    "\n",
    "![desp_7](_image/stream_12.png)"
   ]
  },
  {
   "cell_type": "markdown",
   "metadata": {},
   "source": [
    "* `st.header()`: Establece el encabezado de una sección. Es ideal para crear encabezados que se ven más grandes y con un formato destacado en tu app, pero menos prominente que un título.\n",
    "\n",
    "* `st.markdown()`: Establece un markdown. Te permite escribir texto con formato usando el lenguaje de Markdown. Puedes usar negritas, cursivas, listas, enlaces, etc.\n",
    "\n",
    "* `st.subheader()`: Establece el subencabezado de una sección. Es similar a `st.header()`, pero con un tamaño más pequeño, perfecto para subsecciones dentro de un encabezado.\n",
    "\n",
    "* `st.caption()`: Escribe un título o una pequeña descripción. Se usa para agregar descripciones breves o pies de página, generalmente en un tamaño de fuente pequeño.\n",
    "\n",
    "* `st.code()`: Establece un bloque de código. Es perfecto para mostrar bloques de código con formato. Puedes especificar el lenguaje del código para que se destaque la sintaxis.\n",
    "\n",
    "* `st.latex()`: Mostrar expresiones matemáticas con LaTeX. Si necesitas mostrar ecuaciones o expresiones matemáticas, puedes usar LaTeX con esta función.\n",
    "\n",
    "![desp_8](_image/stream_13.png)"
   ]
  },
  {
   "cell_type": "markdown",
   "metadata": {},
   "source": [
    "### **Visualización de imagen, vídeo o audio con Streamlit**\n",
    "\n",
    "No encontrará funciones tan sencillas como las de Streamlit para mostrar imágenes, vídeos y archivos de audio. Veamos cómo mostrar archivos multimedia con Streamlit.\n",
    "\n",
    "* `st.image()`: Esta función se utiliza para mostrar una imagen. \n",
    "* `st.audio()`: Esta función se utiliza para mostrar un audio. \n",
    "* `st.video()`: Esta función se utiliza para mostrar un vídeo.\n",
    "\n",
    "El código en python es:\n",
    "\n",
    "```python\n",
    "import streamlit as st\n",
    "\n",
    "# Título principal\n",
    "st.title(\"Ejemplo de Visualización de Multimedia con Streamlit\")\n",
    "\n",
    "# Mostrar una imagen\n",
    "st.header(\"Visualización de una imagen\")\n",
    "st.image(\"ruta_de_la_imagen.jpg\", caption=\"Imagen de ejemplo\", use_column_width=True)\n",
    "\n",
    "# Reproducir un archivo de audio\n",
    "st.header(\"Reproducción de audio\")\n",
    "st.audio(\"ruta_del_audio.mp3\")\n",
    "\n",
    "# Mostrar un vídeo\n",
    "st.header(\"Visualización de un vídeo\")\n",
    "st.video(\"ruta_del_video.mp4\")\n",
    "```"
   ]
  },
  {
   "cell_type": "markdown",
   "metadata": {},
   "source": [
    "### **Widgets de entrada**\n",
    "\n",
    "Los **widgets** son los componentes más importantes de la interfaz de usuario. Streamlit tiene varios widgets que te permiten incorporar interactividad directamente a tus aplicaciones con botones, controles deslizantes, entradas de texto y más.\n",
    "\n",
    "* `st.checkbox()`: Casilla de verificación. Esta función devuelve un valor booleano: `True` si la casilla está marcada, `False` en caso contrario.\n",
    "\n",
    "* `st.button()`: Botón. Muestra un botón y ejecuta una acción cuando se pulsa.\n",
    "\n",
    "* `st.radio()`: Botones de opción (radio buttons). Permite a los usuarios seleccionar una opción de una lista.\n",
    "\n",
    "* `st.selectbox()`: Cuadro de selección. Crea un menú desplegable que permite seleccionar una opción.\n",
    "\n",
    "* `st.multiselect()`: Selección múltiple. Permite al usuario seleccionar múltiples opciones de una lista.\n",
    "\n",
    "* `st.select_slider()`: Control deslizante de selección. Permite seleccionar valores discretos de un control deslizante.\n",
    "\n",
    "* `st.slider()`: Control deslizante. Es un widget que permite seleccionar un valor numérico dentro de un rango.\n",
    "\n",
    "```python\n",
    "import streamlit as st\n",
    "\n",
    "st.title(\"Ejemplo de Widgets de Entrada en Streamlit\")\n",
    "\n",
    "# Checkbox\n",
    "if st.checkbox(\"Mostrar texto adicional\"):\n",
    "    st.write(\"¡Has marcado la casilla!\")\n",
    "\n",
    "# Botón\n",
    "if st.button(\"Haz clic aquí\"):\n",
    "    st.write(\"¡Has pulsado el botón!\")\n",
    "\n",
    "# Radio\n",
    "opcion_radio = st.radio(\"Selecciona una opción de radio:\", [\"Opción 1\", \"Opción 2\", \"Opción 3\"])\n",
    "st.write(f\"Opción seleccionada: {opcion_radio}\")\n",
    "\n",
    "# Selectbox\n",
    "opcion_selectbox = st.selectbox(\"Selecciona una opción del cuadro desplegable:\", [\"Opción A\", \"Opción B\", \"Opción C\"])\n",
    "st.write(f\"Opción seleccionada: {opcion_selectbox}\")\n",
    "\n",
    "# Multiselect\n",
    "opciones_multiselect = st.multiselect(\"Selecciona varias opciones:\", [\"Opción 1\", \"Opción 2\", \"Opción 3\"])\n",
    "st.write(f\"Opciones seleccionadas: {opciones_multiselect}\")\n",
    "\n",
    "# Select Slider\n",
    "opcion_slider = st.select_slider(\"Selecciona un nivel:\", options=[\"Bajo\", \"Medio\", \"Alto\"])\n",
    "st.write(f\"Nivel seleccionado: {opcion_slider}\")\n",
    "\n",
    "# Slider\n",
    "valor_slider = st.slider(\"Selecciona un valor numérico:\", 0, 100, 25)\n",
    "st.write(f\"Valor seleccionado: {valor_slider}\")\n",
    "```\n",
    "\n",
    "![desp_9](_image/stream_14.png)"
   ]
  },
  {
   "cell_type": "markdown",
   "metadata": {},
   "source": [
    ":::{admonition} **Observación**\n",
    ":class: warning\n",
    "\n",
    "* Estos widgets permiten captar información de los usuarios y usarla en tu aplicación de manera dinámica.\n",
    "* Puedes combinar varios widgets para crear flujos interactivos más complejos, como formularios o dashboards.\n",
    "\n",
    ":::"
   ]
  },
  {
   "cell_type": "markdown",
   "metadata": {},
   "source": [
    "* `st.number_input()`: Entrada numérica. Permite a los usuarios ingresar un número, con la posibilidad de especificar un rango y un valor predeterminado.\n",
    "\n",
    "* `st.date_input()`: Entrada de fecha. Permite seleccionar una fecha desde un calendario.\n",
    "\n",
    "* `st.time_input()`: Entrada de hora. Permite seleccionar una hora específica.\n",
    "\n",
    "* `st.text_area()`: Área de texto. Permite ingresar varias líneas de texto, como un comentario largo o una descripción.\n",
    "\n",
    "* `st.file_uploader()`: Cargar archivos. Permite a los usuarios cargar archivos desde su dispositivo. Puedes especificar el tipo de archivo permitido (como imágenes, PDFs, etc.).\n",
    "\n",
    "* `st.color_picker()`: Selector de color. Permite seleccionar un color de una paleta.\n",
    "\n",
    "![desp_10](_image/stream_15.png)"
   ]
  },
  {
   "cell_type": "markdown",
   "metadata": {},
   "source": [
    "### **Visualización del progreso y el estado con Streamlit**\n",
    "\n",
    "Ahora veremos cómo podemos agregar una barra de progreso y mensajes de estado como error y éxito a nuestra aplicación.\n",
    "\n",
    "* `st.balloons()`: Mostrar globos de celebración. Se utiliza para celebrar un evento o acción completada con éxito, mostrando animaciones de globos en la aplicación.\n",
    "\n",
    "* `st.progress()`: Barra de progreso. Permite mostrar una barra de progreso para que el usuario pueda visualizar el avance de un proceso.\n",
    "\n",
    "* `st.spinner()`: Mensaje de espera temporal. Muestra un mensaje de *cargando* mientras se ejecuta una tarea en segundo plano, indicando que algo está sucediendo.\n",
    "\n",
    "![desp_11](_image/stream_16.png)"
   ]
  },
  {
   "cell_type": "markdown",
   "metadata": {},
   "source": [
    "* `st.success()`: Mostrar un mensaje de éxito. Este mensaje se utiliza cuando una operación o tarea se completa con éxito.\n",
    "\n",
    "* `st.error()`: Mostrar un mensaje de error. Este mensaje se utiliza cuando ocurre un error en la aplicación o durante la ejecución de una tarea.\n",
    "\n",
    "* `st.warning()`: Mostrar un mensaje de advertencia. Utiliza este mensaje para alertar al usuario sobre una posible advertencia, como configuraciones incorrectas o posibles problemas.\n",
    "\n",
    "* `st.info()`: Mostrar un mensaje informativo. Este mensaje es ideal para proporcionar información adicional o contexto sobre lo que está sucediendo en la aplicación.\n",
    "\n",
    "* `st.exception()`: Mostrar un mensaje de excepción. Esta función se utiliza para mostrar excepciones o errores de Python, proporcionando detalles sobre el error.\n",
    "\n",
    "![desp_12](_image/stream_17.png)"
   ]
  },
  {
   "cell_type": "markdown",
   "metadata": {},
   "source": [
    "### **Barra lateral y contenedor**\n",
    "\n",
    "En Streamlit, puedes utilizar la barra lateral para organizar mejor tu contenido y proporcionar a los usuarios una experiencia más intuitiva. Al usar `st.sidebar`, los elementos que agregues aparecerán en un panel lateral fijo a la izquierda de la aplicación. Esto es útil para menús, controles o configuraciones que no interfieren directamente con el contenido principal.\n",
    "\n",
    "Veamos cómo usar la barra lateral y los contenedores para organizar tu aplicación.\n",
    "\n",
    "* **Barra lateral con `st.sidebar`**: Cualquier componente que pases a `st.sidebar` aparecerá en la barra lateral. Puedes agregar títulos, sliders, botones y más en ese espacio.\n",
    "\n",
    "![desp_13](_image/stream_18.png)"
   ]
  },
  {
   "cell_type": "markdown",
   "metadata": {},
   "source": [
    "* **Contenedores con `st.container()`**: Los contenedores permiten agrupar elementos de manera ordenada dentro de tu aplicación. Puedes utilizarlos para estructurar mejor el contenido en secciones específicas.\n",
    "\n",
    "![desp_14](_image/stream_19.png)\n"
   ]
  },
  {
   "cell_type": "markdown",
   "metadata": {},
   "source": [
    "Un ejemplo completo es el siguiente\n",
    "\n",
    "![desp_15](_image/stream_20.png)"
   ]
  },
  {
   "cell_type": "markdown",
   "metadata": {},
   "source": [
    ":::{admonition} ¿Cómo organizar el contenido?\n",
    ":class: tip dropdown\n",
    "\n",
    "* **Barra lateral**: Ideal para menús, sliders, botones y configuraciones que no interfieren con el contenido principal.\n",
    "\n",
    "* **Contenedores**: Útiles para dividir tu aplicación en secciones claras y organizadas, manteniendo la interfaz limpia y fácil de seguir.\n",
    "\n",
    ":::"
   ]
  },
  {
   "cell_type": "markdown",
   "metadata": {},
   "source": [
    "### **Visualización con Streamlit**\n",
    "\n",
    "La visualización de datos es una herramienta poderosa para comunicar información compleja de una manera clara y accesible. Con Streamlit, puedes integrar fácilmente gráficos y visualizaciones dentro de tu aplicación para contar historias a partir de los datos. Vamos a ver cómo usar la función `st.pyplot()` para mostrar gráficos creados con Matplotlib, una de las bibliotecas más populares para la creación de gráficos en Python.\n",
    "\n",
    "\n",
    ":::{admonition} ¿Por qué necesitamos la visualización de datos?\n",
    ":class: tip dropdown\n",
    "\n",
    "La visualización de datos nos ayuda a:\n",
    "\n",
    "* Detectar tendencias y patrones.\n",
    "* Identificar valores atípicos.\n",
    "* Resumir grandes cantidades de datos de una forma comprensible.\n",
    "* Facilitar la toma de decisiones basadas en datos.\n",
    "\n",
    "Streamlit simplifica la integración de visualizaciones en aplicaciones interactivas, lo que permite a los usuarios interactuar con los gráficos de manera dinámica.\n",
    "\n",
    ":::\n"
   ]
  },
  {
   "cell_type": "markdown",
   "metadata": {},
   "source": [
    "* **Uso de `st.pyplot()`**: La función `st.pyplot()` permite mostrar gráficos generados con Matplotlib en la aplicación de Streamlit. Primero creas el gráfico con Matplotlib y luego lo visualizas usando esta función.\n",
    "\n",
    "![desp_17](_image/stream_21.png)"
   ]
  },
  {
   "cell_type": "markdown",
   "metadata": {},
   "source": [
    "* `st.line_chart()` en Streamlit se utiliza para mostrar un gráfico de líneas de manera muy sencilla a partir de un DataFrame o una estructura de datos similar. Es una forma rápida y efectiva de visualizar series de tiempo o cualquier otro conjunto de datos en forma de líneas.\n",
    "\n",
    "![desp_18](_image/stream_22.png)"
   ]
  },
  {
   "cell_type": "markdown",
   "metadata": {},
   "source": [
    "* `st.bar_chart()` en Streamlit se utiliza para mostrar un gráfico de barras de manera rápida y sencilla a partir de un DataFrame o cualquier estructura de datos similar. Es ideal para visualizar datos categóricos o comparar valores de diferentes categorías.\n",
    "\n",
    "![desp_19](_image/stream_23.png)"
   ]
  },
  {
   "cell_type": "markdown",
   "metadata": {},
   "source": [
    "* `st.area_chart()` en Streamlit se utiliza para mostrar un gráfico de área de forma rápida y sencilla. Un gráfico de área es similar a un gráfico de líneas, pero con el área debajo de la línea rellenada, lo que lo hace ideal para mostrar tendencias a lo largo del tiempo o la acumulación de valores.\n",
    "\n",
    "![desp_20](_image/stream_24.png)"
   ]
  },
  {
   "cell_type": "markdown",
   "metadata": {},
   "source": [
    "* La función `st.altair_chart()` en Streamlit se utiliza para mostrar gráficos creados con Altair, una biblioteca de visualización de datos declarativa en Python. Altair es conocida por su facilidad para crear gráficos interactivos y personalizados, ideal para mostrar visualizaciones complejas con un código relativamente simple.\n",
    "\n",
    "![desp_21](_image/stream_25.png)"
   ]
  },
  {
   "cell_type": "markdown",
   "metadata": {},
   "source": [
    "### **Visualización de mapas con Streamlit**\n",
    "\n",
    "La función `st.map()` en Streamlit se utiliza para visualizar mapas interactivos, siempre y cuando tengas datos que incluyan latitud y longitud. Es una forma sencilla de mostrar puntos en un mapa sin necesidad de instalar bibliotecas adicionales como folium o plotly. Un ejemplo básico\n",
    "\n",
    "![desp_22](_image/stream_26.png)"
   ]
  },
  {
   "cell_type": "markdown",
   "metadata": {},
   "source": [
    "También puedes integrar mapas en la barra lateral con filtros interactivos, por ejemplo, permitiendo al usuario seleccionar un rango de latitudes y longitudes:\n",
    "\n",
    "![desp_23](_image/stream_27.png)"
   ]
  }
 ],
 "metadata": {
  "kernelspec": {
   "display_name": "ml_venv",
   "language": "python",
   "name": "python3"
  },
  "language_info": {
   "name": "python",
   "version": "3.9.19"
  }
 },
 "nbformat": 4,
 "nbformat_minor": 2
}
