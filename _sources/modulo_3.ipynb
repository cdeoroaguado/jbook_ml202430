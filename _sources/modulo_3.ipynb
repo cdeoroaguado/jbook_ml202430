{
 "cells": [
  {
   "cell_type": "markdown",
   "metadata": {},
   "source": [
    "# **Modulo 3: Análisis exploratorio de datos de la banca**\n",
    "\n",
    "La **estadística descriptiva** proporciona un marco para resumir y visualizar grandes volúmenes de datos financieros, como transacciones, historiales crediticios y comportamientos del mercado. Mediante el uso de medidas como la media, la mediana, la desviación estándar y los percentiles, los bancos pueden identificar patrones en el comportamiento de los clientes, como tendencias de gasto, ahorro y tasas de incumplimiento de crédito. Esta información es crucial para segmentar clientes, diseñar estrategias de marketing personalizadas y mejorar la gestión de carteras de productos financieros.\n",
    "\n",
    "Por otro lado, la **estadística inferencial** permite a los bancos realizar predicciones y tomar decisiones informadas bajo incertidumbre. A través de técnicas como pruebas de hipótesis, modelos de regresión y análisis de varianza (ANOVA), se puede inferir, por ejemplo, la probabilidad de que un cliente incumpla un préstamo o proyectar tendencias económicas como las tasas de interés e inflación. Estas inferencias son vitales para la gestión del riesgo crediticio y la planificación financiera a largo plazo.\n",
    "\n",
    "Complementando estos enfoques tradicionales, se encuentran técnicas avanzadas como el **Análisis de Componentes Principales (PCA)** y el **Clustering**, que ofrecen una perspectiva más profunda y efectiva en el manejo de datos complejos. El PCA es una técnica de reducción de dimensionalidad que permite simplificar conjuntos de datos de alta dimensión al identificar las variables más influyentes. En el sector bancario, PCA es fundamental para optimizar los modelos de puntuación crediticia, identificando los factores clave que afectan la solvencia de los clientes y mejorando así la precisión en la evaluación del riesgo.\n",
    "\n",
    "El **Clustering**, por su parte, es una técnica de aprendizaje no supervisado que agrupa datos en clusters o grupos de clientes con comportamientos similares. Esta técnica es ampliamente utilizada en la segmentación de clientes, ayudando a los bancos a personalizar sus ofertas de productos y servicios, mejorar las campañas de marketing, y aumentar la satisfacción del cliente. Además, el clustering es extremadamente útil en la detección de fraudes, al identificar transacciones que se desvían de los patrones normales de comportamiento, permitiendo a los bancos reaccionar de manera proactiva frente a posibles actividades fraudulentas.\n",
    "\n",
    "En conjunto, la combinación de estadística descriptiva e inferencial con técnicas avanzadas como PCA y Clustering ofrece a las instituciones bancarias un enfoque integral para analizar y aprovechar sus datos. Este módulo se centrará en cómo aplicar estas técnicas estadísticas y de aprendizaje automático en el análisis de datos bancarios, proporcionando a los participantes una comprensión sólida de cómo estas herramientas pueden ser utilizadas para enfrentar desafíos específicos en el sector financiero y potenciar la toma de decisiones basada en datos."
   ]
  },
  {
   "cell_type": "markdown",
   "metadata": {},
   "source": [
    "## **Estadística descriptiva**\n",
    "La estadística descriptiva es una rama de las matemáticas que se encarga de analizar, interpretar y presentar de manera estructurada los datos obtenidos a través de diferentes fuentes. Con Python y sus múltiples librerías de análisis de datos, podemos realizar de manera sencilla estadística descriptiva.\n",
    "\n",
    "### **Población y muestra**\n",
    "\n",
    "La **estadística** es la ciencia de recolectar, organizar, analizar e interpretar información. Las \n",
    "estadísticas son números obtenidos de un conjunto o colección de datos.\n",
    "\n",
    "\n",
    "* Una **población** es el total de la información o de los objetos de interés para un \n",
    "estadístico en una investigación particular.\n",
    "* Una **muestra** es cualquier subconjunto de una población.\n",
    "* Un **dato** es un número o denominaciones que podemos asignar a un individuo o \n",
    "elemento de la población.\n",
    "\n",
    "Una **variable aleatoria** son fenómenos o características medibles de los elementos de la población. Ejemplo: sexo, edad, peso, estatura, color de ojos, estado civil, temperatura, cantidad de nacimientos, presión, diámetro, etc, esta medición genera como resultado la obtención de **datos**\n",
    "\n",
    "* Un **parámetro** es cualquier característica numérica de una población.\n",
    "* Un **estadístico** es cualquier caractrística numérica de una muestra.\n",
    "\n"
   ]
  },
  {
   "cell_type": "markdown",
   "metadata": {},
   "source": [
    "### **Tipos de datos**\n",
    "\n",
    "De forma general los datos se clasifican en cuantitativos o numéricos y cualitativos o categóricos, mismos que se subdividen tal como se indica en la siguiente figura:\n",
    "\n",
    " ![tipo](_image/tipo.png)\n"
   ]
  },
  {
   "cell_type": "markdown",
   "metadata": {},
   "source": [
    "Analicemos el siguiente conjunto de datos:\n",
    "\n",
    "**Contexto empresarial**. Los préstamos entre pares (P2P) en línea han facilitado la práctica de pedir y prestar dinero. En esta forma de préstamo, no hay una entrevista en persona y el prestatario puede simplemente completar un formulario en línea y obtener la aprobación del préstamo. La información proporcionada únicamente por el prestatario es propensa a exageraciones y distorsiones, especialmente cuando se trata de ingresos. Todas las empresas de préstamos entre pares se basan en un procedimiento bien diseñado que rechaza a los prestatarios con una alta probabilidad de no pagar sus deudas.\n",
    "\n",
    "Rechazar a cualquier persona que no tenga una fuente de ingresos verificada es una política relevante que las plataformas de préstamos pueden implementar para ayudar a reducir la tasa de préstamos incobrables. Es natural sospechar que si no se puede verificar la fuente de ingresos de una persona, es posible que no pueda pagar el préstamo. Sin embargo, desde la perspectiva de un prestatario, el proceso de verificación puede ser engorroso y llevar mucho tiempo, y es posible que simplemente cambie de plataforma debido a este inconveniente.\n",
    "\n",
    "**Problema empresarial**. Como científico de datos de una empresa emergente de préstamos P2P, debe responder a la siguiente pregunta: \"¿Debería la empresa verificar la fuente de ingresos de un solicitante de préstamo en línea antes de aprobar su préstamo?\"\n",
    "\n",
    "**Contexto analítico**. Los datos son de [LendingClub (LC) Statistics](https://www.lendingclub.com/info/download-data.action) y contienen todos los préstamos emitidos entre 2007 y 2012 junto con su estado actual (pagados en su totalidad o cancelados). Hay aproximadamente 50 variables que describen a los prestatarios y los préstamos; con el fin de reducir la complejidad, la empresa ya ha realizado una preselección de estas variables en función de los análisis existentes de LendingClub para seleccionar nueve variables relevantes, como los ingresos anuales, la calificación crediticia de LendingClub, la propiedad de la vivienda, etc. Utilizaremos una nueva técnica, la regresión logística , para responder a nuestra pregunta en cuestión."
   ]
  },
  {
   "cell_type": "markdown",
   "metadata": {},
   "source": [
    "Echemos un vistazo a los datos que tenemos a nuestra disposición:"
   ]
  },
  {
   "cell_type": "code",
   "execution_count": 32,
   "metadata": {},
   "outputs": [],
   "source": [
    "# Cargar paquetes\n",
    "import pandas as pd\n",
    "import numpy as np\n",
    "import matplotlib.pyplot as plt"
   ]
  },
  {
   "cell_type": "code",
   "execution_count": 2,
   "metadata": {},
   "outputs": [
    {
     "data": {
      "text/html": [
       "<div>\n",
       "<style scoped>\n",
       "    .dataframe tbody tr th:only-of-type {\n",
       "        vertical-align: middle;\n",
       "    }\n",
       "\n",
       "    .dataframe tbody tr th {\n",
       "        vertical-align: top;\n",
       "    }\n",
       "\n",
       "    .dataframe thead th {\n",
       "        text-align: right;\n",
       "    }\n",
       "</style>\n",
       "<table border=\"1\" class=\"dataframe\">\n",
       "  <thead>\n",
       "    <tr style=\"text-align: right;\">\n",
       "      <th></th>\n",
       "      <th>loan_status</th>\n",
       "      <th>annual_inc</th>\n",
       "      <th>verification_status</th>\n",
       "      <th>emp_length</th>\n",
       "      <th>home_ownership</th>\n",
       "      <th>int_rate</th>\n",
       "      <th>loan_amnt</th>\n",
       "      <th>purpose</th>\n",
       "      <th>term</th>\n",
       "      <th>grade</th>\n",
       "    </tr>\n",
       "  </thead>\n",
       "  <tbody>\n",
       "    <tr>\n",
       "      <th>0</th>\n",
       "      <td>Fully Paid</td>\n",
       "      <td>24000.0</td>\n",
       "      <td>Verified</td>\n",
       "      <td>10+ years</td>\n",
       "      <td>RENT</td>\n",
       "      <td>10.65%</td>\n",
       "      <td>5000</td>\n",
       "      <td>credit_card</td>\n",
       "      <td>36 months</td>\n",
       "      <td>B</td>\n",
       "    </tr>\n",
       "    <tr>\n",
       "      <th>1</th>\n",
       "      <td>Charged Off</td>\n",
       "      <td>30000.0</td>\n",
       "      <td>Source Verified</td>\n",
       "      <td>&lt; 1 year</td>\n",
       "      <td>RENT</td>\n",
       "      <td>15.27%</td>\n",
       "      <td>2500</td>\n",
       "      <td>car</td>\n",
       "      <td>60 months</td>\n",
       "      <td>C</td>\n",
       "    </tr>\n",
       "    <tr>\n",
       "      <th>2</th>\n",
       "      <td>Fully Paid</td>\n",
       "      <td>12252.0</td>\n",
       "      <td>Not Verified</td>\n",
       "      <td>10+ years</td>\n",
       "      <td>RENT</td>\n",
       "      <td>15.96%</td>\n",
       "      <td>2400</td>\n",
       "      <td>small_business</td>\n",
       "      <td>36 months</td>\n",
       "      <td>C</td>\n",
       "    </tr>\n",
       "    <tr>\n",
       "      <th>3</th>\n",
       "      <td>Fully Paid</td>\n",
       "      <td>49200.0</td>\n",
       "      <td>Source Verified</td>\n",
       "      <td>10+ years</td>\n",
       "      <td>RENT</td>\n",
       "      <td>13.49%</td>\n",
       "      <td>10000</td>\n",
       "      <td>other</td>\n",
       "      <td>36 months</td>\n",
       "      <td>C</td>\n",
       "    </tr>\n",
       "    <tr>\n",
       "      <th>4</th>\n",
       "      <td>Fully Paid</td>\n",
       "      <td>80000.0</td>\n",
       "      <td>Source Verified</td>\n",
       "      <td>1 year</td>\n",
       "      <td>RENT</td>\n",
       "      <td>12.69%</td>\n",
       "      <td>3000</td>\n",
       "      <td>other</td>\n",
       "      <td>60 months</td>\n",
       "      <td>B</td>\n",
       "    </tr>\n",
       "  </tbody>\n",
       "</table>\n",
       "</div>"
      ],
      "text/plain": [
       "   loan_status  annual_inc verification_status emp_length home_ownership  \\\n",
       "0   Fully Paid     24000.0            Verified  10+ years           RENT   \n",
       "1  Charged Off     30000.0     Source Verified   < 1 year           RENT   \n",
       "2   Fully Paid     12252.0        Not Verified  10+ years           RENT   \n",
       "3   Fully Paid     49200.0     Source Verified  10+ years           RENT   \n",
       "4   Fully Paid     80000.0     Source Verified     1 year           RENT   \n",
       "\n",
       "  int_rate  loan_amnt         purpose        term grade  \n",
       "0   10.65%       5000     credit_card   36 months     B  \n",
       "1   15.27%       2500             car   60 months     C  \n",
       "2   15.96%       2400  small_business   36 months     C  \n",
       "3   13.49%      10000           other   36 months     C  \n",
       "4   12.69%       3000           other   60 months     B  "
      ]
     },
     "execution_count": 2,
     "metadata": {},
     "output_type": "execute_result"
    }
   ],
   "source": [
    "df = pd.read_csv('_data/datadescrip/Lending_club_cleaned_2.csv')\n",
    "df.head()"
   ]
  },
  {
   "cell_type": "markdown",
   "metadata": {},
   "source": [
    "Esta es la descripción de las variables\n",
    "\n",
    "|       Variable       |                                                           Descripción                                                                                           |\n",
    "|:--------------------:|:-----------------------------------------------------------------------------------------------------------------------------------------------------------------|\n",
    "|      loan_status     | La primera columna indica si el prestatario pagó el préstamo (pagado en su totalidad Fully Paid) o no (dañó el préstamo Charged Off).                                                                                          |\n",
    "|      annual_inc      | El ingreso anual autodeclarado proporcionado por el prestatario durante el registro.                                                                              |\n",
    "| verification_status  | Indica si el ingreso fue verificado por LC, no verificado, o si la fuente de ingresos fue verificada.                                                            |\n",
    "|      emp_length      | La duración del empleo en años. Los valores posibles están entre 0 y 10, donde 0 significa menos de un año y 10 significa diez o más años.                       |\n",
    "|   home_ownership     | El estado de propiedad de la vivienda proporcionado por el prestatario durante el registro u obtenido del informe crediticio. Los valores son: RENT, OWN, MORTGAGE, OTHER. |\n",
    "|       int_rate       | Tasa de interés del préstamo.                                                                                                                                     |\n",
    "|      loan_amnt       | El monto listado del préstamo solicitado por el prestatario. Si en algún momento el departamento de crédito reduce el monto del préstamo, se reflejará en este valor.|\n",
    "|       purpose        | Una categoría proporcionada por el prestatario para la solicitud de préstamo.                                                                                     |\n",
    "|         term         | El número de pagos del préstamo. Los valores están en meses y pueden ser 36 o 60.                                                                                 |\n",
    "|        grade         | Calificación del préstamo asignada por LC.                                                                                                                        |\n"
   ]
  },
  {
   "cell_type": "code",
   "execution_count": 3,
   "metadata": {},
   "outputs": [
    {
     "name": "stdout",
     "output_type": "stream",
     "text": [
      "<class 'pandas.core.frame.DataFrame'>\n",
      "RangeIndex: 38705 entries, 0 to 38704\n",
      "Data columns (total 10 columns):\n",
      " #   Column               Non-Null Count  Dtype  \n",
      "---  ------               --------------  -----  \n",
      " 0   loan_status          38705 non-null  object \n",
      " 1   annual_inc           38705 non-null  float64\n",
      " 2   verification_status  38705 non-null  object \n",
      " 3   emp_length           38705 non-null  object \n",
      " 4   home_ownership       38705 non-null  object \n",
      " 5   int_rate             38705 non-null  object \n",
      " 6   loan_amnt            38705 non-null  int64  \n",
      " 7   purpose              38705 non-null  object \n",
      " 8   term                 38705 non-null  object \n",
      " 9   grade                38705 non-null  object \n",
      "dtypes: float64(1), int64(1), object(8)\n",
      "memory usage: 3.0+ MB\n"
     ]
    }
   ],
   "source": [
    "df.info()"
   ]
  },
  {
   "cell_type": "markdown",
   "metadata": {},
   "source": [
    "Realicemos una limpieza de los datos para realizar el análisis exploratorio"
   ]
  },
  {
   "cell_type": "code",
   "execution_count": 4,
   "metadata": {},
   "outputs": [],
   "source": [
    "#Cambiar loan_status, verification_status, emp_length, term y grade al tipo categórico \n",
    "df.loan_status = df.loan_status.astype(pd.api.types.CategoricalDtype(categories=['Charged Off', 'Fully Paid']))\n",
    "df.verification_status = df.verification_status.astype(pd.api.types.CategoricalDtype(categories=['Not Verified', 'Source Verified', 'Verified']))\n",
    "df.emp_length = df.emp_length.astype(pd.api.types.CategoricalDtype(categories=['< 1 year', '1 year', '2 years', '3 years', '4 years', \\\n",
    "                                                             '5 years', '6 years', '7 years', '8 years', '9 years', \\\n",
    "                                                             '10+ years']))\n",
    "df.home_ownership = df.home_ownership.astype(pd.api.types.CategoricalDtype(categories=['RENT','MORTGAGE','OWN','OTHER']))\n",
    "df.term = df.term.astype(pd.api.types.CategoricalDtype(categories=[' 36 months', ' 60 months']))\n",
    "df.grade = df.grade.astype(pd.api.types.CategoricalDtype(categories=['A','B','C','D','E','F','G']))\n",
    "df.purpose = df.purpose.astype(pd.api.types.CategoricalDtype(categories=['debt_consolidation', 'credit_card', 'other', 'home_improvement',\n",
    "                                                                         'major_purchase', 'small_business', 'car', 'wedding', 'medical',\n",
    "                                                                         'moving', 'house', 'vacation', 'educational', 'renewable_energy']))\n",
    "\n",
    "#Además, los datos originales en int_rate contienen cadenas en la forma 'x.xx%', \n",
    "#eliminamos el % y cambiamos los valores a tipo float:\n",
    "df.int_rate = df.int_rate.str.rstrip('%').astype('float')"
   ]
  },
  {
   "cell_type": "code",
   "execution_count": 5,
   "metadata": {},
   "outputs": [
    {
     "data": {
      "text/html": [
       "<div>\n",
       "<style scoped>\n",
       "    .dataframe tbody tr th:only-of-type {\n",
       "        vertical-align: middle;\n",
       "    }\n",
       "\n",
       "    .dataframe tbody tr th {\n",
       "        vertical-align: top;\n",
       "    }\n",
       "\n",
       "    .dataframe thead th {\n",
       "        text-align: right;\n",
       "    }\n",
       "</style>\n",
       "<table border=\"1\" class=\"dataframe\">\n",
       "  <thead>\n",
       "    <tr style=\"text-align: right;\">\n",
       "      <th></th>\n",
       "      <th>loan_status</th>\n",
       "      <th>annual_inc</th>\n",
       "      <th>verification_status</th>\n",
       "      <th>emp_length</th>\n",
       "      <th>home_ownership</th>\n",
       "      <th>int_rate</th>\n",
       "      <th>loan_amnt</th>\n",
       "      <th>purpose</th>\n",
       "      <th>term</th>\n",
       "      <th>grade</th>\n",
       "    </tr>\n",
       "  </thead>\n",
       "  <tbody>\n",
       "    <tr>\n",
       "      <th>0</th>\n",
       "      <td>Fully Paid</td>\n",
       "      <td>24000.0</td>\n",
       "      <td>Verified</td>\n",
       "      <td>10+ years</td>\n",
       "      <td>RENT</td>\n",
       "      <td>10.65</td>\n",
       "      <td>5000</td>\n",
       "      <td>credit_card</td>\n",
       "      <td>36 months</td>\n",
       "      <td>B</td>\n",
       "    </tr>\n",
       "    <tr>\n",
       "      <th>1</th>\n",
       "      <td>Charged Off</td>\n",
       "      <td>30000.0</td>\n",
       "      <td>Source Verified</td>\n",
       "      <td>&lt; 1 year</td>\n",
       "      <td>RENT</td>\n",
       "      <td>15.27</td>\n",
       "      <td>2500</td>\n",
       "      <td>car</td>\n",
       "      <td>60 months</td>\n",
       "      <td>C</td>\n",
       "    </tr>\n",
       "    <tr>\n",
       "      <th>2</th>\n",
       "      <td>Fully Paid</td>\n",
       "      <td>12252.0</td>\n",
       "      <td>Not Verified</td>\n",
       "      <td>10+ years</td>\n",
       "      <td>RENT</td>\n",
       "      <td>15.96</td>\n",
       "      <td>2400</td>\n",
       "      <td>small_business</td>\n",
       "      <td>36 months</td>\n",
       "      <td>C</td>\n",
       "    </tr>\n",
       "    <tr>\n",
       "      <th>3</th>\n",
       "      <td>Fully Paid</td>\n",
       "      <td>49200.0</td>\n",
       "      <td>Source Verified</td>\n",
       "      <td>10+ years</td>\n",
       "      <td>RENT</td>\n",
       "      <td>13.49</td>\n",
       "      <td>10000</td>\n",
       "      <td>other</td>\n",
       "      <td>36 months</td>\n",
       "      <td>C</td>\n",
       "    </tr>\n",
       "    <tr>\n",
       "      <th>4</th>\n",
       "      <td>Fully Paid</td>\n",
       "      <td>80000.0</td>\n",
       "      <td>Source Verified</td>\n",
       "      <td>1 year</td>\n",
       "      <td>RENT</td>\n",
       "      <td>12.69</td>\n",
       "      <td>3000</td>\n",
       "      <td>other</td>\n",
       "      <td>60 months</td>\n",
       "      <td>B</td>\n",
       "    </tr>\n",
       "  </tbody>\n",
       "</table>\n",
       "</div>"
      ],
      "text/plain": [
       "   loan_status  annual_inc verification_status emp_length home_ownership  \\\n",
       "0   Fully Paid     24000.0            Verified  10+ years           RENT   \n",
       "1  Charged Off     30000.0     Source Verified   < 1 year           RENT   \n",
       "2   Fully Paid     12252.0        Not Verified  10+ years           RENT   \n",
       "3   Fully Paid     49200.0     Source Verified  10+ years           RENT   \n",
       "4   Fully Paid     80000.0     Source Verified     1 year           RENT   \n",
       "\n",
       "   int_rate  loan_amnt         purpose        term grade  \n",
       "0     10.65       5000     credit_card   36 months     B  \n",
       "1     15.27       2500             car   60 months     C  \n",
       "2     15.96       2400  small_business   36 months     C  \n",
       "3     13.49      10000           other   36 months     C  \n",
       "4     12.69       3000           other   60 months     B  "
      ]
     },
     "execution_count": 5,
     "metadata": {},
     "output_type": "execute_result"
    }
   ],
   "source": [
    "df.head()"
   ]
  },
  {
   "cell_type": "code",
   "execution_count": 6,
   "metadata": {},
   "outputs": [
    {
     "name": "stdout",
     "output_type": "stream",
     "text": [
      "<class 'pandas.core.frame.DataFrame'>\n",
      "RangeIndex: 38705 entries, 0 to 38704\n",
      "Data columns (total 10 columns):\n",
      " #   Column               Non-Null Count  Dtype   \n",
      "---  ------               --------------  -----   \n",
      " 0   loan_status          38705 non-null  category\n",
      " 1   annual_inc           38705 non-null  float64 \n",
      " 2   verification_status  38705 non-null  category\n",
      " 3   emp_length           38705 non-null  category\n",
      " 4   home_ownership       38705 non-null  category\n",
      " 5   int_rate             38705 non-null  float64 \n",
      " 6   loan_amnt            38705 non-null  int64   \n",
      " 7   purpose              38705 non-null  category\n",
      " 8   term                 38705 non-null  category\n",
      " 9   grade                38705 non-null  category\n",
      "dtypes: category(7), float64(2), int64(1)\n",
      "memory usage: 1.1 MB\n"
     ]
    }
   ],
   "source": [
    "df.info()"
   ]
  },
  {
   "cell_type": "markdown",
   "metadata": {},
   "source": [
    "### **Conceptos básicos**\n",
    "\n",
    "#### **Medidas de tendencia central**\n",
    "\n",
    "* **Media aritmética o promedio**: Para un conjunto de $n$ valores $x_{1},x_{2},\\dots,x_{n}$ que representan una muestra, la \n",
    "$$\n",
    "\\bar{x}=\\frac{1}{n}\\sum_{i=1}^{n}x_{i}=\\frac{1}{n}(x_{1}+x_{2}+\\cdots+x_{n})\n",
    "$$"
   ]
  },
  {
   "cell_type": "code",
   "execution_count": null,
   "metadata": {},
   "outputs": [],
   "source": [
    "df['annual_inc'].mean()"
   ]
  },
  {
   "cell_type": "markdown",
   "metadata": {},
   "source": [
    "\n",
    "* **Mediana**:\tSe denotará como $\\tilde{x}$ para la muestra. Para un \n",
    "conjunto de valores ordenados se tiene:\n",
    "$$\n",
    "\\tilde{x}=\\begin{cases}\n",
    "x_{\\frac{n+1}{2}}, & \\text{si }  n  \\text{ es impar}\\\\\n",
    "\\frac{x_{\\frac{n}{2}}+x_{\\frac{n}{2}+1}}{2}, & \\text{si } n  \\text{ es par}\n",
    "\\end{cases}\n",
    "$$\n"
   ]
  },
  {
   "cell_type": "code",
   "execution_count": null,
   "metadata": {},
   "outputs": [],
   "source": [
    "df['annual_inc'].median()"
   ]
  },
  {
   "cell_type": "markdown",
   "metadata": {},
   "source": [
    "* **Moda**: Se denotapor $\\hat{x}$, es el dato u observación que más se repite. Los conjuntos pueden ser unimodales, bimodales o multimodales. Se puede calcular para datos cualitativos y cuantitativos."
   ]
  },
  {
   "cell_type": "code",
   "execution_count": 17,
   "metadata": {},
   "outputs": [
    {
     "name": "stdout",
     "output_type": "stream",
     "text": [
      "Moda:  60000.0  Frecuencia:  1474\n"
     ]
    }
   ],
   "source": [
    "# Calcula la moda y su frecuencia\n",
    "mode_value = df['annual_inc'].mode()[0]\n",
    "freq = df['annual_inc'].value_counts()[mode_value]\n",
    "\n",
    "# Imprime la moda y la frecuencia\n",
    "print(\"Moda: \", mode_value, \" Frecuencia: \", freq)"
   ]
  },
  {
   "cell_type": "markdown",
   "metadata": {},
   "source": [
    ":::{admonition} **Ventajas**\n",
    ":class: note\n",
    "* La media siempre se puede calcular.\n",
    "* La mediana no se afecta por valores extremos\n",
    "* La moda no se afecta por valores extremos. Única medida de tendencia central para datos categóricos.\n",
    ":::\n",
    "\n",
    ":::{admonition} **Desventajas**\n",
    ":class: warning\n",
    "\n",
    "* La media se ve afectada por valores extremos\n",
    "* Cuando la cantidad de datos es mucha, no es fácilmente de forma manual calcular la mediana.\n",
    "* No siempre hay moda. A veces puede existir, pero no ser única.\n",
    ":::"
   ]
  },
  {
   "cell_type": "markdown",
   "metadata": {},
   "source": [
    "#### **Medidas de dispersión**\n",
    "\n",
    "* La **varianza** $s^2$ de una muestra con valores $x_1,\\ldots,x_n$ se define por\n",
    "\n",
    "$$\n",
    "s^2 = \\frac{(x_1 - \\overline{x})^2+\\cdots+(x_n - \\overline{x})^2}{n-1},\n",
    "$$\n",
    "donde $\\overline{x}$ es la media de $x_1,\\ldots,x_n$.\n",
    "\n",
    "* La **desviación estándar** $s$ muestral de un conjunto de datos \n",
    "$x_1,\\ldots,x_n$ se define por\n",
    "\n",
    "$$\n",
    "s = \\sqrt{s^2}.\n",
    "$$"
   ]
  },
  {
   "cell_type": "code",
   "execution_count": 22,
   "metadata": {},
   "outputs": [
    {
     "data": {
      "text/plain": [
       "64222.95377876642"
      ]
     },
     "execution_count": 22,
     "metadata": {},
     "output_type": "execute_result"
    }
   ],
   "source": [
    "np.std(df['annual_inc'])"
   ]
  },
  {
   "cell_type": "markdown",
   "metadata": {},
   "source": [
    "* **coeficiente de variación de Pearson** $CV$ de un conjunto de datos se define por \n",
    "\n",
    "$$\n",
    "CV = \\left( \\frac{s}{\\overline{x}}  \\right)*100\\%,\n",
    "$$\n",
    "\n",
    "donde $s$ y $\\overline{x}$ son la desviación estándar de los datos y la media aritmética de los datos, \n",
    "respectivamente."
   ]
  },
  {
   "cell_type": "code",
   "execution_count": null,
   "metadata": {},
   "outputs": [],
   "source": [
    "# Calcular la media y la desviación estándar\n",
    "media = df['annual_inc'].mean()\n",
    "desviacion_estandar = df['annual_inc'].std()\n",
    "\n",
    "# Calcular el coeficiente de variación (CV)\n",
    "cv = (desviacion_estandar / media) * 100\n",
    "\n",
    "print(f\"El coeficiente de variación es: {cv:.2f}%\")"
   ]
  },
  {
   "cell_type": "markdown",
   "metadata": {},
   "source": [
    "#### **Medidas de posición**"
   ]
  },
  {
   "cell_type": "markdown",
   "metadata": {},
   "source": [
    "El **$p$-ésimo (punto) percentil** es un valor tal que a lo más un $p\\%$ de los datos tienen dicho valor o menos.\n",
    "\n",
    "Los **cuartiles** son las medidas de posición relativa correspondientes a un conjunto de datos divididos en cuatro partes iguales. Se definen así: \n",
    "\n",
    "- $Q_{1}$: Primer cuartil (25-ésimo percentil)\n",
    "- $Q_{2}$: Segundo cuartil (50-ésimo percentil o *mediana*)\n",
    "- $Q_{3}$: Tercer cuartil (75-ésimo percentil)"
   ]
  },
  {
   "cell_type": "markdown",
   "metadata": {},
   "source": [
    "El proceso para calcular un cuartil es:\n",
    "\n",
    "1. **Ordenar** los $n$ datos de menor a mayor.\n",
    "2. **Calcular un índice $i$** a través de la fórmula:\n",
    "\n",
    "   $$\n",
    "   i = \\frac{n \\cdot k}{4}\n",
    "   $$\n",
    "\n",
    "   siendo $n$ la cantidad de datos y $k = 1, 2, 3$.\n",
    "3. El cálculo del $k$-ésimo cuartil depende de si $i$ es entero o no:\n",
    "\n",
    "   - **Si $i$ no es entero**: Se redondea al entero siguiente. Esta aproximación indica la **posición** del $k$-ésimo cuartil.\n",
    "   - **Si $i$ es entero**: El $k$-ésimo cuartil es el promedio de los valores de los datos ubicados en las **posiciones** $i$ y $i+1$.\n"
   ]
  },
  {
   "cell_type": "code",
   "execution_count": 27,
   "metadata": {},
   "outputs": [
    {
     "name": "stdout",
     "output_type": "stream",
     "text": [
      "Primer cuartil (Q1): 41496.0\n",
      "Segundo cuartil (Q2 o Mediana): 60000.0\n",
      "Tercer cuartil (Q3): 83200.0\n"
     ]
    }
   ],
   "source": [
    "# Calcular los cuartiles\n",
    "q1 = df['annual_inc'].quantile(0.25)\n",
    "q2 = df['annual_inc'].quantile(0.50)  # Este es la mediana\n",
    "q3 = df['annual_inc'].quantile(0.75)\n",
    "\n",
    "print(f\"Primer cuartil (Q1): {q1}\")\n",
    "print(f\"Segundo cuartil (Q2 o Mediana): {q2}\")\n",
    "print(f\"Tercer cuartil (Q3): {q3}\")"
   ]
  },
  {
   "cell_type": "markdown",
   "metadata": {},
   "source": [
    "Una distribución es **simétrica** cuando la moda, la mediana y la media son aproximadamente iguales. En términos más coloquiales, las mitades izquierda y derecha de la distribución se ven idénticas, y ambas mitades comienzan con picos altos y se desvanecen a medida que uno se mueve hacia las \"colas\".\n",
    "\n",
    "![distribución](_image/6sigma.png)\n",
    "\n",
    "Una distribución tiene sesgo a la derecha - Sesgo positivo si la \"cola\" a la derecha de la media es más larga que la de la izquierda. De la misma manera, una distribución tiene sesgo a la izquierda - Sesgo negativo si la \"cola\" a la izquierda de la media es más larga que la de la derecha. Estos son ejemplos de distribuciones asimétricas.\n",
    "\n",
    "![sesgo](_image/skewness.png)\n",
    "\n",
    "![pearson](https://www.statisticshowto.com/wp-content/uploads/2014/02/pearson-mode-skewness.jpg)\n",
    "\n",
    "\n",
    "Las distribuciones asimétricas suelen ser problemáticas, ya que la mayoría de los métodos estadísticos están desarrollados para distribuciones normales, que son simétricas. Para superar estos problemas, generalmente se realizan transformaciones en los datos para que se asemejen más a una distribución normal. Esto se discutirá con mayor profundidad más adelante.\n",
    "\n",
    "El coeficiente de asimetría (skewness) se calcula con la siguiente fórmula:\n",
    "\n",
    "$$\n",
    "\\text{Skewness} = \\frac{n}{(n-1)(n-2)} \\sum \\left(\\frac{x_i - \\bar{x}}{s}\\right)^3\n",
    "$$\n",
    "\n",
    "donde:\n",
    "- $ n $ es el número de observaciones.\n",
    "- $x_i $ es el valor individual.\n",
    "- $\\bar{x}$ es la media de los valores.\n",
    "- $ s$ es la desviación estándar."
   ]
  },
  {
   "cell_type": "code",
   "execution_count": 29,
   "metadata": {},
   "outputs": [
    {
     "name": "stdout",
     "output_type": "stream",
     "text": [
      "Coeficiente de asimetría: 31.072660663606374\n"
     ]
    }
   ],
   "source": [
    "from scipy.stats import skew\n",
    "skewness = skew(df['annual_inc'])\n",
    "\n",
    "print(f'Coeficiente de asimetría: {skewness}')"
   ]
  },
  {
   "cell_type": "markdown",
   "metadata": {},
   "source": [
    "Un coeficiente de asimetría de $31.07$ es extremadamente alto y sugiere que la distribución de los datos en la columna annual_inc tiene una asimetría significativa hacia la derecha (sesgo positivo). Esto significa que la mayoría de los datos están concentrados en el lado izquierdo de la distribución, con una cola larga hacia la derecha."
   ]
  },
  {
   "cell_type": "markdown",
   "metadata": {},
   "source": [
    "Otra medida es la **curtosis**:\n",
    "\n",
    "Curtosis en exceso se define generalmente como curt – 3, una medida de la \"puntiagudez\" de la distribución de probabilidad de una variable aleatoria con valores reales.\n",
    "\n",
    "La curtosis en exceso para una distribución normal es 0 (es decir, 3 - 3 = 0).\n",
    "Un exceso negativo implica colas más ligeras que una distribución normal.\n",
    "Un exceso positivo implica colas más pesadas que una distribución normal.\n",
    "\n",
    "![kurtosis](_image/kurtosis.png)\n",
    " \n",
    "![kurtosis1](_image/kurtosis1.png)\n",
    "\n",
    "La curtosis (kurtosis) se calcula con la siguiente fórmula:\n",
    "\n",
    "$$\n",
    "\\text{Curtosis} = \\frac{n(n+1)}{(n-1)(n-2)(n-3)} \\sum \\left(\\frac{x_i - \\bar{x}}{s}\\right)^4 - \\frac{3(n-1)^2}{(n-2)(n-3)}\n",
    "$$\n",
    "\n",
    "donde:\n",
    "- $n$ es el número de observaciones.\n",
    "- $x_i$ es el valor individual.\n",
    "- $\\bar{x}$ es la media de los valores.\n",
    "- $s$ es la desviación estándar."
   ]
  },
  {
   "cell_type": "code",
   "execution_count": 30,
   "metadata": {},
   "outputs": [
    {
     "name": "stdout",
     "output_type": "stream",
     "text": [
      "Curtosis en exceso: 2298.548701935856\n"
     ]
    }
   ],
   "source": [
    "from scipy.stats import kurtosis\n",
    "\n",
    "# Calcular la curtosis\n",
    "curtosis = kurtosis(df['annual_inc'], fisher=True)\n",
    "\n",
    "# Imprimir el resultado\n",
    "print(f'Curtosis en exceso: {curtosis}')"
   ]
  },
  {
   "cell_type": "markdown",
   "metadata": {},
   "source": [
    "Un valor de $2298.55$ para la curtosis en exceso es extremadamente alto. Esto indica que la distribución de los datos en la columna annual_inc es muy puntiaguda y tiene colas muy pesadas en comparación con una distribución normal."
   ]
  },
  {
   "cell_type": "markdown",
   "metadata": {},
   "source": [
    "* El **rango intercuartil**, $RI$, es la distancia entre el primer y el tercer cuartil:\n",
    "$$RI = Q_3 - Q_1$$ \n",
    "\n",
    "* **Valor atípico**: Todo valor que está a más de $1.5RI$ de distancia del cuartil más cercano se dice que es \n",
    "atípico.Todo datos que se salga de este intervalo $(Q_1-1.5RI,Q_3+1.5RI)$ es un valor atípico."
   ]
  },
  {
   "cell_type": "markdown",
   "metadata": {},
   "source": [
    "Despues de haber visto los conceptos básicos de estadística descriptiva. Instalemos el paquete `pandas_profiling`:"
   ]
  },
  {
   "cell_type": "code",
   "execution_count": 33,
   "metadata": {},
   "outputs": [
    {
     "data": {
      "image/png": "[encoded data removed]",
      "text/plain": [
       "<Figure size 1000x600 with 1 Axes>"
      ]
     },
     "metadata": {},
     "output_type": "display_data"
    }
   ],
   "source": [
    "plt.figure(figsize=(10, 6))\n",
    "plt.boxplot(df['annual_inc'])\n",
    "plt.title('Gráfico de Cajas y Bigotes de annual_inc')\n",
    "plt.ylabel('annual_inc')\n",
    "plt.grid(True)\n",
    "\n",
    "# Mostrar el gráfico\n",
    "plt.show()"
   ]
  },
  {
   "cell_type": "code",
   "execution_count": null,
   "metadata": {},
   "outputs": [],
   "source": [
    "import pandas_profiling"
   ]
  },
  {
   "cell_type": "code",
   "execution_count": null,
   "metadata": {},
   "outputs": [],
   "source": [
    "df.profile_report()"
   ]
  }
 ],
 "metadata": {
  "kernelspec": {
   "display_name": "ml_venv",
   "language": "python",
   "name": "python3"
  },
  "language_info": {
   "codemirror_mode": {
    "name": "ipython",
    "version": 3
   },
   "file_extension": ".py",
   "mimetype": "text/x-python",
   "name": "python",
   "nbconvert_exporter": "python",
   "pygments_lexer": "ipython3",
   "version": "3.9.19"
  }
 },
 "nbformat": 4,
 "nbformat_minor": 2
}
