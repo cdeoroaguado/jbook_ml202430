{
 "cells": [
  {
   "cell_type": "markdown",
   "metadata": {},
   "source": [
    "# **Modulo 3: Análisis exploratorio de datos de la banca**\n",
    "\n",
    "La **estadística descriptiva** proporciona un marco para resumir y visualizar grandes volúmenes de datos financieros, como transacciones, historiales crediticios y comportamientos del mercado. Mediante el uso de medidas como la media, la mediana, la desviación estándar y los percentiles, los bancos pueden identificar patrones en el comportamiento de los clientes, como tendencias de gasto, ahorro y tasas de incumplimiento de crédito. Esta información es crucial para segmentar clientes, diseñar estrategias de marketing personalizadas y mejorar la gestión de carteras de productos financieros.\n",
    "\n",
    "Por otro lado, la **estadística inferencial** permite a los bancos realizar predicciones y tomar decisiones informadas bajo incertidumbre. A través de técnicas como pruebas de hipótesis, modelos de regresión y análisis de varianza (ANOVA), se puede inferir, por ejemplo, la probabilidad de que un cliente incumpla un préstamo o proyectar tendencias económicas como las tasas de interés e inflación. Estas inferencias son vitales para la gestión del riesgo crediticio y la planificación financiera a largo plazo.\n",
    "\n",
    "Complementando estos enfoques tradicionales, se encuentran técnicas avanzadas como el **Análisis de Componentes Principales (PCA)** y el **Clustering**, que ofrecen una perspectiva más profunda y efectiva en el manejo de datos complejos. El PCA es una técnica de reducción de dimensionalidad que permite simplificar conjuntos de datos de alta dimensión al identificar las variables más influyentes. En el sector bancario, PCA es fundamental para optimizar los modelos de puntuación crediticia, identificando los factores clave que afectan la solvencia de los clientes y mejorando así la precisión en la evaluación del riesgo.\n",
    "\n",
    "El **Clustering**, por su parte, es una técnica de aprendizaje no supervisado que agrupa datos en clusters o grupos de clientes con comportamientos similares. Esta técnica es ampliamente utilizada en la segmentación de clientes, ayudando a los bancos a personalizar sus ofertas de productos y servicios, mejorar las campañas de marketing, y aumentar la satisfacción del cliente. Además, el clustering es extremadamente útil en la detección de fraudes, al identificar transacciones que se desvían de los patrones normales de comportamiento, permitiendo a los bancos reaccionar de manera proactiva frente a posibles actividades fraudulentas.\n",
    "\n",
    "En conjunto, la combinación de estadística descriptiva e inferencial con técnicas avanzadas como PCA y Clustering ofrece a las instituciones bancarias un enfoque integral para analizar y aprovechar sus datos. Este módulo se centrará en cómo aplicar estas técnicas estadísticas y de aprendizaje automático en el análisis de datos bancarios, proporcionando a los participantes una comprensión sólida de cómo estas herramientas pueden ser utilizadas para enfrentar desafíos específicos en el sector financiero y potenciar la toma de decisiones basada en datos."
   ]
  },
  {
   "cell_type": "markdown",
   "metadata": {},
   "source": [
    "## **Estadística descriptiva**\n",
    "La estadística descriptiva es una rama de las matemáticas que se encarga de analizar, interpretar y presentar de manera estructurada los datos obtenidos a través de diferentes fuentes. Con Python y sus múltiples librerías de análisis de datos, podemos realizar de manera sencilla estadística descriptiva. Para el desarrollo óptimo de la parte estadística debemos conocer las funciones implementadas en python [Enlace](https://docs.scipy.org/doc/scipy/tutorial/stats.html)\n",
    "\n",
    "### **Población y muestra**\n",
    "\n",
    "La **estadística** es la ciencia de recolectar, organizar, analizar e interpretar información. Las \n",
    "estadísticas son números obtenidos de un conjunto o colección de datos.\n",
    "\n",
    "\n",
    "* Una **población** es el total de la información o de los objetos de interés para un \n",
    "estadístico en una investigación particular.\n",
    "* Una **muestra** es cualquier subconjunto de una población.\n",
    "* Un **dato** es un número o denominaciones que podemos asignar a un individuo o \n",
    "elemento de la población.\n",
    "\n",
    "Una **variable aleatoria** son fenómenos o características medibles de los elementos de la población. Ejemplo: sexo, edad, peso, estatura, color de ojos, estado civil, temperatura, cantidad de nacimientos, presión, diámetro, etc, esta medición genera como resultado la obtención de **datos**\n",
    "\n",
    "* Un **parámetro** es cualquier característica numérica de una población.\n",
    "* Un **estadístico** es cualquier caractrística numérica de una muestra.\n",
    "\n"
   ]
  },
  {
   "cell_type": "markdown",
   "metadata": {},
   "source": [
    "### **Tipos de datos**\n",
    "\n",
    "De forma general los datos se clasifican en cuantitativos o numéricos y cualitativos o categóricos, mismos que se subdividen tal como se indica en la siguiente figura:\n",
    "\n",
    " ![tipo](_image/tipo.png)\n"
   ]
  },
  {
   "cell_type": "markdown",
   "metadata": {},
   "source": [
    "Analicemos el siguiente conjunto de datos:\n",
    "\n",
    "**Contexto empresarial**. Los préstamos entre pares (P2P) en línea han facilitado la práctica de pedir y prestar dinero. En esta forma de préstamo, no hay una entrevista en persona y el prestatario puede simplemente completar un formulario en línea y obtener la aprobación del préstamo. La información proporcionada únicamente por el prestatario es propensa a exageraciones y distorsiones, especialmente cuando se trata de ingresos. Todas las empresas de préstamos entre pares se basan en un procedimiento bien diseñado que rechaza a los prestatarios con una alta probabilidad de no pagar sus deudas.\n",
    "\n",
    "Rechazar a cualquier persona que no tenga una fuente de ingresos verificada es una política relevante que las plataformas de préstamos pueden implementar para ayudar a reducir la tasa de préstamos incobrables. Es natural sospechar que si no se puede verificar la fuente de ingresos de una persona, es posible que no pueda pagar el préstamo. Sin embargo, desde la perspectiva de un prestatario, el proceso de verificación puede ser engorroso y llevar mucho tiempo, y es posible que simplemente cambie de plataforma debido a este inconveniente.\n",
    "\n",
    "**Problema empresarial**. Como científico de datos de una empresa emergente de préstamos P2P, debe responder a la siguiente pregunta: \"¿Debería la empresa verificar la fuente de ingresos de un solicitante de préstamo en línea antes de aprobar su préstamo?\"\n",
    "\n",
    "**Contexto analítico**. Los datos son de [LendingClub (LC) Statistics](https://www.lendingclub.com/info/download-data.action) y contienen todos los préstamos emitidos entre 2007 y 2012 junto con su estado actual (pagados en su totalidad o cancelados). Hay aproximadamente 50 variables que describen a los prestatarios y los préstamos; con el fin de reducir la complejidad, la empresa ya ha realizado una preselección de estas variables en función de los análisis existentes de LendingClub para seleccionar nueve variables relevantes, como los ingresos anuales, la calificación crediticia de LendingClub, la propiedad de la vivienda, etc. Utilizaremos una nueva técnica, la regresión logística , para responder a nuestra pregunta en cuestión."
   ]
  },
  {
   "cell_type": "markdown",
   "metadata": {},
   "source": [
    "Echemos un vistazo a los datos que tenemos a nuestra disposición:"
   ]
  },
  {
   "cell_type": "code",
   "execution_count": 42,
   "metadata": {},
   "outputs": [],
   "source": [
    "import warnings\n",
    "warnings.filterwarnings(\"ignore\", category=FutureWarning)"
   ]
  },
  {
   "cell_type": "code",
   "execution_count": 43,
   "metadata": {},
   "outputs": [],
   "source": [
    "# Cargar paquetes\n",
    "import pandas as pd\n",
    "import numpy as np\n",
    "import matplotlib.pyplot as plt"
   ]
  },
  {
   "cell_type": "code",
   "execution_count": 44,
   "metadata": {},
   "outputs": [
    {
     "data": {
      "text/html": [
       "<div>\n",
       "<style scoped>\n",
       "    .dataframe tbody tr th:only-of-type {\n",
       "        vertical-align: middle;\n",
       "    }\n",
       "\n",
       "    .dataframe tbody tr th {\n",
       "        vertical-align: top;\n",
       "    }\n",
       "\n",
       "    .dataframe thead th {\n",
       "        text-align: right;\n",
       "    }\n",
       "</style>\n",
       "<table border=\"1\" class=\"dataframe\">\n",
       "  <thead>\n",
       "    <tr style=\"text-align: right;\">\n",
       "      <th></th>\n",
       "      <th>loan_status</th>\n",
       "      <th>annual_inc</th>\n",
       "      <th>verification_status</th>\n",
       "      <th>emp_length</th>\n",
       "      <th>home_ownership</th>\n",
       "      <th>int_rate</th>\n",
       "      <th>loan_amnt</th>\n",
       "      <th>purpose</th>\n",
       "      <th>term</th>\n",
       "      <th>grade</th>\n",
       "    </tr>\n",
       "  </thead>\n",
       "  <tbody>\n",
       "    <tr>\n",
       "      <th>0</th>\n",
       "      <td>Fully Paid</td>\n",
       "      <td>24000.0</td>\n",
       "      <td>Verified</td>\n",
       "      <td>10+ years</td>\n",
       "      <td>RENT</td>\n",
       "      <td>10.65%</td>\n",
       "      <td>5000</td>\n",
       "      <td>credit_card</td>\n",
       "      <td>36 months</td>\n",
       "      <td>B</td>\n",
       "    </tr>\n",
       "    <tr>\n",
       "      <th>1</th>\n",
       "      <td>Charged Off</td>\n",
       "      <td>30000.0</td>\n",
       "      <td>Source Verified</td>\n",
       "      <td>&lt; 1 year</td>\n",
       "      <td>RENT</td>\n",
       "      <td>15.27%</td>\n",
       "      <td>2500</td>\n",
       "      <td>car</td>\n",
       "      <td>60 months</td>\n",
       "      <td>C</td>\n",
       "    </tr>\n",
       "    <tr>\n",
       "      <th>2</th>\n",
       "      <td>Fully Paid</td>\n",
       "      <td>12252.0</td>\n",
       "      <td>Not Verified</td>\n",
       "      <td>10+ years</td>\n",
       "      <td>RENT</td>\n",
       "      <td>15.96%</td>\n",
       "      <td>2400</td>\n",
       "      <td>small_business</td>\n",
       "      <td>36 months</td>\n",
       "      <td>C</td>\n",
       "    </tr>\n",
       "    <tr>\n",
       "      <th>3</th>\n",
       "      <td>Fully Paid</td>\n",
       "      <td>49200.0</td>\n",
       "      <td>Source Verified</td>\n",
       "      <td>10+ years</td>\n",
       "      <td>RENT</td>\n",
       "      <td>13.49%</td>\n",
       "      <td>10000</td>\n",
       "      <td>other</td>\n",
       "      <td>36 months</td>\n",
       "      <td>C</td>\n",
       "    </tr>\n",
       "    <tr>\n",
       "      <th>4</th>\n",
       "      <td>Fully Paid</td>\n",
       "      <td>80000.0</td>\n",
       "      <td>Source Verified</td>\n",
       "      <td>1 year</td>\n",
       "      <td>RENT</td>\n",
       "      <td>12.69%</td>\n",
       "      <td>3000</td>\n",
       "      <td>other</td>\n",
       "      <td>60 months</td>\n",
       "      <td>B</td>\n",
       "    </tr>\n",
       "  </tbody>\n",
       "</table>\n",
       "</div>"
      ],
      "text/plain": [
       "   loan_status  annual_inc verification_status emp_length home_ownership  \\\n",
       "0   Fully Paid     24000.0            Verified  10+ years           RENT   \n",
       "1  Charged Off     30000.0     Source Verified   < 1 year           RENT   \n",
       "2   Fully Paid     12252.0        Not Verified  10+ years           RENT   \n",
       "3   Fully Paid     49200.0     Source Verified  10+ years           RENT   \n",
       "4   Fully Paid     80000.0     Source Verified     1 year           RENT   \n",
       "\n",
       "  int_rate  loan_amnt         purpose        term grade  \n",
       "0   10.65%       5000     credit_card   36 months     B  \n",
       "1   15.27%       2500             car   60 months     C  \n",
       "2   15.96%       2400  small_business   36 months     C  \n",
       "3   13.49%      10000           other   36 months     C  \n",
       "4   12.69%       3000           other   60 months     B  "
      ]
     },
     "execution_count": 44,
     "metadata": {},
     "output_type": "execute_result"
    }
   ],
   "source": [
    "df = pd.read_csv('_data/datadescrip/Lending_club_cleaned_2.csv')\n",
    "df.head()"
   ]
  },
  {
   "cell_type": "markdown",
   "metadata": {},
   "source": [
    "Esta es la descripción de las variables\n",
    "\n",
    "|       Variable       |                                                           Descripción                                                                                           |\n",
    "|:--------------------:|:-----------------------------------------------------------------------------------------------------------------------------------------------------------------|\n",
    "|      loan_status     | La primera columna indica si el prestatario pagó el préstamo (pagado en su totalidad Fully Paid) o no (dañó el préstamo Charged Off).                                                                                          |\n",
    "|      annual_inc      | El ingreso anual autodeclarado proporcionado por el prestatario durante el registro.                                                                              |\n",
    "| verification_status  | Indica si el ingreso fue verificado por LC, no verificado, o si la fuente de ingresos fue verificada.                                                            |\n",
    "|      emp_length      | La duración del empleo en años. Los valores posibles están entre 0 y 10, donde 0 significa menos de un año y 10 significa diez o más años.                       |\n",
    "|   home_ownership     | El estado de propiedad de la vivienda proporcionado por el prestatario durante el registro u obtenido del informe crediticio. Los valores son: RENT, OWN, MORTGAGE, OTHER. |\n",
    "|       int_rate       | Tasa de interés del préstamo.                                                                                                                                     |\n",
    "|      loan_amnt       | El monto listado del préstamo solicitado por el prestatario. Si en algún momento el departamento de crédito reduce el monto del préstamo, se reflejará en este valor.|\n",
    "|       purpose        | Una categoría proporcionada por el prestatario para la solicitud de préstamo.                                                                                     |\n",
    "|         term         | El número de pagos del préstamo. Los valores están en meses y pueden ser 36 o 60.                                                                                 |\n",
    "|        grade         | Calificación del préstamo asignada por LC.                                                                                                                        |\n"
   ]
  },
  {
   "cell_type": "code",
   "execution_count": 4,
   "metadata": {},
   "outputs": [
    {
     "name": "stdout",
     "output_type": "stream",
     "text": [
      "<class 'pandas.core.frame.DataFrame'>\n",
      "RangeIndex: 38705 entries, 0 to 38704\n",
      "Data columns (total 10 columns):\n",
      " #   Column               Non-Null Count  Dtype  \n",
      "---  ------               --------------  -----  \n",
      " 0   loan_status          38705 non-null  object \n",
      " 1   annual_inc           38705 non-null  float64\n",
      " 2   verification_status  38705 non-null  object \n",
      " 3   emp_length           38705 non-null  object \n",
      " 4   home_ownership       38705 non-null  object \n",
      " 5   int_rate             38705 non-null  object \n",
      " 6   loan_amnt            38705 non-null  int64  \n",
      " 7   purpose              38705 non-null  object \n",
      " 8   term                 38705 non-null  object \n",
      " 9   grade                38705 non-null  object \n",
      "dtypes: float64(1), int64(1), object(8)\n",
      "memory usage: 3.0+ MB\n"
     ]
    }
   ],
   "source": [
    "df.info()"
   ]
  },
  {
   "cell_type": "markdown",
   "metadata": {},
   "source": [
    "Realicemos una limpieza de los datos para realizar el análisis exploratorio"
   ]
  },
  {
   "cell_type": "code",
   "execution_count": 49,
   "metadata": {},
   "outputs": [],
   "source": [
    "#Cambiar loan_status, verification_status, emp_length, term y grade al tipo categórico \n",
    "df.loan_status = df.loan_status.astype(pd.api.types.CategoricalDtype(categories=['Charged Off', 'Fully Paid']))\n",
    "df.verification_status = df.verification_status.astype(pd.api.types.CategoricalDtype(categories=['Not Verified', 'Source Verified', 'Verified']))\n",
    "df.emp_length = df.emp_length.astype(pd.api.types.CategoricalDtype(categories=['< 1 year', '1 year', '2 years', '3 years', '4 years', \\\n",
    "                                                             '5 years', '6 years', '7 years', '8 years', '9 years', \\\n",
    "                                                             '10+ years']))\n",
    "df.home_ownership = df.home_ownership.astype(pd.api.types.CategoricalDtype(categories=['RENT','MORTGAGE','OWN','OTHER']))\n",
    "df.term = df.term.astype(pd.api.types.CategoricalDtype(categories=[' 36 months', ' 60 months']))\n",
    "df.grade = df.grade.astype(pd.api.types.CategoricalDtype(categories=['A','B','C','D','E','F','G']))\n",
    "df.purpose = df.purpose.astype(pd.api.types.CategoricalDtype(categories=['debt_consolidation', 'credit_card', 'other', 'home_improvement',\n",
    "                                                                         'major_purchase', 'small_business', 'car', 'wedding', 'medical',\n",
    "                                                                         'moving', 'house', 'vacation', 'educational', 'renewable_energy']))\n",
    "\n",
    "#Además, los datos originales en int_rate contienen cadenas en la forma 'x.xx%', \n",
    "#eliminamos el % y cambiamos los valores a tipo float:\n",
    "df.int_rate = df.int_rate.str.rstrip('%').astype('float')"
   ]
  },
  {
   "cell_type": "code",
   "execution_count": 50,
   "metadata": {},
   "outputs": [
    {
     "data": {
      "text/html": [
       "<div>\n",
       "<style scoped>\n",
       "    .dataframe tbody tr th:only-of-type {\n",
       "        vertical-align: middle;\n",
       "    }\n",
       "\n",
       "    .dataframe tbody tr th {\n",
       "        vertical-align: top;\n",
       "    }\n",
       "\n",
       "    .dataframe thead th {\n",
       "        text-align: right;\n",
       "    }\n",
       "</style>\n",
       "<table border=\"1\" class=\"dataframe\">\n",
       "  <thead>\n",
       "    <tr style=\"text-align: right;\">\n",
       "      <th></th>\n",
       "      <th>loan_status</th>\n",
       "      <th>annual_inc</th>\n",
       "      <th>verification_status</th>\n",
       "      <th>emp_length</th>\n",
       "      <th>home_ownership</th>\n",
       "      <th>int_rate</th>\n",
       "      <th>loan_amnt</th>\n",
       "      <th>purpose</th>\n",
       "      <th>term</th>\n",
       "      <th>grade</th>\n",
       "    </tr>\n",
       "  </thead>\n",
       "  <tbody>\n",
       "    <tr>\n",
       "      <th>0</th>\n",
       "      <td>Fully Paid</td>\n",
       "      <td>24000.0</td>\n",
       "      <td>Verified</td>\n",
       "      <td>10+ years</td>\n",
       "      <td>RENT</td>\n",
       "      <td>10.65</td>\n",
       "      <td>5000</td>\n",
       "      <td>credit_card</td>\n",
       "      <td>36 months</td>\n",
       "      <td>B</td>\n",
       "    </tr>\n",
       "    <tr>\n",
       "      <th>1</th>\n",
       "      <td>Charged Off</td>\n",
       "      <td>30000.0</td>\n",
       "      <td>Source Verified</td>\n",
       "      <td>&lt; 1 year</td>\n",
       "      <td>RENT</td>\n",
       "      <td>15.27</td>\n",
       "      <td>2500</td>\n",
       "      <td>car</td>\n",
       "      <td>60 months</td>\n",
       "      <td>C</td>\n",
       "    </tr>\n",
       "    <tr>\n",
       "      <th>2</th>\n",
       "      <td>Fully Paid</td>\n",
       "      <td>12252.0</td>\n",
       "      <td>Not Verified</td>\n",
       "      <td>10+ years</td>\n",
       "      <td>RENT</td>\n",
       "      <td>15.96</td>\n",
       "      <td>2400</td>\n",
       "      <td>small_business</td>\n",
       "      <td>36 months</td>\n",
       "      <td>C</td>\n",
       "    </tr>\n",
       "    <tr>\n",
       "      <th>3</th>\n",
       "      <td>Fully Paid</td>\n",
       "      <td>49200.0</td>\n",
       "      <td>Source Verified</td>\n",
       "      <td>10+ years</td>\n",
       "      <td>RENT</td>\n",
       "      <td>13.49</td>\n",
       "      <td>10000</td>\n",
       "      <td>other</td>\n",
       "      <td>36 months</td>\n",
       "      <td>C</td>\n",
       "    </tr>\n",
       "    <tr>\n",
       "      <th>4</th>\n",
       "      <td>Fully Paid</td>\n",
       "      <td>80000.0</td>\n",
       "      <td>Source Verified</td>\n",
       "      <td>1 year</td>\n",
       "      <td>RENT</td>\n",
       "      <td>12.69</td>\n",
       "      <td>3000</td>\n",
       "      <td>other</td>\n",
       "      <td>60 months</td>\n",
       "      <td>B</td>\n",
       "    </tr>\n",
       "  </tbody>\n",
       "</table>\n",
       "</div>"
      ],
      "text/plain": [
       "   loan_status  annual_inc verification_status emp_length home_ownership  \\\n",
       "0   Fully Paid     24000.0            Verified  10+ years           RENT   \n",
       "1  Charged Off     30000.0     Source Verified   < 1 year           RENT   \n",
       "2   Fully Paid     12252.0        Not Verified  10+ years           RENT   \n",
       "3   Fully Paid     49200.0     Source Verified  10+ years           RENT   \n",
       "4   Fully Paid     80000.0     Source Verified     1 year           RENT   \n",
       "\n",
       "   int_rate  loan_amnt         purpose        term grade  \n",
       "0     10.65       5000     credit_card   36 months     B  \n",
       "1     15.27       2500             car   60 months     C  \n",
       "2     15.96       2400  small_business   36 months     C  \n",
       "3     13.49      10000           other   36 months     C  \n",
       "4     12.69       3000           other   60 months     B  "
      ]
     },
     "execution_count": 50,
     "metadata": {},
     "output_type": "execute_result"
    }
   ],
   "source": [
    "df.head()"
   ]
  },
  {
   "cell_type": "code",
   "execution_count": 51,
   "metadata": {},
   "outputs": [
    {
     "name": "stdout",
     "output_type": "stream",
     "text": [
      "<class 'pandas.core.frame.DataFrame'>\n",
      "RangeIndex: 38705 entries, 0 to 38704\n",
      "Data columns (total 10 columns):\n",
      " #   Column               Non-Null Count  Dtype   \n",
      "---  ------               --------------  -----   \n",
      " 0   loan_status          38705 non-null  category\n",
      " 1   annual_inc           38705 non-null  float64 \n",
      " 2   verification_status  38705 non-null  category\n",
      " 3   emp_length           38705 non-null  category\n",
      " 4   home_ownership       38705 non-null  category\n",
      " 5   int_rate             38705 non-null  float64 \n",
      " 6   loan_amnt            38705 non-null  int64   \n",
      " 7   purpose              38705 non-null  category\n",
      " 8   term                 38705 non-null  category\n",
      " 9   grade                38705 non-null  category\n",
      "dtypes: category(7), float64(2), int64(1)\n",
      "memory usage: 1.1 MB\n"
     ]
    }
   ],
   "source": [
    "df.info()"
   ]
  },
  {
   "cell_type": "markdown",
   "metadata": {},
   "source": [
    "### **Análisis univariado**\n",
    "\n",
    "Si la variable es categórica."
   ]
  },
  {
   "cell_type": "markdown",
   "metadata": {},
   "source": [
    "#### **Medidas de conteo y proporciones**\n",
    "\n",
    "El análisis de frecuencia es una técnica estadística que se utiliza para contar la cantidad de veces que ocurre cada categoría o valor dentro de una variable, generalmente en variables categóricas o discretas. Este tipo de análisis ayudar a identificar patrones 0 valores más comunes.\n",
    "\n",
    "**Componentes clave del análisis de frecuencia**:\n",
    "\n",
    "1. **Frecuencia Absoluta o conteo**: El número de veces que un valor o categoría específico aparece en el conjunto de datos. "
   ]
  },
  {
   "cell_type": "code",
   "execution_count": null,
   "metadata": {},
   "outputs": [],
   "source": [
    "# conteo\n",
    "df['loan_status'].value_counts() "
   ]
  },
  {
   "cell_type": "markdown",
   "metadata": {},
   "source": [
    "2. **Frecuencia Relativa o proporciones**: Es la proporción o porcentaje de veces que ocurre un valor o categoría en relación con el total de observaciones."
   ]
  },
  {
   "cell_type": "code",
   "execution_count": null,
   "metadata": {},
   "outputs": [],
   "source": [
    "# Proporciones\n",
    "df['loan_status'].value_counts(normalize=True)"
   ]
  },
  {
   "cell_type": "markdown",
   "metadata": {},
   "source": [
    "Veamos otra variable categórica"
   ]
  },
  {
   "cell_type": "code",
   "execution_count": 14,
   "metadata": {},
   "outputs": [
    {
     "name": "stdout",
     "output_type": "stream",
     "text": [
      "grade\n",
      "B    11697\n",
      "A     9694\n",
      "C     7938\n",
      "D     5213\n",
      "E     2811\n",
      "F     1035\n",
      "G      317\n",
      "Name: count, dtype: int64\n",
      "grade\n",
      "B    0.302209\n",
      "A    0.250459\n",
      "C    0.205090\n",
      "D    0.134685\n",
      "E    0.072626\n",
      "F    0.026741\n",
      "G    0.008190\n",
      "Name: proportion, dtype: float64\n",
      "       Conteo  Proporción\n",
      "grade                    \n",
      "B       11697    0.302209\n",
      "A        9694    0.250459\n",
      "C        7938    0.205090\n",
      "D        5213    0.134685\n",
      "E        2811    0.072626\n",
      "F        1035    0.026741\n",
      "G         317    0.008190\n"
     ]
    }
   ],
   "source": [
    "# Descriptivo de una sola variable categórica solo conteo\n",
    "conteo = df['grade'].value_counts()\n",
    "print(conteo)\n",
    "\n",
    "# Descriptivo de una sola variable categórica solo proporcion\n",
    "proporciones = df['grade'].value_counts(normalize=True)\n",
    "print(proporciones)\n",
    "\n",
    "# Combinar los resultados en un solo DataFrame\n",
    "resultado = pd.DataFrame({\n",
    "    'Conteo': conteo,\n",
    "    'Proporción': proporciones\n",
    "})\n",
    "\n",
    "# imprimir\n",
    "print(resultado)"
   ]
  },
  {
   "cell_type": "markdown",
   "metadata": {},
   "source": [
    "Si nuestra variable es *numérica*.\n",
    "\n",
    "#### **Medidas de tendencia central**\n",
    "\n",
    "* **Media aritmética o promedio**: Para un conjunto de $n$ valores $x_{1},x_{2},\\dots,x_{n}$ que representan una muestra, la \n",
    "\n",
    "$$\n",
    "\\bar{x}=\\frac{1}{n}\\sum_{i=1}^{n}x_{i}=\\frac{1}{n}(x_{1}+x_{2}+\\cdots+x_{n})\n",
    "$$"
   ]
  },
  {
   "cell_type": "code",
   "execution_count": null,
   "metadata": {},
   "outputs": [],
   "source": [
    "df['annual_inc'].mean()"
   ]
  },
  {
   "cell_type": "markdown",
   "metadata": {},
   "source": [
    "\n",
    "* **Mediana**:\tSe denotará como $\\tilde{x}$ para la muestra. Para un \n",
    "conjunto de valores ordenados se tiene:\n",
    "\n",
    "$$\n",
    "\\tilde{x}=\\begin{cases}\n",
    "x_{\\frac{n+1}{2}}, & \\text{si }  n  \\text{ es impar}\\\\\n",
    "\\frac{x_{\\frac{n}{2}}+x_{\\frac{n}{2}+1}}{2}, & \\text{si } n  \\text{ es par}\n",
    "\\end{cases}\n",
    "$$\n"
   ]
  },
  {
   "cell_type": "code",
   "execution_count": null,
   "metadata": {},
   "outputs": [],
   "source": [
    "df['annual_inc'].median()"
   ]
  },
  {
   "cell_type": "markdown",
   "metadata": {},
   "source": [
    "* **Moda**: Se denotapor $\\hat{x}$, es el dato u observación que más se repite. Los conjuntos pueden ser unimodales, bimodales o multimodales. Se puede calcular para datos cualitativos y cuantitativos."
   ]
  },
  {
   "cell_type": "code",
   "execution_count": 17,
   "metadata": {},
   "outputs": [
    {
     "name": "stdout",
     "output_type": "stream",
     "text": [
      "Moda:  60000.0  Frecuencia:  1474\n"
     ]
    }
   ],
   "source": [
    "# Calcula la moda y su frecuencia\n",
    "mode_value = df['annual_inc'].mode()[0]\n",
    "freq = df['annual_inc'].value_counts()[mode_value]\n",
    "\n",
    "# Imprime la moda y la frecuencia\n",
    "print(\"Moda: \", mode_value, \" Frecuencia: \", freq)"
   ]
  },
  {
   "cell_type": "markdown",
   "metadata": {},
   "source": [
    ":::{admonition} **Ventajas**\n",
    ":class: note\n",
    "* La media siempre se puede calcular.\n",
    "* La mediana no se afecta por valores extremos\n",
    "* La moda no se afecta por valores extremos. Única medida de tendencia central para datos categóricos.\n",
    ":::\n",
    "\n",
    ":::{admonition} **Desventajas**\n",
    ":class: warning\n",
    "\n",
    "* La media se ve afectada por valores extremos\n",
    "* Cuando la cantidad de datos es mucha, no es fácilmente de forma manual calcular la mediana.\n",
    "* No siempre hay moda. A veces puede existir, pero no ser única.\n",
    ":::"
   ]
  },
  {
   "cell_type": "markdown",
   "metadata": {},
   "source": [
    "#### **Medidas de dispersión**\n",
    "\n",
    "* La **varianza** $s^2$ de una muestra con valores $x_1,\\ldots,x_n$ se define por\n",
    "\n",
    "$$\n",
    "s^2 = \\frac{(x_1 - \\overline{x})^2+\\cdots+(x_n - \\overline{x})^2}{n-1},\n",
    "$$\n",
    "donde $\\overline{x}$ es la media de $x_1,\\ldots,x_n$.\n",
    "\n",
    "* La **desviación estándar** $s$ muestral de un conjunto de datos \n",
    "$x_1,\\ldots,x_n$ se define por\n",
    "\n",
    "$$\n",
    "s = \\sqrt{s^2}.\n",
    "$$"
   ]
  },
  {
   "cell_type": "code",
   "execution_count": 22,
   "metadata": {},
   "outputs": [
    {
     "data": {
      "text/plain": [
       "64222.95377876642"
      ]
     },
     "execution_count": 22,
     "metadata": {},
     "output_type": "execute_result"
    }
   ],
   "source": [
    "np.std(df['annual_inc'])"
   ]
  },
  {
   "cell_type": "markdown",
   "metadata": {},
   "source": [
    "* **coeficiente de variación de Pearson** $CV$ de un conjunto de datos se define por \n",
    "\n",
    "$$\n",
    "CV = \\left( \\frac{s}{\\overline{x}}  \\right)*100\\%,\n",
    "$$\n",
    "\n",
    "donde $s$ y $\\overline{x}$ son la desviación estándar de los datos y la media aritmética de los datos, \n",
    "respectivamente."
   ]
  },
  {
   "cell_type": "code",
   "execution_count": null,
   "metadata": {},
   "outputs": [],
   "source": [
    "# Calcular la media y la desviación estándar\n",
    "media = df['annual_inc'].mean()\n",
    "desviacion_estandar = df['annual_inc'].std()\n",
    "\n",
    "# Calcular el coeficiente de variación (CV)\n",
    "cv = (desviacion_estandar / media) * 100\n",
    "\n",
    "print(f\"El coeficiente de variación es: {cv:.2f}%\")"
   ]
  },
  {
   "cell_type": "markdown",
   "metadata": {},
   "source": [
    "#### **Medidas de posición**"
   ]
  },
  {
   "cell_type": "markdown",
   "metadata": {},
   "source": [
    "El **$p$-ésimo (punto) percentil** es un valor tal que a lo más un $p\\%$ de los datos tienen dicho valor o menos.\n",
    "\n",
    "Los **cuartiles** son las medidas de posición relativa correspondientes a un conjunto de datos divididos en cuatro partes iguales. Se definen así: \n",
    "\n",
    "- $Q_{1}$: Primer cuartil (25-ésimo percentil)\n",
    "- $Q_{2}$: Segundo cuartil (50-ésimo percentil o *mediana*)\n",
    "- $Q_{3}$: Tercer cuartil (75-ésimo percentil)"
   ]
  },
  {
   "cell_type": "markdown",
   "metadata": {},
   "source": [
    "El proceso para calcular un cuartil es:\n",
    "\n",
    "1. **Ordenar** los $n$ datos de menor a mayor.\n",
    "2. **Calcular un índice $i$** a través de la fórmula:\n",
    "\n",
    "   $$\n",
    "   i = \\frac{n \\cdot k}{4}\n",
    "   $$\n",
    "\n",
    "   siendo $n$ la cantidad de datos y $k = 1, 2, 3$.\n",
    "3. El cálculo del $k$-ésimo cuartil depende de si $i$ es entero o no:\n",
    "\n",
    "   - **Si $i$ no es entero**: Se redondea al entero siguiente. Esta aproximación indica la **posición** del $k$-ésimo cuartil.\n",
    "   - **Si $i$ es entero**: El $k$-ésimo cuartil es el promedio de los valores de los datos ubicados en las **posiciones** $i$ y $i+1$.\n"
   ]
  },
  {
   "cell_type": "code",
   "execution_count": 27,
   "metadata": {},
   "outputs": [
    {
     "name": "stdout",
     "output_type": "stream",
     "text": [
      "Primer cuartil (Q1): 41496.0\n",
      "Segundo cuartil (Q2 o Mediana): 60000.0\n",
      "Tercer cuartil (Q3): 83200.0\n"
     ]
    }
   ],
   "source": [
    "# Calcular los cuartiles\n",
    "q1 = df['annual_inc'].quantile(0.25)\n",
    "q2 = df['annual_inc'].quantile(0.50)  # Este es la mediana\n",
    "q3 = df['annual_inc'].quantile(0.75)\n",
    "\n",
    "print(f\"Primer cuartil (Q1): {q1}\")\n",
    "print(f\"Segundo cuartil (Q2 o Mediana): {q2}\")\n",
    "print(f\"Tercer cuartil (Q3): {q3}\")"
   ]
  },
  {
   "cell_type": "markdown",
   "metadata": {},
   "source": [
    "Una distribución es **simétrica** cuando la moda, la mediana y la media son aproximadamente iguales. En términos más coloquiales, las mitades izquierda y derecha de la distribución se ven idénticas, y ambas mitades comienzan con picos altos y se desvanecen a medida que uno se mueve hacia las \"colas\".\n",
    "\n",
    "![distribución](_image/6sigma.png)\n",
    "\n",
    "Una distribución tiene sesgo a la derecha - Sesgo positivo si la \"cola\" a la derecha de la media es más larga que la de la izquierda. De la misma manera, una distribución tiene sesgo a la izquierda - Sesgo negativo si la \"cola\" a la izquierda de la media es más larga que la de la derecha. Estos son ejemplos de distribuciones asimétricas.\n",
    "\n",
    "![sesgo](_image/skewness.png)\n",
    "\n",
    "![pearson](_image/pearson.jpg)\n",
    "\n",
    "\n",
    "Las distribuciones asimétricas suelen ser problemáticas, ya que la mayoría de los métodos estadísticos están desarrollados para distribuciones normales, que son simétricas. Para superar estos problemas, generalmente se realizan transformaciones en los datos para que se asemejen más a una distribución normal. Esto se discutirá con mayor profundidad más adelante.\n",
    "\n",
    "El coeficiente de asimetría (skewness) se calcula con la siguiente fórmula:\n",
    "\n",
    "$$\n",
    "\\text{Skewness} = \\frac{n}{(n-1)(n-2)} \\sum \\left(\\frac{x_i - \\bar{x}}{s}\\right)^3\n",
    "$$\n",
    "\n",
    "donde:\n",
    "- $ n $ es el número de observaciones.\n",
    "- $x_i $ es el valor individual.\n",
    "- $\\bar{x}$ es la media de los valores.\n",
    "- $ s$ es la desviación estándar."
   ]
  },
  {
   "cell_type": "code",
   "execution_count": 29,
   "metadata": {},
   "outputs": [
    {
     "name": "stdout",
     "output_type": "stream",
     "text": [
      "Coeficiente de asimetría: 31.072660663606374\n"
     ]
    }
   ],
   "source": [
    "from scipy.stats import skew\n",
    "skewness = skew(df['annual_inc'])\n",
    "\n",
    "print(f'Coeficiente de asimetría: {skewness}')"
   ]
  },
  {
   "cell_type": "markdown",
   "metadata": {},
   "source": [
    "Un coeficiente de asimetría de $31.07$ es extremadamente alto y sugiere que la distribución de los datos en la columna annual_inc tiene una asimetría significativa hacia la derecha (sesgo positivo). Esto significa que la mayoría de los datos están concentrados en el lado izquierdo de la distribución, con una cola larga hacia la derecha."
   ]
  },
  {
   "cell_type": "markdown",
   "metadata": {},
   "source": [
    "Otra medida es la **curtosis**:\n",
    "\n",
    "Curtosis en exceso se define generalmente como curt – 3, una medida de la \"puntiagudez\" de la distribución de probabilidad de una variable aleatoria con valores reales.\n",
    "\n",
    "La curtosis en exceso para una distribución normal es 0 (es decir, 3 - 3 = 0).\n",
    "Un exceso negativo implica colas más ligeras que una distribución normal.\n",
    "Un exceso positivo implica colas más pesadas que una distribución normal.\n",
    "\n",
    "![kurtosis](_image/kurtosis.png)\n",
    " \n",
    "![kurtosis1](_image/kurtosis1.png)\n",
    "\n",
    "La curtosis (kurtosis) se calcula con la siguiente fórmula:\n",
    "\n",
    "$$\n",
    "\\text{Curtosis} = \\frac{n(n+1)}{(n-1)(n-2)(n-3)} \\sum \\left(\\frac{x_i - \\bar{x}}{s}\\right)^4 - \\frac{3(n-1)^2}{(n-2)(n-3)}\n",
    "$$\n",
    "\n",
    "donde:\n",
    "- $n$ es el número de observaciones.\n",
    "- $x_i$ es el valor individual.\n",
    "- $\\bar{x}$ es la media de los valores.\n",
    "- $s$ es la desviación estándar."
   ]
  },
  {
   "cell_type": "code",
   "execution_count": 30,
   "metadata": {},
   "outputs": [
    {
     "name": "stdout",
     "output_type": "stream",
     "text": [
      "Curtosis en exceso: 2298.548701935856\n"
     ]
    }
   ],
   "source": [
    "from scipy.stats import kurtosis\n",
    "\n",
    "# Calcular la curtosis\n",
    "curtosis = kurtosis(df['annual_inc'], fisher=True)\n",
    "\n",
    "# Imprimir el resultado\n",
    "print(f'Curtosis en exceso: {curtosis}')"
   ]
  },
  {
   "cell_type": "markdown",
   "metadata": {},
   "source": [
    "Un valor de $2298.55$ para la curtosis en exceso es extremadamente alto. Esto indica que la distribución de los datos en la columna annual_inc es muy puntiaguda y tiene colas muy pesadas en comparación con una distribución normal."
   ]
  },
  {
   "cell_type": "markdown",
   "metadata": {},
   "source": [
    "* El **rango intercuartil**, $RI$, es la distancia entre el primer y el tercer cuartil:\n",
    "\n",
    "$$RI = Q_3 - Q_1$$ \n",
    "\n",
    "* **Valor atípico**: Todo valor que está a más de $1.5RI$ de distancia del cuartil más cercano se dice que es \n",
    "atípico.Todo datos que se salga de este intervalo $(Q_1-1.5RI,Q_3+1.5RI)$ es un valor atípico."
   ]
  },
  {
   "cell_type": "code",
   "execution_count": 33,
   "metadata": {},
   "outputs": [
    {
     "data": {
      "image/png": "[encoded data removed]",
      "text/plain": [
       "<Figure size 1000x600 with 1 Axes>"
      ]
     },
     "metadata": {},
     "output_type": "display_data"
    }
   ],
   "source": [
    "plt.figure(figsize=(10, 6))\n",
    "plt.boxplot(df['annual_inc'])\n",
    "plt.title('Gráfico de Cajas y Bigotes de annual_inc')\n",
    "plt.ylabel('annual_inc')\n",
    "plt.grid(True)\n",
    "\n",
    "# Mostrar el gráfico\n",
    "plt.show()"
   ]
  },
  {
   "cell_type": "markdown",
   "metadata": {},
   "source": [
    "Realicemos todo en una sola celda"
   ]
  },
  {
   "cell_type": "code",
   "execution_count": 22,
   "metadata": {},
   "outputs": [
    {
     "name": "stdout",
     "output_type": "stream",
     "text": [
      "                       annual_inc\n",
      "Promedio             6.961750e+04\n",
      "Desviacion_Estandar  6.422378e+04\n",
      "Minimo               4.000000e+03\n",
      "Maximo               6.000000e+06\n",
      "Mediana              6.000000e+04\n",
      "Cuantil 1            4.149600e+04\n",
      "Cuantil 3            8.320000e+04\n",
      "Asimetría            3.107266e+01\n",
      "Curtosis             2.298549e+03\n"
     ]
    }
   ],
   "source": [
    "# importar\n",
    "import pandas as pd\n",
    "from scipy.stats import skew, kurtosis\n",
    "\n",
    "# Agregaciones estándar con pandas\n",
    "resumen = df['annual_inc'].agg({\n",
    "    'Promedio': 'mean',                       # Media\n",
    "    'Desviacion_Estandar': 'std',             # Desviación Estándar\n",
    "    'Minimo': 'min',                          # Mínimo\n",
    "    'Maximo': 'max',                          # Máximo\n",
    "    'Mediana': 'median',                      # Mediana\n",
    "    'Cuantil 1': lambda x: x.quantile(0.25),  # Cuantil 25%\n",
    "    'Cuantil 3': lambda x: x.quantile(0.75)   # Cuantil 75%\n",
    "})\n",
    "\n",
    "# Agregar funciones personalizadas\n",
    "resumen['Asimetría'] = skew(df['annual_inc'].dropna())\n",
    "resumen['Curtosis'] = kurtosis(df['annual_inc'].dropna())\n",
    "\n",
    "# Mostrar el resultado\n",
    "print(pd.DataFrame(resumen))"
   ]
  },
  {
   "cell_type": "markdown",
   "metadata": {},
   "source": [
    "La biblioteca `ydata-profiling` es la evolución de lo que anteriormente se conocía como `pandas_profiling`. Es una herramienta que genera **perfiles exploratorios detallados de los datos** en un DataFrame de pandas de forma automática, facilitando el **análisis inicial de los datos** con resúmenes estadísticos, gráficos y observaciones.\n",
    "\n",
    ":::{admonition} **Características principales**\n",
    ":class: note\n",
    "* **Resúmenes de variables**: Te proporciona un resumen de cada columna, incluyendo estadísticas clave como media\n",
    "mediana, varianza, y distribuciones.\n",
    "* **Valores faltantes**: Identifica la cantidad de valores faltantes por columna y su distribución.\n",
    "* **Correlaciones**: Presenta una matriz de correlaciones entre variables numéricas.\n",
    "* **Interacciones**: Muestra relaciones significativas entre dos variables.\n",
    "* **Distribuciones**: Genera histogramas y gráficos de densidad para las variables numéricas y categóricas.\n",
    "* **Alertas**: Te notifica sobre datos problemáticos como valores altamente correlacionados, duplicados o valores constantes.\n",
    ":::\n",
    "\n",
    "Con esta herramienta, puedes automatizar gran parte del análisis exploratorio de datos (EDA) y obtener insights rápidos sobre tus datos."
   ]
  },
  {
   "cell_type": "markdown",
   "metadata": {},
   "source": [
    "Para usar `ydata_profiling`, primero necesitas instalarlo.\n",
    "\n",
    "Luego, en tu script de Python, puedes usarlo de esta manera: "
   ]
  },
  {
   "cell_type": "code",
   "execution_count": null,
   "metadata": {},
   "outputs": [],
   "source": [
    "import pandas as pd\n",
    "from ydata_profiling import ProfileReport\n",
    "\n",
    "# Generar informe de perfilado\n",
    "profile = ProfileReport(\n",
    "    df,\n",
    "    title=\"Profiling Report\",\n",
    "    explorative=True,  # Modo explorativo para incluir más visualizaciones\n",
    "    correlations={\n",
    "        \"pearson\": {\"calculate\": True},\n",
    "        \"spearman\": {\"calculate\": True},\n",
    "        \"kendall\": {\"calculate\": False},\n",
    "        \"phi_k\": {\"calculate\": False},\n",
    "        \"cramers\": {\"calculate\": False},\n",
    "    },\n",
    "    plot={\n",
    "        \"histogram\": {\"bins\": 30},  # Ajustar número de bins para histogramas\n",
    "        \"scatter_threshold\": 1000,  # Limitar número de puntos en scatter plots\n",
    "        \"boxplot\": {\"enabled\": True},  # Asegurarse de que los boxplots estén habilitados\n",
    "    },\n",
    "    missing_diagrams={\n",
    "        \"heatmap\": True,  # Incluye heatmap de valores faltantes\n",
    "        \"dendrogram\": True,  # Incluye dendrograma de valores faltantes\n",
    "    }\n",
    ")"
   ]
  },
  {
   "cell_type": "code",
   "execution_count": 13,
   "metadata": {},
   "outputs": [
    {
     "name": "stderr",
     "output_type": "stream",
     "text": [
      "Summarize dataset: 100%|██████████| 30/30 [00:02<00:00, 14.22it/s, Completed]                           \n",
      "Generate report structure: 100%|██████████| 1/1 [00:02<00:00,  2.52s/it]\n",
      "Render HTML: 100%|██████████| 1/1 [00:00<00:00,  1.60it/s]\n",
      "Export report to file: 100%|██████████| 1/1 [00:00<?, ?it/s]\n"
     ]
    }
   ],
   "source": [
    "profile.to_file('_image/dashboard.html')"
   ]
  },
  {
   "cell_type": "markdown",
   "metadata": {},
   "source": [
    "### **Distribuciones**\n",
    "\n",
    "Un **histograma** muestra la frecuencia de ocurrencias de datos en un gráfico de barras. Más específicamente, indica con qué frecuencia ocurre cada valor distinto en el conjunto de datos. El eje horizontal representa los valores del conjunto de datos y el eje vertical representa el número de veces que ocurren esos valores.\n",
    "\n",
    "Un histograma es un ejemplo específico de una **distribución**.\n",
    "\n",
    "Las **distribuciones continuas** permiten que *los datos tomen un número infinito de valores posibles*. Algunos ejemplos incluyen:\n",
    "\n",
    "- Normal\n",
    "- Gamma\n",
    "- $\\chi$-cuadrada\n",
    "- $t$ de Student\n",
    "- etc.\n",
    "\n",
    "Por otro lado, las **distribuciones discretas** son aquellas en las que *los datos solo pueden ser uno de un conjunto finito de valores*. Los histogramas son distribuciones discretas porque los valores posibles deben provenir directamente del conjunto de datos del que se crean, que por definición debe ser un conjunto finito. Otros ejemplos de distribuciones discretas incluyen:\n",
    "\n",
    "- Poisson\n",
    "- Binomial\n",
    "- Hipergeométrica\n",
    "- Bernoulli\n",
    "- etc.\n",
    "\n",
    "\n",
    "\n",
    "![Distribuciones](_image/Distributions.png)\n",
    "\n",
    "Más información sobre distribuciones [aquí](https://github.com/rasmusab/distribution_diagrams)\n"
   ]
  },
  {
   "cell_type": "markdown",
   "metadata": {},
   "source": [
    "#### **Distribución normal**\n",
    "\n",
    "La **distribución normal** es una de las distribuciones más importantes, ya que es la que con mayor frecuencia aproxima fenómenos del mundo real. Tiene una forma \"campana\" y es simétrica:"
   ]
  },
  {
   "cell_type": "code",
   "execution_count": 3,
   "metadata": {},
   "outputs": [
    {
     "data": {
      "image/png": "[encoded data removed]",
      "text/plain": [
       "<Figure size 640x480 with 1 Axes>"
      ]
     },
     "metadata": {},
     "output_type": "display_data"
    }
   ],
   "source": [
    "import matplotlib.pyplot as plt # importando matplotlib\n",
    "import seaborn as sns # importando seaborn\n",
    "\n",
    "# parametros esteticos de seaborn\n",
    "sns.set_palette(\"deep\", desat=.6)\n",
    "sns.set_context(rc={\"figure.figsize\": (8, 4)})\n",
    "\n",
    "mu, sigma = 0, 0.1 # promedio y desviación estandar\n",
    "s = np.random.normal(mu, sigma, 1000) # creacion de datos N(mu,sd)\n",
    "\n",
    "# histograma\n",
    "count, box, omit = plt.hist(s, 30, density=True)\n",
    "normal = plt.plot(box, 1/(sigma * np.sqrt(2 * np.pi)) *\n",
    "         np.exp( - (box - mu)**2 / (2 * sigma**2) ),\n",
    "         linewidth=2, color='r')"
   ]
  },
  {
   "cell_type": "markdown",
   "metadata": {},
   "source": [
    "#### **Distribución Gamma**\n",
    "\n",
    "La distribución Gamma es una distribución continua que se utiliza frecuentemente para modelar tiempos de espera o eventos que ocurren de manera continua y aleatoria. Esta distribución es asimétrica y, a diferencia de la distribución normal, puede tomar diferentes formas dependiendo de los parámetros que se utilicen.\n",
    "\n",
    "Es comúnmente usada en el análisis de la vida de productos, modelos de riesgo, y en muchos otros contextos donde se desea modelar el tiempo entre eventos."
   ]
  },
  {
   "cell_type": "code",
   "execution_count": 6,
   "metadata": {},
   "outputs": [
    {
     "data": {
      "image/png": "[encoded data removed]",
      "text/plain": [
       "<Figure size 640x480 with 1 Axes>"
      ]
     },
     "metadata": {},
     "output_type": "display_data"
    }
   ],
   "source": [
    "import scipy.stats as stats  # importando scipy.stats para la gamma\n",
    "\n",
    "# parámetros estéticos de seaborn\n",
    "sns.set_palette(\"deep\", desat=.6)\n",
    "sns.set_context(rc={\"figure.figsize\": (8, 4)})\n",
    "\n",
    "# Generación de datos de la distribución Gamma\n",
    "shape_param = 3\n",
    "x = stats.gamma(shape_param).rvs(5000)  # gamma(3) con 5000 muestras\n",
    "\n",
    "# Histograma\n",
    "gamma = plt.hist(x, 70, histtype=\"stepfilled\", alpha=.7, density=True)\n",
    "\n",
    "# Crear una curva de densidad (PDF) de la distribución Gamma\n",
    "xmin, xmax = plt.xlim()\n",
    "x_vals = np.linspace(xmin, xmax, 100)\n",
    "pdf_vals = stats.gamma.pdf(x_vals, shape_param)\n",
    "\n",
    "# Graficar la función de densidad\n",
    "plt.plot(x_vals, pdf_vals, 'r-', lw=2)\n",
    "\n",
    "# Mostrar el gráfico\n",
    "plt.title('Distribución Gamma con función de densidad')\n",
    "plt.xlabel('Valor')\n",
    "plt.ylabel('Densidad')\n",
    "plt.show()"
   ]
  },
  {
   "cell_type": "markdown",
   "metadata": {},
   "source": [
    "Ahora, usemos los datos son de *LendingClub (LC) Statistics*, exactamente la variable `int_rate`."
   ]
  },
  {
   "cell_type": "code",
   "execution_count": 21,
   "metadata": {},
   "outputs": [
    {
     "data": {
      "image/png": "[encoded data removed]",
      "text/plain": [
       "<Figure size 640x480 with 1 Axes>"
      ]
     },
     "metadata": {},
     "output_type": "display_data"
    }
   ],
   "source": [
    "# Importar seaborn\n",
    "import seaborn as sns\n",
    "\n",
    "# Histograma de las ventas semanales con Seaborn\n",
    "sns.histplot(df['int_rate'], bins=20, kde=False)  # kde=True si quieres agregar la densidad\n",
    "plt.show()"
   ]
  },
  {
   "cell_type": "markdown",
   "metadata": {},
   "source": [
    "Debemos mirar graficamente que distribución es:"
   ]
  },
  {
   "cell_type": "code",
   "execution_count": 56,
   "metadata": {},
   "outputs": [
    {
     "data": {
      "image/png": "[encoded data removed]",
      "text/plain": [
       "<Figure size 1000x600 with 1 Axes>"
      ]
     },
     "metadata": {},
     "output_type": "display_data"
    }
   ],
   "source": [
    "# Ajustar distribuciones (Normal, Gamma, Exponencial)\n",
    "from scipy.stats import norm, gamma, expon\n",
    "\n",
    "x = df['int_rate'].dropna()\n",
    "\n",
    "# Ajuste de distribución normal\n",
    "params_norm = norm.fit(x)\n",
    "x_norm = np.linspace(x.min(), x.max(), 100)\n",
    "pdf_norm = norm.pdf(x_norm, *params_norm)\n",
    "\n",
    "# Ajuste de distribución gamma\n",
    "params_gamma = gamma.fit(x)\n",
    "pdf_gamma = gamma.pdf(x_norm, *params_gamma)\n",
    "\n",
    "# Ajuste de distribución exponencial\n",
    "params_expon = expon.fit(x)\n",
    "pdf_expon = expon.pdf(x_norm, *params_expon)\n",
    "\n",
    "# Graficar histogramas con distribuciones ajustadas\n",
    "plt.figure(figsize=(10, 6))\n",
    "sns.histplot(x, bins=20, kde=False, color='skyblue', stat='density', label='Data Histogram')\n",
    "plt.plot(x_norm, pdf_norm, 'r-', label='Normal Distribution Fit')\n",
    "plt.plot(x_norm, pdf_gamma, 'g-', label='Gamma Distribution Fit')\n",
    "plt.plot(x_norm, pdf_expon, 'b-', label='Exponential Distribution Fit')\n",
    "plt.xlabel('Interest Rate (%)')\n",
    "plt.ylabel('Density')\n",
    "plt.title('Distribution Fitting for Interest Rates')\n",
    "plt.legend()\n",
    "plt.show()\n"
   ]
  },
  {
   "cell_type": "markdown",
   "metadata": {},
   "source": [
    "Ahora, realizaremos una prueba no paramétrica para ver si sigue o no una distribución normal."
   ]
  },
  {
   "cell_type": "code",
   "execution_count": 57,
   "metadata": {},
   "outputs": [
    {
     "name": "stderr",
     "output_type": "stream",
     "text": [
      "c:\\Users\\cdeor\\miniconda3\\envs\\ml_venv\\lib\\site-packages\\scipy\\stats\\_morestats.py:1882: UserWarning: p-value may not be accurate for N > 5000.\n",
      "  warnings.warn(\"p-value may not be accurate for N > 5000.\")\n"
     ]
    },
    {
     "data": {
      "text/plain": [
       "('Kolmogorov-Smirnov Test (Normal): Statistic=0.06644862202022367, p-value=4.963707453536677e-149',\n",
       " 'Lilliefors Test (Normal): Statistic=0.06644553802790248, p-value=0.0009999999999998899',\n",
       " 'Shapiro-Wilk Test (Normal): Statistic=0.9820662140846252, p-value=0.0',\n",
       " 'Anderson-Darling Test (Normal): Statistic=129.76184121534607, Critical Values=[0.576 0.656 0.787 0.918 1.092]')"
      ]
     },
     "execution_count": 57,
     "metadata": {},
     "output_type": "execute_result"
    }
   ],
   "source": [
    "from scipy.stats import kstest, shapiro, anderson\n",
    "from statsmodels.stats.diagnostic import lilliefors\n",
    "\n",
    "# Prueba de Kolmogorov-Smirnov para la distribución Normal\n",
    "ks_norm = kstest(x, 'norm', args=params_norm)\n",
    "\n",
    "# Prueba de Lilliefors (similar al KS test pero ajustado para normalidad)\n",
    "lillie_result = lilliefors(x, dist='norm')\n",
    "\n",
    "# Prueba de Shapiro-Wilk para normalidad\n",
    "shapiro_result = shapiro(x)\n",
    "\n",
    "# Prueba de Anderson-Darling para la distribución Normal\n",
    "anderson_result = anderson(x, dist='norm')\n",
    "\n",
    "# Mostrar resultados\n",
    "ks_norm_result = f\"Kolmogorov-Smirnov Test (Normal): Statistic={ks_norm.statistic}, p-value={ks_norm.pvalue}\"\n",
    "lillie_result_text = f\"Lilliefors Test (Normal): Statistic={lillie_result[0]}, p-value={lillie_result[1]}\"\n",
    "shapiro_result_text = f\"Shapiro-Wilk Test (Normal): Statistic={shapiro_result.statistic}, p-value={shapiro_result.pvalue}\"\n",
    "anderson_result_text = f\"Anderson-Darling Test (Normal): Statistic={anderson_result.statistic}, Critical Values={anderson_result.critical_values}\"\n",
    "\n",
    "(ks_norm_result, lillie_result_text, shapiro_result_text, anderson_result_text)"
   ]
  },
  {
   "cell_type": "markdown",
   "metadata": {},
   "source": [
    "### **Análisis bivariado**\n",
    "\n",
    "#### **Correlación**\n",
    "\n",
    "La **correlación** es una medida estadística que describe el grado de relación entre dos variables. Específicamente, indica la fuerza y la dirección de la asociación lineal entre las variables. Los valores de correlación varían entre -1 y 1:\n",
    "\n",
    "* $+1$ indica una correlación positiva perfecta (a medida que una variable aumenta, la otra también lo hace).\n",
    "* $-1$ indica una correlación negativa perfecta (a medida que una variable aumenta, la otra disminuye).\n",
    "* $0$ indica que no hay correlación lineal entre las variables.\n",
    "Fórmula de la correlación de Pearson\n",
    "La correlación de Pearson ($𝑟$r) es la más utilizada cuando las variables son continuas y tienen una relación lineal. Se calcula como:\n",
    "\n",
    "$$\n",
    "r = \\frac{\\sum (x_i - \\bar{x})(y_i - \\bar{y})}{\\sqrt{\\sum (x_i - \\bar{x})^2 \\sum (y_i - \\bar{y})^2}}\n",
    "$$\n",
    "\n",
    "donde:\n",
    "\n",
    "* $x_i$ y $y_i$ son los valores de las variables $X$ e $Y$,\n",
    "* $\\bar{x}$ y $\\bar{y}$ son las medias de las variables $X$ e $Y$"
   ]
  },
  {
   "cell_type": "markdown",
   "metadata": {},
   "source": [
    ":::{admonition} **Características de la correlación**\n",
    ":class: note\n",
    "\n",
    "* Puede ser positiva o negativa.\n",
    "* El valor absoluto indica la fuerza de la relación (más cercano a 1 indica una relación más fuerte).\n",
    "* La correlación de Pearson mide solo relaciones lineales.\n",
    "* Los valores extremos pueden afectar significativamente la correlación.\n",
    "* La correlación es una medida adimensional, no depende de las unidades de las variables.\n",
    "\n",
    ":::"
   ]
  },
  {
   "cell_type": "markdown",
   "metadata": {},
   "source": [
    "Las correlaciones que se usan comúnmente son la correlación de Pearson y la Spearman. Cuándo usar cada una.\n",
    "* **Pearson**: Usar cuando las variables son continuas, tienen una distribución normal, y se espera una relación lineal.\n",
    "* **Spearman**: Usar cuando las variables no son normales, son ordinales o tienen una relación monotónica pero no necesariamente lineal."
   ]
  },
  {
   "cell_type": "markdown",
   "metadata": {},
   "source": [
    "Veamos si las varriables numéricas de LendingClub (LC) Statistics estan correlacionadas:"
   ]
  },
  {
   "cell_type": "code",
   "execution_count": 29,
   "metadata": {},
   "outputs": [
    {
     "name": "stdout",
     "output_type": "stream",
     "text": [
      "Matriz de correlación de Spearman:\n",
      "            annual_inc  int_rate  loan_amnt\n",
      "annual_inc    1.000000   0.05583   0.425268\n",
      "int_rate      0.055830   1.00000   0.253590\n",
      "loan_amnt     0.425268   0.25359   1.000000\n"
     ]
    }
   ],
   "source": [
    "# Importemos\n",
    "from scipy.stats import spearmanr\n",
    "\n",
    "# Seleccionemos las variables numéricas\n",
    "df_num = df[['annual_inc','int_rate','loan_amnt']]\n",
    "\n",
    "# Calcular la correlación de Spearman para cada par de columnas\n",
    "spearman_corr = df_num.corr(method='spearman')\n",
    "\n",
    "# Mostrar la matriz de correlación de Spearman\n",
    "print(\"Matriz de correlación de Spearman:\")\n",
    "print(spearman_corr)"
   ]
  },
  {
   "cell_type": "code",
   "execution_count": 37,
   "metadata": {},
   "outputs": [
    {
     "data": {
      "image/png": "[encoded data removed]",
      "text/plain": [
       "<Figure size 800x600 with 2 Axes>"
      ]
     },
     "metadata": {},
     "output_type": "display_data"
    }
   ],
   "source": [
    "%matplotlib inline\n",
    "import pandas as pd\n",
    "import seaborn as sns\n",
    "import matplotlib.pyplot as plt\n",
    "\n",
    "# Crear un heatmap para la matriz de correlación\n",
    "plt.figure(figsize=(8, 6))\n",
    "sns.heatmap(spearman_corr, annot=True, cmap='coolwarm', fmt='.2f', vmin=-1, vmax=1, center=0)\n",
    "plt.title('Matriz de Correlación de Spearman', fontsize=14)\n",
    "plt.show()"
   ]
  },
  {
   "cell_type": "markdown",
   "metadata": {},
   "source": [
    "## **Inferencia estadística**\n",
    "\n",
    "### **Pruebas de hipótesis**\n",
    "\n",
    "**Las pruebas de hipótesis** son un procedimiento esencial en estadística. Una prueba de hipótesis evalúa dos declaraciones mutuamente excluyentes sobre una población para determinar cuál de ellas está mejor respaldada por los datos de la muestra. Cuando decimos que un hallazgo es *estadísticamente significativo*, es gracias a una prueba de hipótesis.\n",
    "\n",
    "La primera hipótesis se denomina generalmente **hipótesis nula** y es una declaración general o punto de vista predeterminado que indica que no hay relación entre dos fenómenos medidos o ninguna asociación entre grupos. Se puede considerar como una suposición del statu quo. Por ejemplo, \"La producción de la Empresa X es igual a 50 unidades por día\".\n",
    "\n",
    "La **hipótesis alternativa** es la segunda hipótesis, y se establece en oposición a la hipótesis nula. Por lo general, se toma como la afirmación de que los fenómenos observados en los datos son el resultado de un efecto real y no aleatorio. Por ejemplo, \"La producción de la Empresa X no es igual a 50 unidades por día\".\n",
    "\n",
    "![](_image/hypothesis.png)\n",
    "\n",
    "Para evaluar estas dos hipótesis, necesitamos indicar un umbral de **nivel de significancia**. Este es el valor que representa la probabilidad de que los resultados observados se deban realmente al azar, suponiendo que la hipótesis nula sea verdadera. Como no podemos probar al 100% que la hipótesis nula es falsa, debemos seleccionar un nivel de significancia que sea pequeño pero diferente de cero. Generalmente, se utiliza el 5% (aunque en teoría se puede establecer cualquier nivel deseado). Así, si la probabilidad calculada de que los resultados observados se deban al azar es inferior al 5%, rechazamos la hipótesis nula y proponemos la hipótesis alternativa; de lo contrario, no lo hacemos.\n",
    "\n",
    "Hay dos tipos de errores que podemos cometer al hacer esto:\n",
    "\n",
    "1. **Error Tipo I:** Rechazar la hipótesis nula cuando no deberíamos. La probabilidad de cometer un error de Tipo I se denota con $\\alpha$.\n",
    "2. **Error Tipo II:** No rechazar la hipótesis nula cuando deberíamos. La probabilidad de cometer un error de Tipo II se denota con $\\beta$."
   ]
  },
  {
   "cell_type": "markdown",
   "metadata": {},
   "source": [
    "**Veamos el siguiente ejemplo**:\n",
    "\n",
    "Supongamos que un banco está evaluando si aprobar o rechazar solicitudes de préstamo de clientes. La hipótesis nula ($H_0$) es que el cliente no es solvente (es decir, no puede pagar el préstamo). La hipótesis alternativa ($H_1$) es que el cliente sí es solvente (puede pagar el préstamo).\n",
    "\n",
    "* **Error Tipo I (Falso positivo)**\n",
    "Este error ocurre cuando rechazas la hipótesis nula ($H_0$) cuando en realidad es verdadera.\n",
    "\n",
    "Entonces si el cliente en realidad no es solvente (no puede pagar el préstamo), pero el banco aprueba el préstamo.\n",
    "Por consecuencia el banco comete un error tipo I al aprobar un préstamo a alguien que no podrá devolverlo, lo que puede generar pérdidas financieras por incumplimiento de pagos.\n",
    "\n",
    "* **Error Tipo II (Falso negativo)**\n",
    "Este error ocurre cuando no rechazas la hipótesis nula ($H_0$) cuando en realidad es falsa.\n",
    "\n",
    "Entonces si el cliente en realidad es solvente (puede pagar el préstamo), pero el banco rechaza su solicitud.\n",
    "Por consecuencia el banco comete un error tipo II al perder la oportunidad de otorgar un préstamo a un cliente confiable, lo que implica una pérdida de posibles ingresos por intereses.\n",
    "\n",
    "En resumen:\n",
    "* **Error Tipo I**: El banco aprueba un préstamo a un cliente que no es solvente. Riesgo: Pérdida financiera por incumplimiento.\n",
    "* **Error Tipo II**: El banco rechaza un préstamo a un cliente solvente. Riesgo: Pérdida de ingresos por no otorgar un préstamo rentable."
   ]
  },
  {
   "cell_type": "markdown",
   "metadata": {},
   "source": [
    "Finalmente, llegamos al **valor $p$**, que es nuestra probabilidad calculada de observar los resultados que tenemos, suponiendo que la hipótesis nula sea verdadera. Como se mencionó anteriormente, si este valor está por debajo del nivel de significancia (generalmente 5%), entonces se puede afirmar que se tiene evidencia razonable para rechazar la hipótesis nula. Sin embargo, esto NO implica automáticamente un hallazgo \"significativo\" o \"importante\", eso es algo que se debe decidir al considerar la relevancia del resultado en el mundo real."
   ]
  },
  {
   "cell_type": "markdown",
   "metadata": {},
   "source": [
    "#### **Comparación de 2 grupos poblacionales independientes paramétrica**\n",
    "##### **Igualdad de varianzas**\n",
    "\n",
    "Importemos el siguiente conjunto de datos `data_bancos`\n"
   ]
  },
  {
   "cell_type": "code",
   "execution_count": 9,
   "metadata": {},
   "outputs": [],
   "source": [
    "import pandas as pd\n",
    "import numpy as np\n",
    "import matplotlib.pyplot as plt\n",
    "import seaborn as sns\n",
    "from scipy.stats import ks_1samp, shapiro, bartlett, levene, fligner, ttest_ind, norm\n",
    "from statsmodels.graphics.gofplots import qqplot\n",
    "from statsmodels.stats.weightstats import DescrStatsW"
   ]
  },
  {
   "cell_type": "code",
   "execution_count": 44,
   "metadata": {},
   "outputs": [
    {
     "data": {
      "text/html": [
       "<div>\n",
       "<style scoped>\n",
       "    .dataframe tbody tr th:only-of-type {\n",
       "        vertical-align: middle;\n",
       "    }\n",
       "\n",
       "    .dataframe tbody tr th {\n",
       "        vertical-align: top;\n",
       "    }\n",
       "\n",
       "    .dataframe thead th {\n",
       "        text-align: right;\n",
       "    }\n",
       "</style>\n",
       "<table border=\"1\" class=\"dataframe\">\n",
       "  <thead>\n",
       "    <tr style=\"text-align: right;\">\n",
       "      <th></th>\n",
       "      <th>Tipo</th>\n",
       "      <th>Valor</th>\n",
       "    </tr>\n",
       "  </thead>\n",
       "  <tbody>\n",
       "    <tr>\n",
       "      <th>0</th>\n",
       "      <td>InteresPrestamo</td>\n",
       "      <td>5.496714</td>\n",
       "    </tr>\n",
       "    <tr>\n",
       "      <th>1</th>\n",
       "      <td>InteresPrestamo</td>\n",
       "      <td>4.861736</td>\n",
       "    </tr>\n",
       "    <tr>\n",
       "      <th>2</th>\n",
       "      <td>InteresPrestamo</td>\n",
       "      <td>5.647689</td>\n",
       "    </tr>\n",
       "    <tr>\n",
       "      <th>3</th>\n",
       "      <td>InteresPrestamo</td>\n",
       "      <td>6.523030</td>\n",
       "    </tr>\n",
       "    <tr>\n",
       "      <th>4</th>\n",
       "      <td>InteresPrestamo</td>\n",
       "      <td>4.765847</td>\n",
       "    </tr>\n",
       "  </tbody>\n",
       "</table>\n",
       "</div>"
      ],
      "text/plain": [
       "              Tipo     Valor\n",
       "0  InteresPrestamo  5.496714\n",
       "1  InteresPrestamo  4.861736\n",
       "2  InteresPrestamo  5.647689\n",
       "3  InteresPrestamo  6.523030\n",
       "4  InteresPrestamo  4.765847"
      ]
     },
     "execution_count": 44,
     "metadata": {},
     "output_type": "execute_result"
    }
   ],
   "source": [
    "# Cargar el archivo de Excel\n",
    "filename = '_data/datadescrip/datos_banca_norm.csv'\n",
    "df_bank = pd.read_csv(filename)\n",
    "\n",
    "# Mostrar las primeras filas para entender la estructura\n",
    "df_bank.head()"
   ]
  },
  {
   "cell_type": "code",
   "execution_count": 51,
   "metadata": {},
   "outputs": [
    {
     "name": "stdout",
     "output_type": "stream",
     "text": [
      "<class 'pandas.core.frame.DataFrame'>\n",
      "RangeIndex: 200 entries, 0 to 199\n",
      "Data columns (total 2 columns):\n",
      " #   Column  Non-Null Count  Dtype  \n",
      "---  ------  --------------  -----  \n",
      " 0   Tipo    200 non-null    object \n",
      " 1   Valor   200 non-null    float64\n",
      "dtypes: float64(1), object(1)\n",
      "memory usage: 3.2+ KB\n"
     ]
    }
   ],
   "source": [
    "df_bank.info()"
   ]
  },
  {
   "cell_type": "markdown",
   "metadata": {},
   "source": [
    "Realicemos un diagrama de cajas y bigotes"
   ]
  },
  {
   "cell_type": "code",
   "execution_count": 50,
   "metadata": {},
   "outputs": [
    {
     "data": {
      "image/png": "[encoded data removed]",
      "text/plain": [
       "<Figure size 1000x600 with 1 Axes>"
      ]
     },
     "metadata": {},
     "output_type": "display_data"
    }
   ],
   "source": [
    "# Generar diagrama de cajas y bigotes para los datos de df_bank\n",
    "\n",
    "plt.figure(figsize=(10, 6))\n",
    "sns.boxplot(x='Tipo', y='Valor', data=df_bank)\n",
    "plt.title('Diagrama de Cajas y Bigotes para Interés de Préstamo y Depósito')\n",
    "plt.xlabel('Tipo de Interés')\n",
    "plt.ylabel('Valor')\n",
    "plt.grid(True)\n",
    "plt.show()"
   ]
  },
  {
   "cell_type": "markdown",
   "metadata": {},
   "source": [
    "* Probemos el primer supuesto. Los datos deben tener comportamiento de una distribución normal."
   ]
  },
  {
   "cell_type": "code",
   "execution_count": 46,
   "metadata": {},
   "outputs": [
    {
     "data": {
      "text/html": [
       "<div>\n",
       "<style scoped>\n",
       "    .dataframe tbody tr th:only-of-type {\n",
       "        vertical-align: middle;\n",
       "    }\n",
       "\n",
       "    .dataframe tbody tr th {\n",
       "        vertical-align: top;\n",
       "    }\n",
       "\n",
       "    .dataframe thead th {\n",
       "        text-align: right;\n",
       "    }\n",
       "</style>\n",
       "<table border=\"1\" class=\"dataframe\">\n",
       "  <thead>\n",
       "    <tr style=\"text-align: right;\">\n",
       "      <th></th>\n",
       "      <th>Prueba</th>\n",
       "      <th>Interés</th>\n",
       "      <th>Estadístico</th>\n",
       "      <th>p-valor</th>\n",
       "    </tr>\n",
       "  </thead>\n",
       "  <tbody>\n",
       "    <tr>\n",
       "      <th>0</th>\n",
       "      <td>Kolmogorov-Smirnov</td>\n",
       "      <td>Préstamo</td>\n",
       "      <td>0.050829</td>\n",
       "      <td>0.946707</td>\n",
       "    </tr>\n",
       "    <tr>\n",
       "      <th>1</th>\n",
       "      <td>Kolmogorov-Smirnov</td>\n",
       "      <td>Depósito</td>\n",
       "      <td>0.073276</td>\n",
       "      <td>0.629350</td>\n",
       "    </tr>\n",
       "    <tr>\n",
       "      <th>2</th>\n",
       "      <td>Shapiro-Wilk</td>\n",
       "      <td>Préstamo</td>\n",
       "      <td>0.989883</td>\n",
       "      <td>0.655152</td>\n",
       "    </tr>\n",
       "    <tr>\n",
       "      <th>3</th>\n",
       "      <td>Shapiro-Wilk</td>\n",
       "      <td>Depósito</td>\n",
       "      <td>0.977534</td>\n",
       "      <td>0.085255</td>\n",
       "    </tr>\n",
       "  </tbody>\n",
       "</table>\n",
       "</div>"
      ],
      "text/plain": [
       "               Prueba   Interés  Estadístico   p-valor\n",
       "0  Kolmogorov-Smirnov  Préstamo     0.050829  0.946707\n",
       "1  Kolmogorov-Smirnov  Depósito     0.073276  0.629350\n",
       "2        Shapiro-Wilk  Préstamo     0.989883  0.655152\n",
       "3        Shapiro-Wilk  Depósito     0.977534  0.085255"
      ]
     },
     "execution_count": 46,
     "metadata": {},
     "output_type": "execute_result"
    }
   ],
   "source": [
    "# Separar los datos por tipo de interés\n",
    "interes_prestamo = df_bank[df_bank['Tipo'] == 'InteresPrestamo']['Valor']\n",
    "interes_deposito = df_bank[df_bank['Tipo'] == 'InteresDeposito']['Valor']\n",
    "\n",
    "# Normalidad: Prueba de Kolmogorov-Smirnov \n",
    "ks_prestamo = ks_1samp((interes_prestamo - np.mean(interes_prestamo)) / np.std(interes_prestamo), cdf=norm.cdf)\n",
    "ks_deposito = ks_1samp((interes_deposito - np.mean(interes_deposito)) / np.std(interes_deposito), cdf=norm.cdf)\n",
    "\n",
    "# Normalidad: Prueba de Shapiro-Wilk\n",
    "shapiro_prestamo = shapiro(interes_prestamo)\n",
    "shapiro_deposito = shapiro(interes_deposito)\n",
    "\n",
    "# Mostrar resultados de normalidad\n",
    "normalidad_resultados_banca = {\n",
    "    'Prueba': ['Kolmogorov-Smirnov', 'Kolmogorov-Smirnov', 'Shapiro-Wilk', 'Shapiro-Wilk'],\n",
    "    'Interés': ['Préstamo', 'Depósito', 'Préstamo', 'Depósito'],\n",
    "    'Estadístico': [ks_prestamo.statistic, ks_deposito.statistic, shapiro_prestamo.statistic, shapiro_deposito.statistic],\n",
    "    'p-valor': [ks_prestamo.pvalue, ks_deposito.pvalue, shapiro_prestamo.pvalue, shapiro_deposito.pvalue]\n",
    "}\n",
    "\n",
    "# Convertir a DataFrame para visualizar\n",
    "normalidad_df_banca = pd.DataFrame(normalidad_resultados_banca)\n",
    "normalidad_df_banca"
   ]
  },
  {
   "cell_type": "markdown",
   "metadata": {},
   "source": [
    "Miremos la grafica QQ-Plot:"
   ]
  },
  {
   "cell_type": "code",
   "execution_count": 47,
   "metadata": {},
   "outputs": [
    {
     "data": {
      "image/png": "[encoded data removed]",
      "text/plain": [
       "<Figure size 1000x500 with 1 Axes>"
      ]
     },
     "metadata": {},
     "output_type": "display_data"
    },
    {
     "data": {
      "image/png": "[encoded data removed]",
      "text/plain": [
       "<Figure size 1000x500 with 1 Axes>"
      ]
     },
     "metadata": {},
     "output_type": "display_data"
    }
   ],
   "source": [
    "# Gráfica de QQ-plot para Interés de Préstamo\n",
    "plt.figure(figsize=(10, 5))\n",
    "qqplot(interes_prestamo, line='s', ax=plt.gca())\n",
    "plt.title('QQ-Plot para Interés de Préstamo')\n",
    "plt.xlabel('Cuantiles Teóricos')\n",
    "plt.ylabel('Cuantiles de la Muestra')\n",
    "plt.grid(True)\n",
    "plt.show()\n",
    "\n",
    "# Gráfica de QQ-plot para Interés de Depósito\n",
    "plt.figure(figsize=(10, 5))\n",
    "qqplot(interes_deposito, line='s', ax=plt.gca())\n",
    "plt.title('QQ-Plot para Interés de Depósito')\n",
    "plt.xlabel('Cuantiles Teóricos')\n",
    "plt.ylabel('Cuantiles de la Muestra')\n",
    "plt.grid(True)\n",
    "plt.show()\n"
   ]
  },
  {
   "cell_type": "markdown",
   "metadata": {},
   "source": [
    "* Probemos el 2do supuesto, que es la igualdad de varianza o la homocedasticidad"
   ]
  },
  {
   "cell_type": "code",
   "execution_count": 48,
   "metadata": {},
   "outputs": [
    {
     "data": {
      "text/html": [
       "<div>\n",
       "<style scoped>\n",
       "    .dataframe tbody tr th:only-of-type {\n",
       "        vertical-align: middle;\n",
       "    }\n",
       "\n",
       "    .dataframe tbody tr th {\n",
       "        vertical-align: top;\n",
       "    }\n",
       "\n",
       "    .dataframe thead th {\n",
       "        text-align: right;\n",
       "    }\n",
       "</style>\n",
       "<table border=\"1\" class=\"dataframe\">\n",
       "  <thead>\n",
       "    <tr style=\"text-align: right;\">\n",
       "      <th></th>\n",
       "      <th>Prueba</th>\n",
       "      <th>Estadístico</th>\n",
       "      <th>p-valor</th>\n",
       "    </tr>\n",
       "  </thead>\n",
       "  <tbody>\n",
       "    <tr>\n",
       "      <th>0</th>\n",
       "      <td>Bartlett</td>\n",
       "      <td>0.235319</td>\n",
       "      <td>0.627608</td>\n",
       "    </tr>\n",
       "  </tbody>\n",
       "</table>\n",
       "</div>"
      ],
      "text/plain": [
       "     Prueba  Estadístico   p-valor\n",
       "0  Bartlett     0.235319  0.627608"
      ]
     },
     "execution_count": 48,
     "metadata": {},
     "output_type": "execute_result"
    }
   ],
   "source": [
    "# Preparación de los datos para pruebas de igualdad de varianzas para df_bank\n",
    "data_gather_banca = pd.DataFrame({\n",
    "    'Grupo': ['InteresPrestamo'] * len(interes_prestamo) + ['InteresDeposito'] * len(interes_deposito),\n",
    "    'Valor': np.concatenate([interes_prestamo, interes_deposito])\n",
    "})\n",
    "\n",
    "# Prueba de Bartlett\n",
    "bartlett_test_banca = bartlett(interes_prestamo, interes_deposito)\n",
    "\n",
    "# Mostrar resultados de las pruebas de igualdad de varianza\n",
    "igualdad_varianzas_resultados_banca = {\n",
    "    'Prueba': ['Bartlett'],\n",
    "    'Estadístico': [bartlett_test_banca.statistic],\n",
    "    'p-valor': [bartlett_test_banca.pvalue]\n",
    "}\n",
    "\n",
    "# Convertir a DataFrame para visualizar\n",
    "igualdad_varianzas_df_banca = pd.DataFrame(igualdad_varianzas_resultados_banca)\n",
    "igualdad_varianzas_df_banca\n"
   ]
  },
  {
   "cell_type": "markdown",
   "metadata": {},
   "source": [
    "Ahora, veamos si hay o no diferencias estadísticamente significativas entre el interes del prestamo con el interes de deposito"
   ]
  },
  {
   "cell_type": "code",
   "execution_count": 49,
   "metadata": {},
   "outputs": [
    {
     "data": {
      "text/html": [
       "<div>\n",
       "<style scoped>\n",
       "    .dataframe tbody tr th:only-of-type {\n",
       "        vertical-align: middle;\n",
       "    }\n",
       "\n",
       "    .dataframe tbody tr th {\n",
       "        vertical-align: top;\n",
       "    }\n",
       "\n",
       "    .dataframe thead th {\n",
       "        text-align: right;\n",
       "    }\n",
       "</style>\n",
       "<table border=\"1\" class=\"dataframe\">\n",
       "  <thead>\n",
       "    <tr style=\"text-align: right;\">\n",
       "      <th></th>\n",
       "      <th>Prueba</th>\n",
       "      <th>Estadístico o Tamaño del Efecto</th>\n",
       "      <th>p-valor</th>\n",
       "    </tr>\n",
       "  </thead>\n",
       "  <tbody>\n",
       "    <tr>\n",
       "      <th>0</th>\n",
       "      <td>t-test</td>\n",
       "      <td>-0.957932</td>\n",
       "      <td>0.339265</td>\n",
       "    </tr>\n",
       "  </tbody>\n",
       "</table>\n",
       "</div>"
      ],
      "text/plain": [
       "   Prueba  Estadístico o Tamaño del Efecto   p-valor\n",
       "0  t-test                        -0.957932  0.339265"
      ]
     },
     "execution_count": 49,
     "metadata": {},
     "output_type": "execute_result"
    }
   ],
   "source": [
    "# Prueba de diferencia de medias (t-test) para los datos bancarios\n",
    "t_test_result_banca = ttest_ind(interes_prestamo, interes_deposito, equal_var=True)\n",
    "\n",
    "# Mostrar resultados de diferencia de medias y tamaño del efecto\n",
    "diferencia_medias_resultados_banca = {\n",
    "    'Prueba': ['t-test'],\n",
    "    'Estadístico': [t_test_result_banca.statistic],\n",
    "    'p-valor': [t_test_result_banca.pvalue]\n",
    "}\n",
    "\n",
    "# Convertir a DataFrame para visualizar\n",
    "diferencia_medias_df_banca = pd.DataFrame(diferencia_medias_resultados_banca)\n",
    "diferencia_medias_df_banca"
   ]
  },
  {
   "cell_type": "markdown",
   "metadata": {},
   "source": [
    "El p-valor de 0.339 es mayor que el nivel de significancia comúnmente utilizado de 0.05. Esto indica que no hay suficiente evidencia para rechazar la hipótesis nula de que las medias de los intereses de préstamo y depósito son iguales. En otras palabras, no hay una diferencia estadísticamente significativa entre las medias de los intereses de préstamo y depósito en los datos proporcionados."
   ]
  },
  {
   "cell_type": "markdown",
   "metadata": {},
   "source": [
    "##### **Varianzas distintas**\n",
    "\n",
    "Importemos el siguiente conjunto de datos `data_tasas_interes`\n"
   ]
  },
  {
   "cell_type": "code",
   "execution_count": 16,
   "metadata": {},
   "outputs": [
    {
     "data": {
      "text/html": [
       "<div>\n",
       "<style scoped>\n",
       "    .dataframe tbody tr th:only-of-type {\n",
       "        vertical-align: middle;\n",
       "    }\n",
       "\n",
       "    .dataframe tbody tr th {\n",
       "        vertical-align: top;\n",
       "    }\n",
       "\n",
       "    .dataframe thead th {\n",
       "        text-align: right;\n",
       "    }\n",
       "</style>\n",
       "<table border=\"1\" class=\"dataframe\">\n",
       "  <thead>\n",
       "    <tr style=\"text-align: right;\">\n",
       "      <th></th>\n",
       "      <th>Tipo</th>\n",
       "      <th>Valor</th>\n",
       "    </tr>\n",
       "  </thead>\n",
       "  <tbody>\n",
       "    <tr>\n",
       "      <th>0</th>\n",
       "      <td>InteresCreditoPersonal</td>\n",
       "      <td>13.241785</td>\n",
       "    </tr>\n",
       "    <tr>\n",
       "      <th>1</th>\n",
       "      <td>InteresCreditoPersonal</td>\n",
       "      <td>11.654339</td>\n",
       "    </tr>\n",
       "    <tr>\n",
       "      <th>2</th>\n",
       "      <td>InteresCreditoPersonal</td>\n",
       "      <td>13.619221</td>\n",
       "    </tr>\n",
       "    <tr>\n",
       "      <th>3</th>\n",
       "      <td>InteresCreditoPersonal</td>\n",
       "      <td>15.807575</td>\n",
       "    </tr>\n",
       "    <tr>\n",
       "      <th>4</th>\n",
       "      <td>InteresCreditoPersonal</td>\n",
       "      <td>11.414617</td>\n",
       "    </tr>\n",
       "  </tbody>\n",
       "</table>\n",
       "</div>"
      ],
      "text/plain": [
       "                     Tipo      Valor\n",
       "0  InteresCreditoPersonal  13.241785\n",
       "1  InteresCreditoPersonal  11.654339\n",
       "2  InteresCreditoPersonal  13.619221\n",
       "3  InteresCreditoPersonal  15.807575\n",
       "4  InteresCreditoPersonal  11.414617"
      ]
     },
     "execution_count": 16,
     "metadata": {},
     "output_type": "execute_result"
    }
   ],
   "source": [
    "# Cargar el archivo de Excel\n",
    "filename = '_data/datadescrip/datos_tasas_interes.csv'\n",
    "df_tasa= pd.read_csv(filename)\n",
    "\n",
    "# Ponerlo categórico\n",
    "df_tasa['Tipo'] = df_tasa.Tipo.astype(pd.api.types.CategoricalDtype(categories=['InteresCreditoPersonal',\n",
    "                                                                              'InteresCreditoHipotecario']))\n",
    "\n",
    "# Mostrar las primeras filas para entender la estructura\n",
    "df_tasa.head()"
   ]
  },
  {
   "cell_type": "code",
   "execution_count": 17,
   "metadata": {},
   "outputs": [
    {
     "name": "stdout",
     "output_type": "stream",
     "text": [
      "<class 'pandas.core.frame.DataFrame'>\n",
      "RangeIndex: 200 entries, 0 to 199\n",
      "Data columns (total 2 columns):\n",
      " #   Column  Non-Null Count  Dtype   \n",
      "---  ------  --------------  -----   \n",
      " 0   Tipo    200 non-null    category\n",
      " 1   Valor   200 non-null    float64 \n",
      "dtypes: category(1), float64(1)\n",
      "memory usage: 2.0 KB\n"
     ]
    }
   ],
   "source": [
    "df_tasa.info()"
   ]
  },
  {
   "cell_type": "markdown",
   "metadata": {},
   "source": [
    "Realicemos un diagrama de cajas y bigotes"
   ]
  },
  {
   "cell_type": "code",
   "execution_count": 21,
   "metadata": {},
   "outputs": [
    {
     "data": {
      "image/png": "[encoded data removed]",
      "text/plain": [
       "<Figure size 1000x600 with 1 Axes>"
      ]
     },
     "metadata": {},
     "output_type": "display_data"
    }
   ],
   "source": [
    "# Generar diagrama de cajas y bigotes para los datos de tasas de interés\n",
    "plt.figure(figsize=(10, 6))\n",
    "sns.boxplot(x='Tipo', y='Valor', data=df_tasa)\n",
    "plt.title('Diagrama de Cajas y Bigotes para Tasas de Interés de Créditos Personales e Hipotecarios')\n",
    "plt.xlabel('Tipo de Crédito')\n",
    "plt.ylabel('Tasa de Interés (%)')\n",
    "plt.grid(True)\n",
    "plt.show()"
   ]
  },
  {
   "cell_type": "markdown",
   "metadata": {},
   "source": [
    "* Probemos el 1er supuesto. Veamos si los datos tienen o no comportamiento normal"
   ]
  },
  {
   "cell_type": "code",
   "execution_count": 22,
   "metadata": {},
   "outputs": [
    {
     "name": "stdout",
     "output_type": "stream",
     "text": [
      "               Prueba                 Tipo  Estadístico   p-valor\n",
      "0  Kolmogorov-Smirnov     Credito Personal     0.050829  0.946707\n",
      "1  Kolmogorov-Smirnov  Credito Hipotecario     0.073276  0.629350\n",
      "2        Shapiro-Wilk     Credito Personal     0.989883  0.655133\n",
      "3        Shapiro-Wilk  Credito Hipotecario     0.977534  0.085255\n"
     ]
    }
   ],
   "source": [
    "# Separar los datos por tipo de interés de los datos generados\n",
    "interes_credito_personal = df_tasa[df_tasa['Tipo'] == 'InteresCreditoPersonal']['Valor']\n",
    "interes_credito_hipotecario = df_tasa[df_tasa['Tipo'] == 'InteresCreditoHipotecario']['Valor']\n",
    "\n",
    "# Normalidad: Prueba de Kolmogorov-Smirnov\n",
    "ks_credito_personal = ks_1samp((interes_credito_personal - np.mean(interes_credito_personal)) / np.std(interes_credito_personal), cdf=norm.cdf)\n",
    "ks_credito_hipotecario = ks_1samp((interes_credito_hipotecario - np.mean(interes_credito_hipotecario)) / np.std(interes_credito_hipotecario), cdf=norm.cdf)\n",
    "\n",
    "# Normalidad: Prueba de Shapiro-Wilk\n",
    "shapiro_credito_personal = shapiro(interes_credito_personal)\n",
    "shapiro_credito_hipotecario = shapiro(interes_credito_hipotecario)\n",
    "\n",
    "# Mostrar resultados de normalidad\n",
    "normalidad_resultados_interes = {\n",
    "    'Prueba': ['Kolmogorov-Smirnov', 'Kolmogorov-Smirnov', 'Shapiro-Wilk', 'Shapiro-Wilk'],\n",
    "    'Tipo': ['Credito Personal', 'Credito Hipotecario', 'Credito Personal', 'Credito Hipotecario'],\n",
    "    'Estadístico': [ks_credito_personal.statistic, ks_credito_hipotecario.statistic, shapiro_credito_personal.statistic, shapiro_credito_hipotecario.statistic],\n",
    "    'p-valor': [ks_credito_personal.pvalue, ks_credito_hipotecario.pvalue, shapiro_credito_personal.pvalue, shapiro_credito_hipotecario.pvalue]\n",
    "}\n",
    "\n",
    "# Convertir a DataFrame para visualizar\n",
    "normalidad_df_interes = pd.DataFrame(normalidad_resultados_interes)\n",
    "print(normalidad_df_interes)\n"
   ]
  },
  {
   "cell_type": "markdown",
   "metadata": {},
   "source": [
    "* Probemos el 2do supuesto, que es la igualdad de varianza o la homocedasticidad"
   ]
  },
  {
   "cell_type": "code",
   "execution_count": 25,
   "metadata": {},
   "outputs": [
    {
     "data": {
      "text/html": [
       "<div>\n",
       "<style scoped>\n",
       "    .dataframe tbody tr th:only-of-type {\n",
       "        vertical-align: middle;\n",
       "    }\n",
       "\n",
       "    .dataframe tbody tr th {\n",
       "        vertical-align: top;\n",
       "    }\n",
       "\n",
       "    .dataframe thead th {\n",
       "        text-align: right;\n",
       "    }\n",
       "</style>\n",
       "<table border=\"1\" class=\"dataframe\">\n",
       "  <thead>\n",
       "    <tr style=\"text-align: right;\">\n",
       "      <th></th>\n",
       "      <th>Prueba</th>\n",
       "      <th>Estadístico</th>\n",
       "      <th>p-valor</th>\n",
       "    </tr>\n",
       "  </thead>\n",
       "  <tbody>\n",
       "    <tr>\n",
       "      <th>0</th>\n",
       "      <td>Bartlett</td>\n",
       "      <td>43.011235</td>\n",
       "      <td>5.442642e-11</td>\n",
       "    </tr>\n",
       "    <tr>\n",
       "      <th>1</th>\n",
       "      <td>Levene</td>\n",
       "      <td>33.256190</td>\n",
       "      <td>3.066820e-08</td>\n",
       "    </tr>\n",
       "  </tbody>\n",
       "</table>\n",
       "</div>"
      ],
      "text/plain": [
       "     Prueba  Estadístico       p-valor\n",
       "0  Bartlett    43.011235  5.442642e-11\n",
       "1    Levene    33.256190  3.066820e-08"
      ]
     },
     "execution_count": 25,
     "metadata": {},
     "output_type": "execute_result"
    }
   ],
   "source": [
    "# Preparación de los datos para pruebas de igualdad de varianzas para las tasas de interés\n",
    "data_gather_interes = pd.DataFrame({\n",
    "    'Grupo': ['InteresCreditoPersonal'] * len(interes_credito_personal) + ['InteresCreditoHipotecario'] * len(interes_credito_hipotecario),\n",
    "    'Valor': np.concatenate([interes_credito_personal, interes_credito_hipotecario])\n",
    "})\n",
    "\n",
    "# Prueba de Bartlett para igualdad de varianza entre las tasas de interés\n",
    "bartlett_test_interes = bartlett(interes_credito_personal, interes_credito_hipotecario)\n",
    "\n",
    "# Prueba de Levene (usando la mediana)\n",
    "levene_test = levene(interes_credito_personal, interes_credito_hipotecario, center='median')\n",
    "\n",
    "# Mostrar resultados de las pruebas de igualdad de varianza\n",
    "igualdad_varianzas_resultados_interes = {\n",
    "    'Prueba': ['Bartlett','Levene'],\n",
    "    'Estadístico': [bartlett_test_interes.statistic,levene_test.statistic],\n",
    "    'p-valor': [bartlett_test_interes.pvalue,levene_test.pvalue]\n",
    "}\n",
    "\n",
    "# Convertir a DataFrame para visualizar\n",
    "igualdad_varianzas_df_interes = pd.DataFrame(igualdad_varianzas_resultados_interes)\n",
    "igualdad_varianzas_df_interes"
   ]
  },
  {
   "cell_type": "markdown",
   "metadata": {},
   "source": [
    "* Veamos si hay o no diferencias estadisticamente significativas entre el interes del prestamo y el interes de deposito"
   ]
  },
  {
   "cell_type": "code",
   "execution_count": 26,
   "metadata": {},
   "outputs": [
    {
     "data": {
      "text/html": [
       "<div>\n",
       "<style scoped>\n",
       "    .dataframe tbody tr th:only-of-type {\n",
       "        vertical-align: middle;\n",
       "    }\n",
       "\n",
       "    .dataframe tbody tr th {\n",
       "        vertical-align: top;\n",
       "    }\n",
       "\n",
       "    .dataframe thead th {\n",
       "        text-align: right;\n",
       "    }\n",
       "</style>\n",
       "<table border=\"1\" class=\"dataframe\">\n",
       "  <thead>\n",
       "    <tr style=\"text-align: right;\">\n",
       "      <th></th>\n",
       "      <th>Prueba</th>\n",
       "      <th>Estadístico</th>\n",
       "      <th>p-valor</th>\n",
       "    </tr>\n",
       "  </thead>\n",
       "  <tbody>\n",
       "    <tr>\n",
       "      <th>0</th>\n",
       "      <td>t-test</td>\n",
       "      <td>16.572527</td>\n",
       "      <td>2.182955e-35</td>\n",
       "    </tr>\n",
       "  </tbody>\n",
       "</table>\n",
       "</div>"
      ],
      "text/plain": [
       "   Prueba  Estadístico       p-valor\n",
       "0  t-test    16.572527  2.182955e-35"
      ]
     },
     "execution_count": 26,
     "metadata": {},
     "output_type": "execute_result"
    }
   ],
   "source": [
    "# Prueba de diferencia de medias (t-test) para las tasas de interés de créditos personales e hipotecarios\n",
    "t_test_result_interes = ttest_ind(interes_credito_personal, interes_credito_hipotecario, equal_var=False)\n",
    "\n",
    "# Mostrar resultados de diferencia de medias y tamaño del efecto\n",
    "diferencia_medias_resultados_interes = {\n",
    "    'Prueba': ['t-test'],\n",
    "    'Estadístico': [t_test_result_interes.statistic],\n",
    "    'p-valor': [t_test_result_interes.pvalue]\n",
    "}\n",
    "\n",
    "# Convertir a DataFrame para visualizar\n",
    "diferencia_medias_df_interes = pd.DataFrame(diferencia_medias_resultados_interes)\n",
    "diferencia_medias_df_interes"
   ]
  },
  {
   "cell_type": "markdown",
   "metadata": {},
   "source": [
    "Dado el p-valor extremadamente bajo (2.18e-35), podemos concluir que existe una diferencia estadísticamente significativa entre las tasas de interés de los créditos personales y los créditos hipotecarios. "
   ]
  },
  {
   "cell_type": "markdown",
   "metadata": {},
   "source": [
    "#### **Comparación de 2 grupos poblacionales dependientes paramétrica (pareadas)**\n",
    "\n",
    "En el contexto de marketing para la banca, este análisis podría utilizarse para evaluar la efectividad de una nueva campaña de marketing o estrategia de promoción. Por ejemplo:\n",
    "\n",
    "* `antes`: Representa la tasa de conversión de clientes antes de implementar una nueva campaña de marketing.\n",
    "* `despues`: Representar la tasa de conversión de los mismos clientes después de la campaña."
   ]
  },
  {
   "cell_type": "code",
   "execution_count": 29,
   "metadata": {},
   "outputs": [
    {
     "data": {
      "text/html": [
       "<div>\n",
       "<style scoped>\n",
       "    .dataframe tbody tr th:only-of-type {\n",
       "        vertical-align: middle;\n",
       "    }\n",
       "\n",
       "    .dataframe tbody tr th {\n",
       "        vertical-align: top;\n",
       "    }\n",
       "\n",
       "    .dataframe thead th {\n",
       "        text-align: right;\n",
       "    }\n",
       "</style>\n",
       "<table border=\"1\" class=\"dataframe\">\n",
       "  <thead>\n",
       "    <tr style=\"text-align: right;\">\n",
       "      <th></th>\n",
       "      <th>cliente</th>\n",
       "      <th>conversion_antes</th>\n",
       "      <th>conversion_despues</th>\n",
       "    </tr>\n",
       "  </thead>\n",
       "  <tbody>\n",
       "    <tr>\n",
       "      <th>0</th>\n",
       "      <td>1</td>\n",
       "      <td>12.9</td>\n",
       "      <td>12.7</td>\n",
       "    </tr>\n",
       "    <tr>\n",
       "      <th>1</th>\n",
       "      <td>2</td>\n",
       "      <td>13.5</td>\n",
       "      <td>13.6</td>\n",
       "    </tr>\n",
       "    <tr>\n",
       "      <th>2</th>\n",
       "      <td>3</td>\n",
       "      <td>12.8</td>\n",
       "      <td>12.0</td>\n",
       "    </tr>\n",
       "    <tr>\n",
       "      <th>3</th>\n",
       "      <td>4</td>\n",
       "      <td>15.6</td>\n",
       "      <td>15.2</td>\n",
       "    </tr>\n",
       "    <tr>\n",
       "      <th>4</th>\n",
       "      <td>5</td>\n",
       "      <td>17.2</td>\n",
       "      <td>16.8</td>\n",
       "    </tr>\n",
       "  </tbody>\n",
       "</table>\n",
       "</div>"
      ],
      "text/plain": [
       "   cliente  conversion_antes  conversion_despues\n",
       "0        1              12.9                12.7\n",
       "1        2              13.5                13.6\n",
       "2        3              12.8                12.0\n",
       "3        4              15.6                15.2\n",
       "4        5              17.2                16.8"
      ]
     },
     "execution_count": 29,
     "metadata": {},
     "output_type": "execute_result"
    }
   ],
   "source": [
    "# Datos de ejemplo: tasa de conversión de clientes antes y después de una campaña de marketing\n",
    "data_marketing = {\n",
    "    'cliente': range(1, 11),\n",
    "    'conversion_antes': [12.9, 13.5, 12.8, 15.6, 17.2, 19.2, 12.6, 15.3, 14.4, 11.3],  # Tasa de conversión antes de la campaña\n",
    "    'conversion_despues': [12.7, 13.6, 12.0, 15.2, 16.8, 20.0, 12.0, 15.9, 16.0, 11.1]  # Tasa de conversión después de la campaña\n",
    "}\n",
    "\n",
    "# Crear el DataFrame\n",
    "df_marketing = pd.DataFrame(data_marketing)\n",
    "\n",
    "df_marketing.head()"
   ]
  },
  {
   "cell_type": "markdown",
   "metadata": {},
   "source": [
    "Realicemos el diagrama de cajas y bigotes"
   ]
  },
  {
   "cell_type": "code",
   "execution_count": 40,
   "metadata": {},
   "outputs": [
    {
     "data": {
      "image/png": "[encoded data removed]",
      "text/plain": [
       "<Figure size 1000x600 with 1 Axes>"
      ]
     },
     "metadata": {},
     "output_type": "display_data"
    }
   ],
   "source": [
    "# Crear un DataFrame largo para facilitar la visualización con Seaborn\n",
    "df_long = pd.melt(df_marketing, id_vars=['cliente'], value_vars=['conversion_antes', 'conversion_despues'],\n",
    "                  var_name='Etapa', value_name='Tasa de Conversión')\n",
    "\n",
    "# Generar el diagrama de cajas y bigotes para los datos de tasas de conversión\n",
    "plt.figure(figsize=(10, 6))\n",
    "sns.boxplot(x='Etapa', y='Tasa de Conversión', data=df_long)\n",
    "plt.title('Diagrama de Cajas y Bigotes para la Tasa de Conversión de Clientes Antes y Después de la Campaña de Marketing')\n",
    "plt.xlabel('Etapa de la Campaña')\n",
    "plt.ylabel('Tasa de Conversión (%)')\n",
    "plt.grid(True)\n",
    "plt.show()"
   ]
  },
  {
   "cell_type": "markdown",
   "metadata": {},
   "source": [
    "* Probemos la normalidad de los datos"
   ]
  },
  {
   "cell_type": "code",
   "execution_count": 34,
   "metadata": {},
   "outputs": [
    {
     "name": "stdout",
     "output_type": "stream",
     "text": [
      "         Prueba                Tipo  Estadístico   p-valor\n",
      "0  Shapiro-Wilk    conversion_antes     0.944436  0.603337\n",
      "1  Shapiro-Wilk  conversion_despues     0.936383  0.513510\n"
     ]
    }
   ],
   "source": [
    "# Prueba de normalidad usando Shapiro-Wilk para \"antes\" y \"después\"\n",
    "shapiro_antes = shapiro(df_marketing['conversion_antes'])\n",
    "shapiro_despues = shapiro(df_marketing['conversion_despues'])\n",
    "\n",
    "# Mostrar resultados de normalidad\n",
    "normalidad_resultados_interes = {\n",
    "    'Prueba': ['Shapiro-Wilk', 'Shapiro-Wilk'],\n",
    "    'Tipo': ['conversion_antes', 'conversion_despues'],\n",
    "    'Estadístico': [shapiro_antes.statistic, shapiro_despues.statistic],\n",
    "    'p-valor': [shapiro_antes.pvalue, shapiro_despues.pvalue]\n",
    "}\n",
    "\n",
    "# Convertir a DataFrame para visualizar\n",
    "normalidad_df_interes = pd.DataFrame(normalidad_resultados_interes)\n",
    "print(normalidad_df_interes)"
   ]
  },
  {
   "cell_type": "markdown",
   "metadata": {},
   "source": [
    "* Veamos si hay diferencias estadísticamente significativas o no"
   ]
  },
  {
   "cell_type": "code",
   "execution_count": 38,
   "metadata": {},
   "outputs": [
    {
     "data": {
      "text/html": [
       "<div>\n",
       "<style scoped>\n",
       "    .dataframe tbody tr th:only-of-type {\n",
       "        vertical-align: middle;\n",
       "    }\n",
       "\n",
       "    .dataframe tbody tr th {\n",
       "        vertical-align: top;\n",
       "    }\n",
       "\n",
       "    .dataframe thead th {\n",
       "        text-align: right;\n",
       "    }\n",
       "</style>\n",
       "<table border=\"1\" class=\"dataframe\">\n",
       "  <thead>\n",
       "    <tr style=\"text-align: right;\">\n",
       "      <th></th>\n",
       "      <th>Prueba t pareada</th>\n",
       "    </tr>\n",
       "  </thead>\n",
       "  <tbody>\n",
       "    <tr>\n",
       "      <th>Estadístico t</th>\n",
       "      <td>0.213308</td>\n",
       "    </tr>\n",
       "    <tr>\n",
       "      <th>p-valor</th>\n",
       "      <td>0.835840</td>\n",
       "    </tr>\n",
       "  </tbody>\n",
       "</table>\n",
       "</div>"
      ],
      "text/plain": [
       "               Prueba t pareada\n",
       "Estadístico t          0.213308\n",
       "p-valor                0.835840"
      ]
     },
     "execution_count": 38,
     "metadata": {},
     "output_type": "execute_result"
    }
   ],
   "source": [
    "# importar para prueba pareada\n",
    "from scipy.stats import ttest_rel\n",
    "\n",
    "# Prueba t para datos pareados (diferencias antes y después)\n",
    "t_test_result = ttest_rel(df_marketing['conversion_despues'], df_marketing['conversion_antes'], alternative='two-sided')\n",
    "\n",
    "resultado_analisis = {\n",
    "    'Prueba t pareada': {'Estadístico t': t_test_result.statistic, 'p-valor': t_test_result.pvalue}\n",
    "}\n",
    "\n",
    "# Convertir a DataFrame para visualizar\n",
    "resultado_analisis = pd.DataFrame(resultado_analisis)\n",
    "\n",
    "# Mostrar los resultados\n",
    "resultado_analisis"
   ]
  },
  {
   "cell_type": "markdown",
   "metadata": {},
   "source": [
    "El p-valor de 0.836 es mucho mayor que el nivel de significancia comúnmente utilizado (por ejemplo, 0.05). Esto indica que no hay suficiente evidencia para rechazar la hipótesis nula de que no hay diferencia en las medias de las tasas de conversión antes y después de la campaña de marketing."
   ]
  },
  {
   "cell_type": "markdown",
   "metadata": {},
   "source": [
    "#### **Comparación de 2 grupos poblacionales independientes no paramétrica**\n"
   ]
  },
  {
   "cell_type": "markdown",
   "metadata": {},
   "source": [
    "Para nuestra prueba estadística no paramétrica usaremos los datos de **LendingClub (LC) Statistics**. Veamos si hay diferencias estadísticamente significativas de la tasa de interes según el pago o no."
   ]
  },
  {
   "cell_type": "markdown",
   "metadata": {},
   "source": [
    "Realicemos un diagrama de cajas y bigotes"
   ]
  },
  {
   "cell_type": "code",
   "execution_count": 51,
   "metadata": {},
   "outputs": [
    {
     "data": {
      "image/png": "[encoded data removed]",
      "text/plain": [
       "<Figure size 1000x600 with 1 Axes>"
      ]
     },
     "metadata": {},
     "output_type": "display_data"
    }
   ],
   "source": [
    "# Crear un diagrama de cajas y bigotes para 'unemployment' vs 'type' usando Seaborn\n",
    "plt.figure(figsize=(10, 6))  # Ajustar el tamaño del gráfico\n",
    "\n",
    "sns.boxplot(x='loan_status', y='int_rate', data=df)\n",
    "\n",
    "# Agregar título y etiquetas\n",
    "plt.title('Diagrama de Cajas y Bigotes: Tasa de interes según el estatus')\n",
    "plt.xlabel('Estatus')\n",
    "plt.ylabel('Tasa de interes')\n",
    "\n",
    "# Mostrar el gráfico\n",
    "plt.show()"
   ]
  },
  {
   "cell_type": "markdown",
   "metadata": {},
   "source": [
    "* Veamos si hay normalidad en los datos"
   ]
  },
  {
   "cell_type": "code",
   "execution_count": 61,
   "metadata": {},
   "outputs": [
    {
     "name": "stdout",
     "output_type": "stream",
     "text": [
      "               Prueba      Interés  Estadístico        p-valor\n",
      "0  Kolmogorov-Smirnov   Fully Paid     0.073990  8.141216e-159\n",
      "1  Kolmogorov-Smirnov  Charged Off     0.033266   1.151589e-05\n",
      "2          lilliefors   Fully Paid     0.073986   1.000000e-03\n",
      "3          lilliefors  Charged Off     0.033262   1.000000e-03\n"
     ]
    }
   ],
   "source": [
    "# Separar los datos por tipo de interés\n",
    "interes_Fully_Paid = df[df['loan_status'] == 'Fully Paid']['int_rate']\n",
    "interes_Charged_Off = df[df['loan_status'] == 'Charged Off']['int_rate']\n",
    "\n",
    "# Normalidad: Prueba de Kolmogorov-Smirnov\n",
    "ks_Fully_Paid = ks_1samp((interes_Fully_Paid - np.mean(interes_Fully_Paid)) / np.std(interes_Fully_Paid), cdf=norm.cdf)\n",
    "ks_Charged_Off = ks_1samp((interes_Charged_Off - np.mean(interes_Charged_Off)) / np.std(interes_Charged_Off), cdf=norm.cdf)\n",
    "\n",
    "# Prueba de lilliefors para la distribución Normal\n",
    "lilliefors_Fully_Paid = lilliefors(interes_Fully_Paid, dist='norm')\n",
    "lilliefors_Charged_Off = lilliefors(interes_Charged_Off, dist='norm')\n",
    "\n",
    "# Mostrar resultados de normalidad\n",
    "normalidad_resultados_banca = {\n",
    "    'Prueba': ['Kolmogorov-Smirnov', 'Kolmogorov-Smirnov', 'lilliefors', 'lilliefors'],\n",
    "    'Interés': ['Fully Paid', 'Charged Off', 'Fully Paid', 'Charged Off'],\n",
    "    'Estadístico': [ks_Fully_Paid.statistic, ks_Charged_Off.statistic, lilliefors_Fully_Paid[0], lilliefors_Charged_Off[0]],\n",
    "    'p-valor': [ks_Fully_Paid.pvalue, ks_Charged_Off.pvalue, lilliefors_Fully_Paid[1], lilliefors_Charged_Off[1]]\n",
    "}\n",
    "\n",
    "# Convertir a DataFrame para visualizar\n",
    "normalidad_df_banca = pd.DataFrame(normalidad_resultados_banca)\n",
    "print(normalidad_df_banca)"
   ]
  },
  {
   "cell_type": "markdown",
   "metadata": {},
   "source": [
    "* Probemos la homocedasticidad"
   ]
  },
  {
   "cell_type": "code",
   "execution_count": 63,
   "metadata": {},
   "outputs": [
    {
     "data": {
      "text/html": [
       "<div>\n",
       "<style scoped>\n",
       "    .dataframe tbody tr th:only-of-type {\n",
       "        vertical-align: middle;\n",
       "    }\n",
       "\n",
       "    .dataframe tbody tr th {\n",
       "        vertical-align: top;\n",
       "    }\n",
       "\n",
       "    .dataframe thead th {\n",
       "        text-align: right;\n",
       "    }\n",
       "</style>\n",
       "<table border=\"1\" class=\"dataframe\">\n",
       "  <thead>\n",
       "    <tr style=\"text-align: right;\">\n",
       "      <th></th>\n",
       "      <th>Prueba</th>\n",
       "      <th>Estadístico</th>\n",
       "      <th>p-valor</th>\n",
       "    </tr>\n",
       "  </thead>\n",
       "  <tbody>\n",
       "    <tr>\n",
       "      <th>0</th>\n",
       "      <td>Levene (mediana)</td>\n",
       "      <td>0.308287</td>\n",
       "      <td>0.578736</td>\n",
       "    </tr>\n",
       "  </tbody>\n",
       "</table>\n",
       "</div>"
      ],
      "text/plain": [
       "             Prueba  Estadístico   p-valor\n",
       "0  Levene (mediana)     0.308287  0.578736"
      ]
     },
     "execution_count": 63,
     "metadata": {},
     "output_type": "execute_result"
    }
   ],
   "source": [
    "# Prueba de Levene centrada en la mediana para igualdad de varianzas entre las tasas de interés de \"Fully Paid\" y \"Charged Off\"\n",
    "levene_test_banca = levene(interes_Fully_Paid, interes_Charged_Off, center='median')\n",
    "\n",
    "# Mostrar resultados de la prueba de Levene\n",
    "igualdad_varianzas_levene_resultados = {\n",
    "    'Prueba': ['Levene (mediana)'],\n",
    "    'Estadístico': [levene_test_banca.statistic],\n",
    "    'p-valor': [levene_test_banca.pvalue]\n",
    "}\n",
    "\n",
    "# Convertir a DataFrame para visualizar\n",
    "igualdad_varianzas_levene_df = pd.DataFrame(igualdad_varianzas_levene_resultados)\n",
    "igualdad_varianzas_levene_df"
   ]
  },
  {
   "cell_type": "markdown",
   "metadata": {},
   "source": [
    "* Usemos una prueba no paramétrica para ver si hay diferencias significativas entre los dos grupos"
   ]
  },
  {
   "cell_type": "code",
   "execution_count": 65,
   "metadata": {},
   "outputs": [
    {
     "name": "stdout",
     "output_type": "stream",
     "text": [
      "           Prueba  Estadístico  p-valor\n",
      "0  Mann-Whitney U   61292227.5      0.0\n"
     ]
    }
   ],
   "source": [
    "from scipy.stats import mannwhitneyu\n",
    "\n",
    "# Prueba de Mann-Whitney U para comparar las medianas de las tasas de interés de \"Fully Paid\" y \"Charged Off\"\n",
    "mannwhitney_test_banca = mannwhitneyu(interes_Fully_Paid, interes_Charged_Off, alternative='two-sided')\n",
    "\n",
    "# Mostrar resultados de la prueba de Mann-Whitney U\n",
    "mannwhitney_resultados = {\n",
    "    'Prueba': ['Mann-Whitney U'],\n",
    "    'Estadístico': [mannwhitney_test_banca.statistic],\n",
    "    'p-valor': [mannwhitney_test_banca.pvalue]\n",
    "}\n",
    "\n",
    "# Convertir a DataFrame para visualizar\n",
    "mannwhitney_df = pd.DataFrame(mannwhitney_resultados)\n",
    "print(mannwhitney_df)"
   ]
  },
  {
   "cell_type": "markdown",
   "metadata": {},
   "source": [
    "Los resultados sugieren que las tasas de interés para los préstamos que han sido `Fully Paid` y aquellos que han sido `Charged Off` son significativamente diferentes. Esto podría implicar que los préstamos con mayores tasas de interés tienden a tener un mayor riesgo de no ser pagados en su totalidad (es decir, ser `Charged Off`)"
   ]
  },
  {
   "cell_type": "markdown",
   "metadata": {},
   "source": [
    "#### **Comparación de 2 grupos poblacionales dependientes no paramétrica (pareadas)**\n",
    "\n",
    "El contexto de los datos es la rotación de puestos en la banca, supongamos que estamos comparando dos periodos (pretest y posttest) para evaluar si hubo un cambio significativo en el puntaje de satisfacción del personal antes y después de un programa de intervención en la empresa bancaria."
   ]
  },
  {
   "cell_type": "code",
   "execution_count": 4,
   "metadata": {},
   "outputs": [],
   "source": [
    "import pandas as pd"
   ]
  },
  {
   "cell_type": "code",
   "execution_count": 5,
   "metadata": {},
   "outputs": [
    {
     "data": {
      "text/html": [
       "<div>\n",
       "<style scoped>\n",
       "    .dataframe tbody tr th:only-of-type {\n",
       "        vertical-align: middle;\n",
       "    }\n",
       "\n",
       "    .dataframe tbody tr th {\n",
       "        vertical-align: top;\n",
       "    }\n",
       "\n",
       "    .dataframe thead th {\n",
       "        text-align: right;\n",
       "    }\n",
       "</style>\n",
       "<table border=\"1\" class=\"dataframe\">\n",
       "  <thead>\n",
       "    <tr style=\"text-align: right;\">\n",
       "      <th></th>\n",
       "      <th>Experimento</th>\n",
       "      <th>Q1</th>\n",
       "    </tr>\n",
       "  </thead>\n",
       "  <tbody>\n",
       "    <tr>\n",
       "      <th>0</th>\n",
       "      <td>Pretest</td>\n",
       "      <td>2.0</td>\n",
       "    </tr>\n",
       "    <tr>\n",
       "      <th>1</th>\n",
       "      <td>Pretest</td>\n",
       "      <td>7.0</td>\n",
       "    </tr>\n",
       "    <tr>\n",
       "      <th>2</th>\n",
       "      <td>Pretest</td>\n",
       "      <td>21.0</td>\n",
       "    </tr>\n",
       "    <tr>\n",
       "      <th>3</th>\n",
       "      <td>Pretest</td>\n",
       "      <td>14.0</td>\n",
       "    </tr>\n",
       "    <tr>\n",
       "      <th>4</th>\n",
       "      <td>Pretest</td>\n",
       "      <td>12.0</td>\n",
       "    </tr>\n",
       "  </tbody>\n",
       "</table>\n",
       "</div>"
      ],
      "text/plain": [
       "  Experimento    Q1\n",
       "0     Pretest   2.0\n",
       "1     Pretest   7.0\n",
       "2     Pretest  21.0\n",
       "3     Pretest  14.0\n",
       "4     Pretest  12.0"
      ]
     },
     "execution_count": 5,
     "metadata": {},
     "output_type": "execute_result"
    }
   ],
   "source": [
    "# Cargar el archivo de Excel\n",
    "filename = '_data/datadescrip/rotacion_puesto_banca.csv'\n",
    "df_rot = pd.read_csv(filename)\n",
    "\n",
    "# Mostrar las primeras filas para entender la estructura\n",
    "df_rot.head()"
   ]
  },
  {
   "cell_type": "code",
   "execution_count": 113,
   "metadata": {},
   "outputs": [
    {
     "name": "stdout",
     "output_type": "stream",
     "text": [
      "<class 'pandas.core.frame.DataFrame'>\n",
      "RangeIndex: 60 entries, 0 to 59\n",
      "Data columns (total 2 columns):\n",
      " #   Column       Non-Null Count  Dtype  \n",
      "---  ------       --------------  -----  \n",
      " 0   Experimento  60 non-null     object \n",
      " 1   Q1           60 non-null     float64\n",
      "dtypes: float64(1), object(1)\n",
      "memory usage: 1.1+ KB\n"
     ]
    }
   ],
   "source": [
    "df_rot.info()"
   ]
  },
  {
   "cell_type": "markdown",
   "metadata": {},
   "source": [
    "Hagamos un diagrama de cajas y bigotes"
   ]
  },
  {
   "cell_type": "code",
   "execution_count": 114,
   "metadata": {},
   "outputs": [
    {
     "data": {
      "image/png": "[encoded data removed]",
      "text/plain": [
       "<Figure size 1000x600 with 1 Axes>"
      ]
     },
     "metadata": {},
     "output_type": "display_data"
    }
   ],
   "source": [
    "# Crear un diagrama de cajas y bigotes para 'Q1' vs 'Experimento' usando Seaborn en el contexto de rotación de la banca\n",
    "plt.figure(figsize=(10, 6))  # Ajustar el tamaño del gráfico\n",
    "\n",
    "sns.boxplot(x='Experimento', y='Q1', data=df)\n",
    "\n",
    "# Agregar título y etiquetas\n",
    "plt.title('Diagrama de Cajas y Bigotes: Satisfacción del personal según el experimento')\n",
    "plt.xlabel('Experimento (Pretest vs. Posttest)')\n",
    "plt.ylabel('Puntaje de Satisfacción del Personal (Q1)')\n",
    "\n",
    "# Mostrar el gráfico\n",
    "plt.grid(True)\n",
    "plt.show()"
   ]
  },
  {
   "cell_type": "markdown",
   "metadata": {},
   "source": [
    "* Veamos la distribución de los datos"
   ]
  },
  {
   "cell_type": "code",
   "execution_count": 115,
   "metadata": {},
   "outputs": [
    {
     "data": {
      "text/html": [
       "<div>\n",
       "<style scoped>\n",
       "    .dataframe tbody tr th:only-of-type {\n",
       "        vertical-align: middle;\n",
       "    }\n",
       "\n",
       "    .dataframe tbody tr th {\n",
       "        vertical-align: top;\n",
       "    }\n",
       "\n",
       "    .dataframe thead th {\n",
       "        text-align: right;\n",
       "    }\n",
       "</style>\n",
       "<table border=\"1\" class=\"dataframe\">\n",
       "  <thead>\n",
       "    <tr style=\"text-align: right;\">\n",
       "      <th></th>\n",
       "      <th>Prueba</th>\n",
       "      <th>Experimento</th>\n",
       "      <th>Estadístico</th>\n",
       "      <th>p-valor</th>\n",
       "    </tr>\n",
       "  </thead>\n",
       "  <tbody>\n",
       "    <tr>\n",
       "      <th>0</th>\n",
       "      <td>Lilliefors</td>\n",
       "      <td>Pretest</td>\n",
       "      <td>0.200947</td>\n",
       "      <td>0.003294</td>\n",
       "    </tr>\n",
       "    <tr>\n",
       "      <th>1</th>\n",
       "      <td>Lilliefors</td>\n",
       "      <td>Posttest</td>\n",
       "      <td>0.185819</td>\n",
       "      <td>0.009551</td>\n",
       "    </tr>\n",
       "    <tr>\n",
       "      <th>2</th>\n",
       "      <td>Shapiro-Wilk</td>\n",
       "      <td>Pretest</td>\n",
       "      <td>0.795257</td>\n",
       "      <td>0.000054</td>\n",
       "    </tr>\n",
       "    <tr>\n",
       "      <th>3</th>\n",
       "      <td>Shapiro-Wilk</td>\n",
       "      <td>Posttest</td>\n",
       "      <td>0.838003</td>\n",
       "      <td>0.000351</td>\n",
       "    </tr>\n",
       "  </tbody>\n",
       "</table>\n",
       "</div>"
      ],
      "text/plain": [
       "         Prueba Experimento  Estadístico   p-valor\n",
       "0    Lilliefors     Pretest     0.200947  0.003294\n",
       "1    Lilliefors    Posttest     0.185819  0.009551\n",
       "2  Shapiro-Wilk     Pretest     0.795257  0.000054\n",
       "3  Shapiro-Wilk    Posttest     0.838003  0.000351"
      ]
     },
     "execution_count": 115,
     "metadata": {},
     "output_type": "execute_result"
    }
   ],
   "source": [
    "# Separar los datos por experimento en el contexto de rotación de la banca\n",
    "satisfaccion_Pretest = df[df['Experimento'] == 'Pretest']['Q1']\n",
    "satisfaccion_Posttest = df[df['Experimento'] == 'Posttest']['Q1']\n",
    "\n",
    "# Prueba de Lilliefors para la distribución Normal\n",
    "lilliefors_Pretest = lilliefors(satisfaccion_Pretest, dist='norm')\n",
    "lilliefors_Posttest = lilliefors(satisfaccion_Posttest, dist='norm')\n",
    "\n",
    "# Prueba de Shapiro-Wilk\n",
    "shapiro_Pretest = shapiro(satisfaccion_Pretest)\n",
    "shapiro_Posttest = shapiro(satisfaccion_Posttest)\n",
    "\n",
    "# Mostrar resultados de normalidad\n",
    "normalidad_resultados_rotacion = {\n",
    "    'Prueba': ['Lilliefors', 'Lilliefors', 'Shapiro-Wilk', 'Shapiro-Wilk'],\n",
    "    'Experimento': ['Pretest', 'Posttest', 'Pretest', 'Posttest'],\n",
    "    'Estadístico': [lilliefors_Pretest[0], lilliefors_Posttest[0],\n",
    "                    shapiro_Pretest.statistic, shapiro_Posttest.statistic],\n",
    "    'p-valor': [ lilliefors_Pretest[1], lilliefors_Posttest[1],\n",
    "                shapiro_Pretest.pvalue, shapiro_Posttest.pvalue]\n",
    "}\n",
    "\n",
    "# Convertir a DataFrame para visualizar\n",
    "normalidad_df_rotacion = pd.DataFrame(normalidad_resultados_rotacion)\n",
    "normalidad_df_rotacion\n"
   ]
  },
  {
   "cell_type": "markdown",
   "metadata": {},
   "source": [
    "* Veamos si hay diferencias entre el antes y despues."
   ]
  },
  {
   "cell_type": "code",
   "execution_count": 116,
   "metadata": {},
   "outputs": [
    {
     "data": {
      "text/html": [
       "<div>\n",
       "<style scoped>\n",
       "    .dataframe tbody tr th:only-of-type {\n",
       "        vertical-align: middle;\n",
       "    }\n",
       "\n",
       "    .dataframe tbody tr th {\n",
       "        vertical-align: top;\n",
       "    }\n",
       "\n",
       "    .dataframe thead th {\n",
       "        text-align: right;\n",
       "    }\n",
       "</style>\n",
       "<table border=\"1\" class=\"dataframe\">\n",
       "  <thead>\n",
       "    <tr style=\"text-align: right;\">\n",
       "      <th></th>\n",
       "      <th>Prueba</th>\n",
       "      <th>Estadístico</th>\n",
       "      <th>p-valor</th>\n",
       "    </tr>\n",
       "  </thead>\n",
       "  <tbody>\n",
       "    <tr>\n",
       "      <th>0</th>\n",
       "      <td>Wilcoxon (pareada)</td>\n",
       "      <td>132.0</td>\n",
       "      <td>0.038418</td>\n",
       "    </tr>\n",
       "  </tbody>\n",
       "</table>\n",
       "</div>"
      ],
      "text/plain": [
       "               Prueba  Estadístico   p-valor\n",
       "0  Wilcoxon (pareada)        132.0  0.038418"
      ]
     },
     "execution_count": 116,
     "metadata": {},
     "output_type": "execute_result"
    }
   ],
   "source": [
    "from scipy.stats import wilcoxon\n",
    "\n",
    "# Prueba de Wilcoxon para datos pareados (no paramétrica) para comparar Pretest y Posttest\n",
    "wilcoxon_test_rotacion = wilcoxon(satisfaccion_Pretest, satisfaccion_Posttest, alternative='two-sided',\n",
    "                                  correction=True)\n",
    "\n",
    "# Mostrar resultados de la prueba de Wilcoxon\n",
    "wilcoxon_resultados = {\n",
    "    'Prueba': ['Wilcoxon (pareada)'],\n",
    "    'Estadístico': [wilcoxon_test_rotacion.statistic],\n",
    "    'p-valor': [wilcoxon_test_rotacion.pvalue]\n",
    "}\n",
    "\n",
    "# Convertir a DataFrame para visualizar\n",
    "wilcoxon_df = pd.DataFrame(wilcoxon_resultados)\n",
    "wilcoxon_df"
   ]
  },
  {
   "cell_type": "markdown",
   "metadata": {},
   "source": [
    "Los resultados sugieren que la intervención realizada en la empresa bancaria (por ejemplo, una política o programa de rotación de puestos) tuvo un impacto significativo en la satisfacción del personal."
   ]
  },
  {
   "cell_type": "markdown",
   "metadata": {},
   "source": [
    "#### **ANOVA para mas de 2 grupos paramétricas**\n",
    "\n",
    "El **ANOVA (Análisis de Varianza)** es una técnica estadística que permite comparar las medias de tres o más grupos para determinar si existen diferencias significativas entre ellos. El objetivo es analizar si la variabilidad entre los grupos es mayor que la variabilidad dentro de cada grupo, lo cual indicaría que al menos uno de los grupos tiene una media diferente.\n",
    "\n",
    "Este análisis es útil en contextos bancarios, como por ejemplo, para evaluar si la satisfacción del cliente, el nivel de ingresos o las tasas de interés varían significativamente entre diferentes segmentos o categorías de clientes.\n"
   ]
  },
  {
   "cell_type": "markdown",
   "metadata": {},
   "source": [
    "A continuación, te proporciono un ejemplo de datos para un banco con tres grupos de clientes (Clientes A, Clientes B, Clientes C), y la columna satisfaction_score representando un score de satisfacción. Inicialmente importemos los paquetes a usar"
   ]
  },
  {
   "cell_type": "code",
   "execution_count": 38,
   "metadata": {},
   "outputs": [],
   "source": [
    "import pandas as pd\n",
    "import matplotlib.pyplot as plt\n",
    "import seaborn as sns\n",
    "import scipy.stats as stats\n",
    "from statsmodels.formula.api import ols\n",
    "import statsmodels.api as sm\n",
    "from statsmodels.stats.multicomp import pairwise_tukeyhsd"
   ]
  },
  {
   "cell_type": "markdown",
   "metadata": {},
   "source": [
    "* Importemos los datos con `pandas`"
   ]
  },
  {
   "cell_type": "code",
   "execution_count": 25,
   "metadata": {},
   "outputs": [
    {
     "name": "stdout",
     "output_type": "stream",
     "text": [
      "<class 'pandas.core.frame.DataFrame'>\n",
      "RangeIndex: 30 entries, 0 to 29\n",
      "Data columns (total 2 columns):\n",
      " #   Column  Non-Null Count  Dtype   \n",
      "---  ------  --------------  -----   \n",
      " 0   Grupo   30 non-null     category\n",
      " 1   Score   30 non-null     int64   \n",
      "dtypes: category(1), int64(1)\n",
      "memory usage: 530.0 bytes\n",
      "None\n",
      "  Grupo  Score\n",
      "0     A     75\n",
      "1     A     78\n",
      "2     A     80\n",
      "3     A     82\n",
      "4     A     85\n"
     ]
    }
   ],
   "source": [
    "# Importar los datos\n",
    "df_satisf = pd.read_csv('_data/datadescrip/banca_satisfaccion.csv')\n",
    "\n",
    "# Poner la columna 'Grupo' como categórica\n",
    "df_satisf['Grupo'] = df_satisf['Grupo'].astype(pd.CategoricalDtype(categories=['A', 'B', 'C']))\n",
    "\n",
    "# mostrar la informacion\n",
    "print(df_satisf.info())\n",
    "\n",
    "# imprimir las 5 primeras filas\n",
    "print(df_satisf.head())"
   ]
  },
  {
   "cell_type": "markdown",
   "metadata": {},
   "source": [
    "* Hagamos un diagrama de cajas y bigotes"
   ]
  },
  {
   "cell_type": "code",
   "execution_count": 27,
   "metadata": {},
   "outputs": [
    {
     "name": "stderr",
     "output_type": "stream",
     "text": [
      "c:\\Users\\cdeor\\miniconda3\\envs\\ml_venv\\lib\\site-packages\\seaborn\\_oldcore.py:1498: FutureWarning: is_categorical_dtype is deprecated and will be removed in a future version. Use isinstance(dtype, CategoricalDtype) instead\n",
      "  if pd.api.types.is_categorical_dtype(vector):\n",
      "c:\\Users\\cdeor\\miniconda3\\envs\\ml_venv\\lib\\site-packages\\seaborn\\categorical.py:641: FutureWarning: The default of observed=False is deprecated and will be changed to True in a future version of pandas. Pass observed=False to retain current behavior or observed=True to adopt the future default and silence this warning.\n",
      "  grouped_vals = vals.groupby(grouper)\n"
     ]
    },
    {
     "data": {
      "image/png": "[encoded data removed]",
      "text/plain": [
       "<Figure size 1000x600 with 1 Axes>"
      ]
     },
     "metadata": {},
     "output_type": "display_data"
    }
   ],
   "source": [
    "# Crear un diagrama de cajas y bigotes para 'Q1' vs 'Experimento' usando Seaborn en el contexto de rotación de la banca\n",
    "plt.figure(figsize=(10, 6))  # Ajustar el tamaño del gráfico\n",
    "\n",
    "sns.boxplot(x='Grupo', y='Score', data=df_satisf)\n",
    "\n",
    "# Agregar título y etiquetas\n",
    "plt.title('Diagrama de Cajas y Bigotes: Score del personal según el grupo')\n",
    "plt.xlabel('Grupo')\n",
    "plt.ylabel('Puntaje de Score de satisfacción ')\n",
    "\n",
    "# Mostrar el gráfico\n",
    "plt.grid(True)\n",
    "plt.show()"
   ]
  },
  {
   "cell_type": "markdown",
   "metadata": {},
   "source": [
    "Veamos el comportamiento de los datos"
   ]
  },
  {
   "cell_type": "code",
   "execution_count": 36,
   "metadata": {},
   "outputs": [
    {
     "data": {
      "text/html": [
       "<div>\n",
       "<style scoped>\n",
       "    .dataframe tbody tr th:only-of-type {\n",
       "        vertical-align: middle;\n",
       "    }\n",
       "\n",
       "    .dataframe tbody tr th {\n",
       "        vertical-align: top;\n",
       "    }\n",
       "\n",
       "    .dataframe thead th {\n",
       "        text-align: right;\n",
       "    }\n",
       "</style>\n",
       "<table border=\"1\" class=\"dataframe\">\n",
       "  <thead>\n",
       "    <tr style=\"text-align: right;\">\n",
       "      <th></th>\n",
       "      <th>Prueba</th>\n",
       "      <th>Experimento</th>\n",
       "      <th>Estadístico</th>\n",
       "      <th>p-valor</th>\n",
       "    </tr>\n",
       "  </thead>\n",
       "  <tbody>\n",
       "    <tr>\n",
       "      <th>0</th>\n",
       "      <td>Shapiro-Wilk</td>\n",
       "      <td>A</td>\n",
       "      <td>0.973892</td>\n",
       "      <td>0.924396</td>\n",
       "    </tr>\n",
       "    <tr>\n",
       "      <th>1</th>\n",
       "      <td>Shapiro-Wilk</td>\n",
       "      <td>B</td>\n",
       "      <td>0.970165</td>\n",
       "      <td>0.892368</td>\n",
       "    </tr>\n",
       "    <tr>\n",
       "      <th>2</th>\n",
       "      <td>Shapiro-Wilk</td>\n",
       "      <td>C</td>\n",
       "      <td>0.970165</td>\n",
       "      <td>0.892368</td>\n",
       "    </tr>\n",
       "  </tbody>\n",
       "</table>\n",
       "</div>"
      ],
      "text/plain": [
       "         Prueba Experimento  Estadístico   p-valor\n",
       "0  Shapiro-Wilk           A     0.973892  0.924396\n",
       "1  Shapiro-Wilk           B     0.970165  0.892368\n",
       "2  Shapiro-Wilk           C     0.970165  0.892368"
      ]
     },
     "execution_count": 36,
     "metadata": {},
     "output_type": "execute_result"
    }
   ],
   "source": [
    "# Separar los datos por grupo \n",
    "grupo_a = df_satisf[df_satisf['Grupo'] == 'A']['Score']\n",
    "grupo_b = df_satisf[df_satisf['Grupo'] == 'B']['Score']\n",
    "grupo_c = df_satisf[df_satisf['Grupo'] == 'C']['Score']\n",
    "\n",
    "# Prueba de Shapiro-Wilk\n",
    "shapiro_grupo_a = stats.shapiro(grupo_a)\n",
    "shapiro_grupo_b = stats.shapiro(grupo_b)\n",
    "shapiro_grupo_c = stats.shapiro(grupo_c)\n",
    "\n",
    "# Mostrar resultados de normalidad\n",
    "normalidad_resultados_satisfaccion = {\n",
    "    'Prueba': ['Shapiro-Wilk', 'Shapiro-Wilk', 'Shapiro-Wilk'],\n",
    "    'Experimento': ['A','B','C'],\n",
    "    'Estadístico': [shapiro_grupo_a.statistic, shapiro_grupo_b.statistic,shapiro_grupo_c.statistic],\n",
    "    'p-valor': [shapiro_grupo_a.pvalue, shapiro_grupo_b.pvalue,shapiro_grupo_c.pvalue]\n",
    "}\n",
    "\n",
    "# Convertir a DataFrame para visualizar\n",
    "normalidad_df_satisfaccion = pd.DataFrame(normalidad_resultados_satisfaccion)\n",
    "normalidad_df_satisfaccion"
   ]
  },
  {
   "cell_type": "markdown",
   "metadata": {},
   "source": [
    "* Realicemos la igualdad de varianza"
   ]
  },
  {
   "cell_type": "code",
   "execution_count": 37,
   "metadata": {},
   "outputs": [
    {
     "data": {
      "text/html": [
       "<div>\n",
       "<style scoped>\n",
       "    .dataframe tbody tr th:only-of-type {\n",
       "        vertical-align: middle;\n",
       "    }\n",
       "\n",
       "    .dataframe tbody tr th {\n",
       "        vertical-align: top;\n",
       "    }\n",
       "\n",
       "    .dataframe thead th {\n",
       "        text-align: right;\n",
       "    }\n",
       "</style>\n",
       "<table border=\"1\" class=\"dataframe\">\n",
       "  <thead>\n",
       "    <tr style=\"text-align: right;\">\n",
       "      <th></th>\n",
       "      <th>Prueba</th>\n",
       "      <th>Estadístico</th>\n",
       "      <th>p-valor</th>\n",
       "    </tr>\n",
       "  </thead>\n",
       "  <tbody>\n",
       "    <tr>\n",
       "      <th>0</th>\n",
       "      <td>Bartless</td>\n",
       "      <td>1.376344</td>\n",
       "      <td>0.502494</td>\n",
       "    </tr>\n",
       "  </tbody>\n",
       "</table>\n",
       "</div>"
      ],
      "text/plain": [
       "     Prueba  Estadístico   p-valor\n",
       "0  Bartless     1.376344  0.502494"
      ]
     },
     "execution_count": 37,
     "metadata": {},
     "output_type": "execute_result"
    }
   ],
   "source": [
    "# Prueba de Levene centrada en la mediana para igualdad de varianzas entre las tasas de interés de \"Fully Paid\" y \"Charged Off\"\n",
    "bartlett_test = stats.bartlett(grupo_a,grupo_b,grupo_c)\n",
    "\n",
    "# Mostrar resultados de la prueba de Levene\n",
    "igualdad_varianzas_bartless_resultados = {\n",
    "    'Prueba': ['Bartless'],\n",
    "    'Estadístico': [bartlett_test.statistic],\n",
    "    'p-valor': [bartlett_test.pvalue]\n",
    "}\n",
    "\n",
    "# Convertir a DataFrame para visualizar\n",
    "igualdad_varianzas_bartlett_df = pd.DataFrame(igualdad_varianzas_bartless_resultados)\n",
    "igualdad_varianzas_bartlett_df"
   ]
  },
  {
   "cell_type": "markdown",
   "metadata": {},
   "source": [
    "* Desarrollemos la prueba ANOVA:\n",
    "\n",
    "El método `sm.stats.anova_lm()` pertenece al paquete `statsmodels` y se usa para realizar el análisis de varianza (ANOVA) a partir de un modelo de regresión ajustado. Ahora te explicaré los parámetros que estás utilizando, específicamente `modelo` y `typ=2`:\n",
    "\n",
    "1. `modelo`: este es el **modelo de regresión ajustado** que se pasa a la función para realizar el análisis ANOVA. El modelo se ajusta previamente usando una fórmula con `ols()`, como en el caso de:"
   ]
  },
  {
   "cell_type": "code",
   "execution_count": 39,
   "metadata": {},
   "outputs": [],
   "source": [
    "# Crear el modelo de regresión usando Ordinary Least Squares (OLS)\n",
    "modelo = ols('Score ~ Grupo', data=df_satisf).fit()"
   ]
  },
  {
   "cell_type": "markdown",
   "metadata": {},
   "source": [
    "2. `typ` especifica el tipo de suma de cuadrados (Sum of Squares) que se utiliza en el ANOVA. Hay tres tipos principales:\n",
    "    * `typ=1` (Suma de cuadrados tipo I): Este tipo calcula las sumas de cuadrados de acuerdo al orden en que las variables aparecen en el modelo. Se usa para modelos con diseño jerárquico o cuando el orden de las variables es importante. El principal inconveniente es que puede dar resultados engañosos si las variables están correlacionadas.\n",
    "    * `typ=2` (Suma de cuadrados tipo II): Este tipo ajusta cada variable ignorando la interacción entre las variables explicativas. Es adecuado para modelos balanceados (donde el tamaño de muestra es igual en cada grupo) y es más robusto cuando las variables no están correlacionadas.\n",
    "    * `typ=3` (Suma de cuadrados tipo III): Se usa para modelos no balanceados o cuando hay interacción entre las variables explicativas. Ajusta cada variable después de tener en cuenta todas las demás. Este tipo es adecuado cuando los factores están correlacionados."
   ]
  },
  {
   "cell_type": "code",
   "execution_count": 40,
   "metadata": {},
   "outputs": [
    {
     "name": "stdout",
     "output_type": "stream",
     "text": [
      "               sum_sq    df         F    PR(>F)\n",
      "Grupo      875.266667   2.0  7.428706  0.002688\n",
      "Residual  1590.600000  27.0       NaN       NaN\n"
     ]
    }
   ],
   "source": [
    "# Realizar el ANOVA de tipo II\n",
    "anova_resultado = sm.stats.anova_lm(modelo, typ=2)\n",
    "\n",
    "# Mostrar los resultados del ANOVA\n",
    "print(anova_resultado)"
   ]
  },
  {
   "cell_type": "markdown",
   "metadata": {},
   "source": [
    "En otras palabras, hay evidencia suficiente para afirmar que **existe una diferencia estadisticamente significativa en los score de satisfacción entre al menos uno de los grupos (A, B o C)**.\n",
    "\n",
    "Si queremos ver cuales son diferentes podemos aplicar una **prueba posthoc (como tukeyHSD)** para identificar específicamente qué grupos son significativamente diferentes entre sí."
   ]
  },
  {
   "cell_type": "code",
   "execution_count": 41,
   "metadata": {},
   "outputs": [
    {
     "name": "stdout",
     "output_type": "stream",
     "text": [
      " Multiple Comparison of Means - Tukey HSD, FWER=0.05 \n",
      "=====================================================\n",
      "group1 group2 meandiff p-adj   lower    upper  reject\n",
      "-----------------------------------------------------\n",
      "     A      B     -9.3 0.0301 -17.8107 -0.7893   True\n",
      "     A      C    -12.8 0.0025 -21.3107 -4.2893   True\n",
      "     B      C     -3.5 0.5711 -12.0107  5.0107  False\n",
      "-----------------------------------------------------\n"
     ]
    }
   ],
   "source": [
    "# Pruebas post hoc (Tukey HSD)\n",
    "tukey = pairwise_tukeyhsd(endog=data['Score'],\n",
    "                          groups=data['Grupo'],\n",
    "                          alpha=0.05)\n",
    "print(tukey)"
   ]
  },
  {
   "cell_type": "markdown",
   "metadata": {},
   "source": [
    "#### **KW para mas de 2 grupos no parametrica** \n",
    "\n",
    "El test de **Kruskal-Wallis** es una prueba estadística no paramétrica que se utiliza para determinar si existen diferencias significativas en la mediana entre tres o más grupos independientes. A diferencia de la **ANOVA**, que asume normalidad y homogeneidad de varianzas, el test de **Kruskal-Wallis** no requiere estas suposiciones. Es útil cuando los datos no cumplen con las condiciones necesarias para realizar una **ANOVA**.\n",
    "\n",
    "Aquí te muestro cómo puedes realizar el análisis de **Kruskal-Wallis** y las pruebas post-hoc en Python usando `scipy` y `statsmodels`.\n",
    "\n",
    "Para **Kruskal-Wallis**, usaremos el conjunto de datos **LendingClub (LC) Statistics**."
   ]
  },
  {
   "cell_type": "markdown",
   "metadata": {},
   "source": [
    "* Importemos los paquetes necesarios:"
   ]
  },
  {
   "cell_type": "code",
   "execution_count": 63,
   "metadata": {},
   "outputs": [],
   "source": [
    "import pandas as pd\n",
    "from scipy import stats\n",
    "from statsmodels.stats.multitest import multipletests\n",
    "from statsmodels.stats.diagnostic import lilliefors"
   ]
  },
  {
   "cell_type": "markdown",
   "metadata": {},
   "source": [
    "* Tomaremos las variables `annual_inc` y `verification_status`, para ver si hay diferencias entre los grupos de verificación de status por el ingreso anual."
   ]
  },
  {
   "cell_type": "code",
   "execution_count": 64,
   "metadata": {},
   "outputs": [
    {
     "data": {
      "text/html": [
       "<div>\n",
       "<style scoped>\n",
       "    .dataframe tbody tr th:only-of-type {\n",
       "        vertical-align: middle;\n",
       "    }\n",
       "\n",
       "    .dataframe tbody tr th {\n",
       "        vertical-align: top;\n",
       "    }\n",
       "\n",
       "    .dataframe thead th {\n",
       "        text-align: right;\n",
       "    }\n",
       "</style>\n",
       "<table border=\"1\" class=\"dataframe\">\n",
       "  <thead>\n",
       "    <tr style=\"text-align: right;\">\n",
       "      <th></th>\n",
       "      <th>annual_inc</th>\n",
       "      <th>verification_status</th>\n",
       "    </tr>\n",
       "  </thead>\n",
       "  <tbody>\n",
       "    <tr>\n",
       "      <th>0</th>\n",
       "      <td>24000.0</td>\n",
       "      <td>Verified</td>\n",
       "    </tr>\n",
       "    <tr>\n",
       "      <th>1</th>\n",
       "      <td>30000.0</td>\n",
       "      <td>Source Verified</td>\n",
       "    </tr>\n",
       "    <tr>\n",
       "      <th>2</th>\n",
       "      <td>12252.0</td>\n",
       "      <td>Not Verified</td>\n",
       "    </tr>\n",
       "    <tr>\n",
       "      <th>3</th>\n",
       "      <td>49200.0</td>\n",
       "      <td>Source Verified</td>\n",
       "    </tr>\n",
       "    <tr>\n",
       "      <th>4</th>\n",
       "      <td>80000.0</td>\n",
       "      <td>Source Verified</td>\n",
       "    </tr>\n",
       "  </tbody>\n",
       "</table>\n",
       "</div>"
      ],
      "text/plain": [
       "   annual_inc verification_status\n",
       "0     24000.0            Verified\n",
       "1     30000.0     Source Verified\n",
       "2     12252.0        Not Verified\n",
       "3     49200.0     Source Verified\n",
       "4     80000.0     Source Verified"
      ]
     },
     "execution_count": 64,
     "metadata": {},
     "output_type": "execute_result"
    }
   ],
   "source": [
    "# Subconjunto de datos\n",
    "df_status = df[['annual_inc','verification_status']]\n",
    "\n",
    "# imprimir las 5 primeras filas\n",
    "df_status.head()"
   ]
  },
  {
   "cell_type": "markdown",
   "metadata": {},
   "source": [
    "* Hagamos un diagrama de cajas y bigotes"
   ]
  },
  {
   "cell_type": "code",
   "execution_count": 65,
   "metadata": {},
   "outputs": [
    {
     "data": {
      "image/png": "[encoded data removed]",
      "text/plain": [
       "<Figure size 1000x600 with 1 Axes>"
      ]
     },
     "metadata": {},
     "output_type": "display_data"
    }
   ],
   "source": [
    "# Crear un diagrama de cajas y bigotes para 'Q1' vs 'Experimento' usando Seaborn en el contexto de rotación de la banca\n",
    "plt.figure(figsize=(10, 6))  # Ajustar el tamaño del gráfico\n",
    "\n",
    "sns.boxplot(x='verification_status', y='annual_inc', data=df_status)\n",
    "\n",
    "# Agregar título y etiquetas\n",
    "plt.title('Diagrama de Cajas y Bigotes: ingresos anuales según el status')\n",
    "plt.xlabel('Verificación de status')\n",
    "plt.ylabel('Ingresos anuales')\n",
    "\n",
    "# Mostrar el gráfico\n",
    "plt.grid(True)\n",
    "plt.show()"
   ]
  },
  {
   "cell_type": "markdown",
   "metadata": {},
   "source": [
    "* Veamos el comportamiento de los datos por status"
   ]
  },
  {
   "cell_type": "code",
   "execution_count": 66,
   "metadata": {},
   "outputs": [
    {
     "name": "stdout",
     "output_type": "stream",
     "text": [
      "               Prueba            Grupo  Estadístico        p-valor\n",
      "0        Shapiro-Wilk     Not Verified     0.373742   0.000000e+00\n",
      "1        Shapiro-Wilk  Source Verified     0.296574   0.000000e+00\n",
      "2        Shapiro-Wilk         Verified     0.725082   0.000000e+00\n",
      "3  Kolmogorov-Smirnov     Not Verified     0.208876   0.000000e+00\n",
      "4  Kolmogorov-Smirnov  Source Verified     0.252673   0.000000e+00\n",
      "5  Kolmogorov-Smirnov         Verified     0.135945  3.970921e-200\n",
      "6          lilliefors     Not Verified     0.208876   1.000000e-03\n",
      "7          lilliefors  Source Verified     0.252673   1.000000e-03\n",
      "8          lilliefors         Verified     0.135945   1.000000e-03\n"
     ]
    },
    {
     "name": "stderr",
     "output_type": "stream",
     "text": [
      "c:\\Users\\cdeor\\miniconda3\\envs\\ml_venv\\lib\\site-packages\\scipy\\stats\\_morestats.py:1882: UserWarning: p-value may not be accurate for N > 5000.\n",
      "  warnings.warn(\"p-value may not be accurate for N > 5000.\")\n"
     ]
    }
   ],
   "source": [
    "# Separar los datos por grupo\n",
    "grupo_no_ver = df_status[df_status['verification_status'] == 'Not Verified']['annual_inc']\n",
    "grupo_s_ver = df_status[df_status['verification_status'] == 'Source Verified']['annual_inc']\n",
    "grupo_ver = df_status[df_status['verification_status'] == 'Verified']['annual_inc']\n",
    "\n",
    "# Prueba de Shapiro-Wilk\n",
    "shapiro_grupo_no_ver = stats.shapiro(grupo_no_ver)\n",
    "shapiro_grupo_s_ver = stats.shapiro(grupo_s_ver)\n",
    "shapiro_grupo_ver = stats.shapiro(grupo_ver)\n",
    "\n",
    "# Prueba de Kolmogorov-Smirnov (usando una aproximación con stats.kstest)\n",
    "ks_grupo_no_ver = stats.kstest(grupo_no_ver, 'norm', args=(grupo_no_ver.mean(), grupo_no_ver.std()))\n",
    "ks_grupo_s_ver = stats.kstest(grupo_s_ver, 'norm', args=(grupo_s_ver.mean(), grupo_s_ver.std()))\n",
    "ks_grupo_ver = stats.kstest(grupo_ver, 'norm', args=(grupo_ver.mean(), grupo_ver.std()))\n",
    "\n",
    "# Prueba de Lilliefors (similar al KS test pero ajustado para normalidad)\n",
    "lillie_grupo_no_ver = lilliefors(grupo_no_ver, dist='norm')\n",
    "lillie_grupo_s_ver = lilliefors(grupo_s_ver, dist='norm')\n",
    "lillie_grupo_ver = lilliefors(grupo_ver, dist='norm')\n",
    "\n",
    "# Mostrar resultados de normalidad\n",
    "normalidad_resultados_status = {\n",
    "    'Prueba': ['Shapiro-Wilk', 'Shapiro-Wilk', 'Shapiro-Wilk', \n",
    "               'Kolmogorov-Smirnov', 'Kolmogorov-Smirnov', 'Kolmogorov-Smirnov',\n",
    "               'lilliefors','lilliefors','lilliefors'],\n",
    "    'Grupo': ['Not Verified', 'Source Verified', 'Verified', \n",
    "              'Not Verified', 'Source Verified', 'Verified',\n",
    "              'Not Verified', 'Source Verified', 'Verified'],\n",
    "    'Estadístico': [shapiro_grupo_no_ver.statistic, shapiro_grupo_s_ver.statistic, shapiro_grupo_ver.statistic,\n",
    "                    ks_grupo_no_ver.statistic, ks_grupo_s_ver.statistic, ks_grupo_ver.statistic,\n",
    "                    lillie_grupo_no_ver[0],lillie_grupo_s_ver[0],lillie_grupo_ver[0]],\n",
    "    'p-valor': [shapiro_grupo_no_ver.pvalue, shapiro_grupo_s_ver.pvalue, shapiro_grupo_ver.pvalue,\n",
    "                ks_grupo_no_ver.pvalue, ks_grupo_s_ver.pvalue, ks_grupo_ver.pvalue,\n",
    "                lillie_grupo_no_ver[1],lillie_grupo_s_ver[1],lillie_grupo_ver[1]]\n",
    "}\n",
    "\n",
    "# Convertir a DataFrame para visualizar\n",
    "normalidad_df_status = pd.DataFrame(normalidad_resultados_status)\n",
    "print(normalidad_df_status)"
   ]
  },
  {
   "cell_type": "markdown",
   "metadata": {},
   "source": [
    "* Veamos la igualdad de varianzas usando la prueba de levene"
   ]
  },
  {
   "cell_type": "code",
   "execution_count": 68,
   "metadata": {},
   "outputs": [
    {
     "data": {
      "text/html": [
       "<div>\n",
       "<style scoped>\n",
       "    .dataframe tbody tr th:only-of-type {\n",
       "        vertical-align: middle;\n",
       "    }\n",
       "\n",
       "    .dataframe tbody tr th {\n",
       "        vertical-align: top;\n",
       "    }\n",
       "\n",
       "    .dataframe thead th {\n",
       "        text-align: right;\n",
       "    }\n",
       "</style>\n",
       "<table border=\"1\" class=\"dataframe\">\n",
       "  <thead>\n",
       "    <tr style=\"text-align: right;\">\n",
       "      <th></th>\n",
       "      <th>Prueba</th>\n",
       "      <th>Estadístico</th>\n",
       "      <th>p-valor</th>\n",
       "    </tr>\n",
       "  </thead>\n",
       "  <tbody>\n",
       "    <tr>\n",
       "      <th>0</th>\n",
       "      <td>levene</td>\n",
       "      <td>71.150392</td>\n",
       "      <td>1.433660e-31</td>\n",
       "    </tr>\n",
       "  </tbody>\n",
       "</table>\n",
       "</div>"
      ],
      "text/plain": [
       "   Prueba  Estadístico       p-valor\n",
       "0  levene    71.150392  1.433660e-31"
      ]
     },
     "execution_count": 68,
     "metadata": {},
     "output_type": "execute_result"
    }
   ],
   "source": [
    "# Prueba de Levene para igualdad de varianzas\n",
    "levene_result = stats.levene(grupo_no_ver, grupo_s_ver, grupo_ver, center='median')\n",
    "\n",
    "# Mostrar resultados de la prueba de Levene\n",
    "igualdad_varianzas_levene_resultados = {\n",
    "    'Prueba': ['levene'],\n",
    "    'Estadístico': [levene_result.statistic],\n",
    "    'p-valor': [levene_result.pvalue]\n",
    "}\n",
    "\n",
    "# Convertir a DataFrame para visualizar\n",
    "igualdad_varianzas_levene_df = pd.DataFrame(igualdad_varianzas_levene_resultados)\n",
    "igualdad_varianzas_levene_df"
   ]
  },
  {
   "cell_type": "markdown",
   "metadata": {},
   "source": [
    "* Apliquemos la prueba de Kruskal-Wallis:"
   ]
  },
  {
   "cell_type": "code",
   "execution_count": 71,
   "metadata": {},
   "outputs": [
    {
     "data": {
      "text/html": [
       "<div>\n",
       "<style scoped>\n",
       "    .dataframe tbody tr th:only-of-type {\n",
       "        vertical-align: middle;\n",
       "    }\n",
       "\n",
       "    .dataframe tbody tr th {\n",
       "        vertical-align: top;\n",
       "    }\n",
       "\n",
       "    .dataframe thead th {\n",
       "        text-align: right;\n",
       "    }\n",
       "</style>\n",
       "<table border=\"1\" class=\"dataframe\">\n",
       "  <thead>\n",
       "    <tr style=\"text-align: right;\">\n",
       "      <th></th>\n",
       "      <th>Prueba</th>\n",
       "      <th>Estadístico</th>\n",
       "      <th>p-valor</th>\n",
       "    </tr>\n",
       "  </thead>\n",
       "  <tbody>\n",
       "    <tr>\n",
       "      <th>0</th>\n",
       "      <td>Kruskal-Wallis</td>\n",
       "      <td>2064.329137</td>\n",
       "      <td>0.0</td>\n",
       "    </tr>\n",
       "  </tbody>\n",
       "</table>\n",
       "</div>"
      ],
      "text/plain": [
       "           Prueba  Estadístico  p-valor\n",
       "0  Kruskal-Wallis  2064.329137      0.0"
      ]
     },
     "execution_count": 71,
     "metadata": {},
     "output_type": "execute_result"
    }
   ],
   "source": [
    "# Realizar la prueba de Kruskal-Wallis\n",
    "kruskal_result = stats.kruskal(grupo_no_ver, grupo_s_ver, grupo_ver)\n",
    "\n",
    "# Mostrar resultados de la prueba de kruskal-wallis\n",
    "kw_resultados = {\n",
    "    'Prueba': ['Kruskal-Wallis'],\n",
    "    'Estadístico': [kruskal_result.statistic],\n",
    "    'p-valor': [kruskal_result.pvalue]\n",
    "}\n",
    "\n",
    "# Convertir a DataFrame para visualizar\n",
    "kw_df = pd.DataFrame(kw_resultados)\n",
    "kw_df"
   ]
  },
  {
   "cell_type": "markdown",
   "metadata": {},
   "source": [
    "El p-valor extremadamente bajo (0.0) indica que hay diferencias estadísticamente significativas en los ingresos anuales entre los diferentes niveles del estatus de verificación (`Verified`, `Source Verified`, `Not Verified`). Es decir, al menos uno de estos grupos tiene una mediana de ingresos significativamente diferente de las demás."
   ]
  },
  {
   "cell_type": "markdown",
   "metadata": {},
   "source": [
    "* Dado que la prueba de Kruskal-Wallis indica diferencias significativas entre al menos uno de los grupos, se recomienda realizar una prueba post-hoc para identificar cuáles pares específicos de estatus de verificación tienen diferencias significativas en los ingresos anuales. Aplicaremos la prueba de Dunn, pero debemos instalar el paquete `pip install scikit-posthocs`."
   ]
  },
  {
   "cell_type": "code",
   "execution_count": 78,
   "metadata": {},
   "outputs": [
    {
     "data": {
      "text/html": [
       "<div>\n",
       "<style scoped>\n",
       "    .dataframe tbody tr th:only-of-type {\n",
       "        vertical-align: middle;\n",
       "    }\n",
       "\n",
       "    .dataframe tbody tr th {\n",
       "        vertical-align: top;\n",
       "    }\n",
       "\n",
       "    .dataframe thead th {\n",
       "        text-align: right;\n",
       "    }\n",
       "</style>\n",
       "<table border=\"1\" class=\"dataframe\">\n",
       "  <thead>\n",
       "    <tr style=\"text-align: right;\">\n",
       "      <th></th>\n",
       "      <th>Not Verified</th>\n",
       "      <th>Source Verified</th>\n",
       "      <th>Verified</th>\n",
       "    </tr>\n",
       "  </thead>\n",
       "  <tbody>\n",
       "    <tr>\n",
       "      <th>Not Verified</th>\n",
       "      <td>1.000000e+00</td>\n",
       "      <td>1.755547e-22</td>\n",
       "      <td>0.000000e+00</td>\n",
       "    </tr>\n",
       "    <tr>\n",
       "      <th>Source Verified</th>\n",
       "      <td>1.755547e-22</td>\n",
       "      <td>1.000000e+00</td>\n",
       "      <td>6.075867e-198</td>\n",
       "    </tr>\n",
       "    <tr>\n",
       "      <th>Verified</th>\n",
       "      <td>0.000000e+00</td>\n",
       "      <td>6.075867e-198</td>\n",
       "      <td>1.000000e+00</td>\n",
       "    </tr>\n",
       "  </tbody>\n",
       "</table>\n",
       "</div>"
      ],
      "text/plain": [
       "                 Not Verified  Source Verified       Verified\n",
       "Not Verified     1.000000e+00     1.755547e-22   0.000000e+00\n",
       "Source Verified  1.755547e-22     1.000000e+00  6.075867e-198\n",
       "Verified         0.000000e+00    6.075867e-198   1.000000e+00"
      ]
     },
     "execution_count": 78,
     "metadata": {},
     "output_type": "execute_result"
    }
   ],
   "source": [
    "# Importar el paquete \n",
    "import scikit_posthocs as sp\n",
    "\n",
    "# Aplicar la prueba de Dunn\n",
    "dunn_result = sp.posthoc_dunn(df_status, val_col='annual_inc', group_col='verification_status')\n",
    "\n",
    "# Convertir el resultado a un DataFrame para mejor visualización\n",
    "dunn_df = pd.DataFrame(dunn_result)\n",
    "dunn_df"
   ]
  },
  {
   "cell_type": "markdown",
   "metadata": {},
   "source": [
    "Los resultados post-hoc de Dunn confirman que hay diferencias significativas en los ingresos anuales entre cada par de estatus de verificación."
   ]
  },
  {
   "cell_type": "markdown",
   "metadata": {},
   "source": [
    "## **Machine learning no supervisado**\n",
    "\n",
    "En esta analizaremos los **algoritmos de aprendizaje no supervisado**. En el aprendizaje no supervisado, al algoritmo de aprendizaje sólo se le muestran los datos de entrada y se le pide que extraiga el conocimiento de estos datos.\n",
    "\n",
    "También, el aprendizaje no supervisado es una clase de técnicas de aprendizaje automático para descubrir patrones en los datos. Por ejemplo, encontrar los \"clusters\" naturales de los clientes basándose en sus historiales de compra, o buscar patrones y correlaciones entre estas compras, y utilizar estos patrones para expresar los datos de forma comprimida. Estos son ejemplos de técnicas de aprendizaje no supervisado denominadas \"clustering\" y \"reducción de dimensiones\". \n",
    "\n",
    "El aprendizaje no supervisado se define en oposición al aprendizaje supervisado. Un ejemplo de aprendizaje supervisado es utilizar las mediciones de los tumores para clasificarlos como benignos o cancerosos. En este caso, el descubrimiento de patrones está guiado, o \"supervisado\", para que los patrones sean lo más útiles posible para predecir la etiqueta: benigno o canceroso. El aprendizaje no supervisado, en cambio, es un aprendizaje sin etiquetas. Es puro descubrimiento de patrones, sin estar guiado por una tarea de predicción. \n",
    "\n",
    "Para hacer usado de las funciones de **análisis de componentes principales**, **cluster**, entre otras; debemos instalar el paquete `sklearn`."
   ]
  },
  {
   "cell_type": "markdown",
   "metadata": {},
   "source": [
    "### Tipos de aprendizaje no supervisado\n",
    "\n",
    "Los tipos de aprendizaje no supervisado son:\n",
    "\n",
    "- Las `transformaciones no supervisadas` de un conjunto de datos son algoritmos que crean una nueva representación de los datos que podría ser más fácil de entender para los humanos u otros algoritmos de aprendizaje automático en comparación con la representación original de los datos. Una aplicación común de las `transformaciones no supervisadas` es la `reducción de la dimensionalidad`, que toma una representación de alta dimensión de los datos, que consiste en muchas características, y encuentra una nueva forma de representar estos datos que resuma las características esenciales con menos características. Una aplicación común de la reducción de la dimensionalidad es la reducción a dos dimensiones con fines de visualización.\n",
    "\n",
    "- Los `algoritmos de clustering`, por su parte, dividen los datos en distintos grupos de elementos similares. Consideremos el ejemplo de subir fotos a una red social. Para permitirle organizar sus fotos, el sitio podría querer agrupar las fotos que muestran la misma persona. Sin embargo, el sitio no sabe qué fotos muestran a quién, y no sabe cuántas personas diferentes aparecen en tu colección de fotos. Un enfoque sensato sería extraer todas las caras y dividirlas en grupos de caras que se parezcan. Con suerte, estos corresponden a la misma persona, y las imágenes pueden ser agrupar las imágenes."
   ]
  },
  {
   "cell_type": "markdown",
   "metadata": {},
   "source": [
    "### **Desafíos del aprendizaje no supervisado**\n",
    "\n",
    "- Un reto importante en el aprendizaje no supervisado es evaluar si el algoritmo aprendió algo útil. \n",
    "\n",
    "- Los algoritmos de aprendizaje no supervisado suelen aplicarse a datos que no contienen ninguna información de etiquetas, por lo que no sabemos cuál debería ser la salida correcta. Por lo tanto, es muy difícil decir si un modelo `lo hizo bien`. Por ejemplo, nuestro hipotético algoritmo de agrupación podría haber agrupado todas las fotos que muestran caras de perfil y todas las fotos de caras completas. Esta sería, sin duda, una forma posible de dividir una colección de imágenes de rostros de personas, pero no es la que buscábamos. Sin embargo, no hay forma de `decirle` al algoritmo lo que estamos buscando, y a menudo la única forma de evaluar el resultado de un algoritmo no supervisado es inspeccionarlo manualmente.\n",
    "\n",
    "- Los algoritmos no supervisados se **utilizan a menudo en un entorno exploratorio, cuando un científico de datos quiere entender mejor los datos, más que como parte de un sistema automático más amplio**. \n",
    "\n",
    "- Otra aplicación habitual de los algoritmos no supervisados es como paso previo al procesamiento de los algoritmos supervisados. El aprendizaje de una nueva representación de los datos puede a veces mejorar la precisión de los algoritmos supervisados, o puede conducir a un menor consumo de memoria y tiempo.\n",
    "\n",
    "Antes de comenzar con los algoritmos \"reales\" no supervisados, discutiremos brevemente algunos métodos simples de preprocesamiento que a menudo resultan útiles. Aunque el preprocesamiento y el escalado se utilizan a menudo junto con los algoritmos de aprendizaje supervisado, los métodos de escalado no hacen uso de la información supervisada, lo que los convierte en no supervisados."
   ]
  },
  {
   "cell_type": "markdown",
   "metadata": {},
   "source": [
    "### **Preprocesamiento y escalado**\n",
    "\n",
    "El **preprocesamiento y escalado** son pasos esenciales en la preparación de los datos para el análisis y modelado en machine learning. El preprocesamiento incluye tareas como la limpieza de datos, manejo de valores faltantes, codificación de variables categóricas y normalización de características. Estas actividades aseguran que los datos sean consistentes y estén en un formato adecuado para ser utilizados en modelos predictivos. El escalado, por su parte, ajusta la magnitud de las características numéricas, ya sea normalizándolas en un rango específico o estandarizándolas con una media de 0 y desviación estándar de 1, lo que mejora el rendimiento de muchos algoritmos."
   ]
  },
  {
   "cell_type": "markdown",
   "metadata": {},
   "source": [
    "Podemos encontrar distintos de tipo de reescaladores:\n",
    "\n",
    "- El `StandardScaler` en scikit-learn asegura que para cada la media es 0 y la varianza es 1, lo que hace que todas las características tengan la misma magnitud. Sin embargo, este escalado no asegura ningún valor mínimo y máximo en particular para las características. \n",
    "$$\n",
    "Z = \\frac{X-\\mu}{\\sigma}\n",
    "$$\n",
    "\n",
    "- El `RobustScaler` funciona de forma similar al `StandardScaler` en que asegura propiedades estadísticas para cada característica que garantizan que están en la misma escala. Sin embargo, el `RobustScaler` utiliza la mediana y los cuartiles, en lugar de la media y varianza. Esto hace que el `RobustScaler` ignore los puntos de datos que son muy diferentes del resto (como los errores de medición). Estos puntos de datos extraños también se llamados `outliers`, y pueden dar problemas a otras técnicas de escalado.\n",
    "$$\n",
    "X_{robustScaler}= \\frac{X- x_{Q_{2}}}{x_{Q_3}-x_{Q_1}}\n",
    "$$\n",
    "\n",
    "- El `MinMaxScaler`, por otro lado, desplaza los datos de manera que todas las características estén exactamente entre 0 y 1. Para el conjunto de datos bidimensional esto significa que todos los datos están contenidos dentro del rectángulo creado por el eje $x$ entre 0 y 1 y el eje $y$ entre 0 y 1.\n",
    "$$\n",
    "X_{MinMaxScaler}= \\frac{X- x_{min}}{x_{max}-X_{min}}\n",
    "$$\n",
    "\n",
    "- El `Normalizer` realiza un tipo de reescalado muy diferente. Escala cada punto de datos de manera que el vector de características tenga una longitud euclidiana de 1. En otras palabras, proyecta un punto de datos en el círculo (o esfera, en el caso de las dimensiones superiores) con un radio de 1. Esto significa que cada punto de datos se puede radio de 1. Esto significa que cada punto de datos está escalado por un número diferente (por la inversa de su longitud). Esta normalización se utiliza a menudo cuando sólo importa la dirección (o ángulo) de los datos, y no la longitud del vector de características. Estas son las normas que se usan\n",
    "$$ \n",
    "\\begin{align*}\n",
    "||x||_1 &= |x_1|+\\cdots+|x_n|\\\\\n",
    "||x||_2 &= \\sqrt{x_1^2+\\cdots+x_n^2}\\\\\n",
    "||x||_{\\infty} &= \\max\\{|x_1|,...,|x_n|\\}\n",
    "\\end{align*}\n",
    "$$"
   ]
  },
  {
   "cell_type": "code",
   "execution_count": 81,
   "metadata": {},
   "outputs": [
    {
     "data": {
      "image/png": "[encoded data removed]",
      "text/plain": [
       "<Figure size 1500x800 with 5 Axes>"
      ]
     },
     "metadata": {},
     "output_type": "display_data"
    }
   ],
   "source": [
    "import matplotlib.pyplot as plt\n",
    "import numpy as np\n",
    "from sklearn.datasets import make_blobs\n",
    "from sklearn.preprocessing import (StandardScaler, MinMaxScaler, Normalizer,\n",
    "                                   RobustScaler)\n",
    "\n",
    "# Definir un mapa de colores usando 'viridis' como ejemplo\n",
    "cm2 = plt.get_cmap('viridis')\n",
    "\n",
    "def plot_scaling():\n",
    "    # Generar datos\n",
    "    X, y = make_blobs(n_samples=50, centers=2, random_state=4, cluster_std=1)\n",
    "    X += 3\n",
    "\n",
    "    # Crear la figura principal\n",
    "    plt.figure(figsize=(15, 8))\n",
    "    main_ax = plt.subplot2grid((2, 4), (0, 0), rowspan=2, colspan=2)\n",
    "\n",
    "    # Gráfico de los datos originales\n",
    "    main_ax.scatter(X[:, 0], X[:, 1], c=y, cmap=cm2, s=60)\n",
    "    maxx = np.abs(X[:, 0]).max()\n",
    "    maxy = np.abs(X[:, 1]).max()\n",
    "\n",
    "    main_ax.set_xlim(-maxx + 1, maxx + 1)\n",
    "    main_ax.set_ylim(-maxy + 1, maxy + 1)\n",
    "    main_ax.set_title(\"Original Data\")\n",
    "\n",
    "    # Crear otros gráficos para mostrar los datos escalados\n",
    "    other_axes = [plt.subplot2grid((2, 4), (i, j))\n",
    "                  for j in range(2, 4) for i in range(2)]\n",
    "\n",
    "    # Aplicar diferentes técnicas de escalado\n",
    "    for ax, scaler in zip(other_axes, [StandardScaler(), RobustScaler(),\n",
    "                                       MinMaxScaler(), Normalizer(norm='l2')]):\n",
    "        X_ = scaler.fit_transform(X)\n",
    "        ax.scatter(X_[:, 0], X_[:, 1], c=y, cmap=cm2, s=60)\n",
    "        ax.set_xlim(-2, 2)\n",
    "        ax.set_ylim(-2, 2)\n",
    "        ax.set_title(type(scaler).__name__)\n",
    "\n",
    "    other_axes.append(main_ax)\n",
    "\n",
    "    # Ajustar las espinas de los gráficos\n",
    "    for ax in other_axes:\n",
    "        ax.spines['left'].set_position('center')\n",
    "        ax.spines['right'].set_color('none')\n",
    "        ax.spines['bottom'].set_position('center')\n",
    "        ax.spines['top'].set_color('none')\n",
    "        ax.xaxis.set_ticks_position('bottom')\n",
    "        ax.yaxis.set_ticks_position('left')\n",
    "\n",
    "# Ejecutar la función\n",
    "plot_scaling()\n",
    "plt.show()\n"
   ]
  },
  {
   "cell_type": "markdown",
   "metadata": {},
   "source": [
    "### **Análisis de componentes principales (reducción de dimensiones)**\n",
    "\n",
    "La reducción de dimensiones resume un conjunto de datos utilizando sus patrones comunes. El `PCA` se utiliza a menudo antes del aprendizaje supervisado para mejorar el rendimiento y la generalización del modelo. También puede ser útil para el aprendizaje no supervisado. "
   ]
  },
  {
   "cell_type": "markdown",
   "metadata": {},
   "source": [
    "La reducción de dimensiones encuentra patrones en los datos y utiliza estos patrones para volver a expresarlos en forma comprimida. Esto hace que el cálculo posterior con los datos sea mucho más eficiente. Sin embargo, la función más importante de la reducción de dimensiones es reducir un conjunto de datos a su \"esqueleto básico\", descartando características ruidosas que causan grandes problemas para tareas de aprendizaje supervisado como la regresión y la clasificación. En muchas aplicaciones del mundo real, es la reducción de dimensiones lo que hace posible la predicción."
   ]
  },
  {
   "cell_type": "markdown",
   "metadata": {},
   "source": [
    "El **`análisis de componentes principales`**, abreviado **`PCA`**:\n",
    "- es un método de interdependencia para resumir la información contenida en las variables y facilitar su análisis.\n",
    "- El PCA transforma el conjunto de variables originales en un subconjunto más pequeño de variables, las cuales son combinaciones lineales de las primeras, que contienen mayor parte de la variabilidad presente en el conjunto inicial, donde la naturaleza de las variable es cuantitativa"
   ]
  },
  {
   "cell_type": "markdown",
   "metadata": {},
   "source": [
    ":::{admonition} **Observación**\n",
    ":class: warning\n",
    "\n",
    "El objetivo principal del PCA es descubrir la verdadera dimensionalidad del espacio en el que se encuentran los datos. En este proceso se pueden formar nuevas variables, de modo que:\n",
    "- No estén correlacionadas.\n",
    "- La primera componente principal explique tanto de la variabilidad en los datos como sea posible.\n",
    "- Cada componente subsiguiente tome en cuenta tanto de la variabilidad restante como sea posible.\n",
    "- En el caso de no correlación entre las variables originales, el ACP no tiene mucho que hacer, pues las componentes se corresponderían con cada variable por orden de magnitud en la varianza.\n",
    "- Se presentará esta técnica como una herramienta exploratoria para facilitar la descripción e interpretación de los datos, es decir es una técnica descriptiva.\n",
    ":::"
   ]
  },
  {
   "cell_type": "markdown",
   "metadata": {},
   "source": [
    "Solo como ejemplo del PCA, trabajaremos con los datos de vinos: `winequality-red`. Inicialmente importemos los paquetes"
   ]
  },
  {
   "cell_type": "code",
   "execution_count": null,
   "metadata": {},
   "outputs": [],
   "source": [
    "# Importar los paquetes\n",
    "import pandas as pd\n",
    "import numpy as np\n",
    "from sklearn.preprocessing import StandardScaler\n",
    "import matplotlib.pyplot as plt\n",
    "from sklearn.decomposition import PCA"
   ]
  }
 ],
 "metadata": {
  "kernelspec": {
   "display_name": "ml_venv",
   "language": "python",
   "name": "python3"
  },
  "language_info": {
   "codemirror_mode": {
    "name": "ipython",
    "version": 3
   },
   "file_extension": ".py",
   "mimetype": "text/x-python",
   "name": "python",
   "nbconvert_exporter": "python",
   "pygments_lexer": "ipython3",
   "version": "3.9.19"
  }
 },
 "nbformat": 4,
 "nbformat_minor": 2
}
