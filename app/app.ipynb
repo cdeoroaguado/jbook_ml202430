{
 "cells": [
  {
   "cell_type": "code",
   "execution_count": 28,
   "metadata": {},
   "outputs": [],
   "source": [
    "#import streamlit as st\n",
    "import pandas as pd\n",
    "import plotly.graph_objects as go\n",
    "import streamlit as st\n",
    "\n",
    "\n",
    "# Cargar los datos\n",
    "file_path = 'C:/Users/cdeor/OneDrive/Documentos/PowerBI/Base_Financiero.xlsx'\n",
    "finances_df = pd.read_excel(file_path, sheet_name='Finanzas')"
   ]
  },
  {
   "cell_type": "code",
   "execution_count": 15,
   "metadata": {},
   "outputs": [
    {
     "data": {
      "text/plain": [
       "array(['Chase Bank', 'Bank Of America', 'Citigroup', 'Santander',\n",
       "       'BBVA Bancomer'], dtype=object)"
      ]
     },
     "execution_count": 15,
     "metadata": {},
     "output_type": "execute_result"
    }
   ],
   "source": [
    "finances_df['Banco'].unique()"
   ]
  },
  {
   "cell_type": "code",
   "execution_count": 29,
   "metadata": {},
   "outputs": [
    {
     "name": "stderr",
     "output_type": "stream",
     "text": [
      "2024-10-03 16:13:51.343 Thread 'MainThread': missing ScriptRunContext! This warning can be ignored when running in bare mode.\n",
      "2024-10-03 16:13:51.346 Thread 'MainThread': missing ScriptRunContext! This warning can be ignored when running in bare mode.\n",
      "2024-10-03 16:13:51.348 Thread 'MainThread': missing ScriptRunContext! This warning can be ignored when running in bare mode.\n",
      "2024-10-03 16:13:51.349 Thread 'MainThread': missing ScriptRunContext! This warning can be ignored when running in bare mode.\n",
      "2024-10-03 16:13:51.350 Thread 'MainThread': missing ScriptRunContext! This warning can be ignored when running in bare mode.\n"
     ]
    }
   ],
   "source": [
    "bancos_disponibles = finances_df['Banco'].unique()\n",
    "banco_seleccionado = st.sidebar.selectbox(\"Selecciona un banco\", bancos_disponibles)\n",
    "\n",
    "# Filtrar los datos según el banco seleccionado\n",
    "finances_filtrado = finances_df[finances_df['Banco'] == banco_seleccionado]"
   ]
  },
  {
   "cell_type": "code",
   "execution_count": 30,
   "metadata": {},
   "outputs": [
    {
     "name": "stderr",
     "output_type": "stream",
     "text": [
      "2024-10-03 16:13:53.309 Thread 'MainThread': missing ScriptRunContext! This warning can be ignored when running in bare mode.\n",
      "2024-10-03 16:13:53.313 Thread 'MainThread': missing ScriptRunContext! This warning can be ignored when running in bare mode.\n",
      "2024-10-03 16:13:53.319 Thread 'MainThread': missing ScriptRunContext! This warning can be ignored when running in bare mode.\n",
      "2024-10-03 16:13:53.323 Thread 'MainThread': missing ScriptRunContext! This warning can be ignored when running in bare mode.\n",
      "2024-10-03 16:13:53.324 Thread 'MainThread': missing ScriptRunContext! This warning can be ignored when running in bare mode.\n",
      "2024-10-03 16:13:53.326 Thread 'MainThread': missing ScriptRunContext! This warning can be ignored when running in bare mode.\n",
      "2024-10-03 16:13:53.329 Thread 'MainThread': missing ScriptRunContext! This warning can be ignored when running in bare mode.\n"
     ]
    },
    {
     "ename": "ValueError",
     "evalue": "('Lengths must match to compare', (2725,), (5,))",
     "output_type": "error",
     "traceback": [
      "\u001b[1;31m---------------------------------------------------------------------------\u001b[0m",
      "\u001b[1;31mValueError\u001b[0m                                Traceback (most recent call last)",
      "Cell \u001b[1;32mIn[30], line 7\u001b[0m\n\u001b[0;32m      4\u001b[0m banco_seleccionado \u001b[38;5;241m=\u001b[39m st\u001b[38;5;241m.\u001b[39msidebar\u001b[38;5;241m.\u001b[39mselectbox(\u001b[38;5;124m\"\u001b[39m\u001b[38;5;124mSelecciona un banco\u001b[39m\u001b[38;5;124m\"\u001b[39m, bancos_disponibles)\n\u001b[0;32m      6\u001b[0m \u001b[38;5;66;03m# Filtrar los datos según el banco seleccionado\u001b[39;00m\n\u001b[1;32m----> 7\u001b[0m finances_filtrado \u001b[38;5;241m=\u001b[39m finances_df[\u001b[43mfinances_df\u001b[49m\u001b[43m[\u001b[49m\u001b[38;5;124;43m'\u001b[39;49m\u001b[38;5;124;43mBanco\u001b[39;49m\u001b[38;5;124;43m'\u001b[39;49m\u001b[43m]\u001b[49m\u001b[43m \u001b[49m\u001b[38;5;241;43m==\u001b[39;49m\u001b[43m \u001b[49m\u001b[43mbancos_disponibles\u001b[49m]\n\u001b[0;32m      9\u001b[0m \u001b[38;5;66;03m# Títulos y encabezado principal\u001b[39;00m\n\u001b[0;32m     10\u001b[0m st\u001b[38;5;241m.\u001b[39mtitle(\u001b[38;5;124m\"\u001b[39m\u001b[38;5;124mDashboard Financiero\u001b[39m\u001b[38;5;124m\"\u001b[39m)\n",
      "File \u001b[1;32mc:\\Users\\cdeor\\miniconda3\\envs\\ml_venv\\lib\\site-packages\\pandas\\core\\ops\\common.py:76\u001b[0m, in \u001b[0;36m_unpack_zerodim_and_defer.<locals>.new_method\u001b[1;34m(self, other)\u001b[0m\n\u001b[0;32m     72\u001b[0m             \u001b[38;5;28;01mreturn\u001b[39;00m \u001b[38;5;28mNotImplemented\u001b[39m\n\u001b[0;32m     74\u001b[0m other \u001b[38;5;241m=\u001b[39m item_from_zerodim(other)\n\u001b[1;32m---> 76\u001b[0m \u001b[38;5;28;01mreturn\u001b[39;00m \u001b[43mmethod\u001b[49m\u001b[43m(\u001b[49m\u001b[38;5;28;43mself\u001b[39;49m\u001b[43m,\u001b[49m\u001b[43m \u001b[49m\u001b[43mother\u001b[49m\u001b[43m)\u001b[49m\n",
      "File \u001b[1;32mc:\\Users\\cdeor\\miniconda3\\envs\\ml_venv\\lib\\site-packages\\pandas\\core\\arraylike.py:40\u001b[0m, in \u001b[0;36mOpsMixin.__eq__\u001b[1;34m(self, other)\u001b[0m\n\u001b[0;32m     38\u001b[0m \u001b[38;5;129m@unpack_zerodim_and_defer\u001b[39m(\u001b[38;5;124m\"\u001b[39m\u001b[38;5;124m__eq__\u001b[39m\u001b[38;5;124m\"\u001b[39m)\n\u001b[0;32m     39\u001b[0m \u001b[38;5;28;01mdef\u001b[39;00m \u001b[38;5;21m__eq__\u001b[39m(\u001b[38;5;28mself\u001b[39m, other):\n\u001b[1;32m---> 40\u001b[0m     \u001b[38;5;28;01mreturn\u001b[39;00m \u001b[38;5;28;43mself\u001b[39;49m\u001b[38;5;241;43m.\u001b[39;49m\u001b[43m_cmp_method\u001b[49m\u001b[43m(\u001b[49m\u001b[43mother\u001b[49m\u001b[43m,\u001b[49m\u001b[43m \u001b[49m\u001b[43moperator\u001b[49m\u001b[38;5;241;43m.\u001b[39;49m\u001b[43meq\u001b[49m\u001b[43m)\u001b[49m\n",
      "File \u001b[1;32mc:\\Users\\cdeor\\miniconda3\\envs\\ml_venv\\lib\\site-packages\\pandas\\core\\series.py:5804\u001b[0m, in \u001b[0;36mSeries._cmp_method\u001b[1;34m(self, other, op)\u001b[0m\n\u001b[0;32m   5801\u001b[0m lvalues \u001b[38;5;241m=\u001b[39m \u001b[38;5;28mself\u001b[39m\u001b[38;5;241m.\u001b[39m_values\n\u001b[0;32m   5802\u001b[0m rvalues \u001b[38;5;241m=\u001b[39m extract_array(other, extract_numpy\u001b[38;5;241m=\u001b[39m\u001b[38;5;28;01mTrue\u001b[39;00m, extract_range\u001b[38;5;241m=\u001b[39m\u001b[38;5;28;01mTrue\u001b[39;00m)\n\u001b[1;32m-> 5804\u001b[0m res_values \u001b[38;5;241m=\u001b[39m \u001b[43mops\u001b[49m\u001b[38;5;241;43m.\u001b[39;49m\u001b[43mcomparison_op\u001b[49m\u001b[43m(\u001b[49m\u001b[43mlvalues\u001b[49m\u001b[43m,\u001b[49m\u001b[43m \u001b[49m\u001b[43mrvalues\u001b[49m\u001b[43m,\u001b[49m\u001b[43m \u001b[49m\u001b[43mop\u001b[49m\u001b[43m)\u001b[49m\n\u001b[0;32m   5806\u001b[0m \u001b[38;5;28;01mreturn\u001b[39;00m \u001b[38;5;28mself\u001b[39m\u001b[38;5;241m.\u001b[39m_construct_result(res_values, name\u001b[38;5;241m=\u001b[39mres_name)\n",
      "File \u001b[1;32mc:\\Users\\cdeor\\miniconda3\\envs\\ml_venv\\lib\\site-packages\\pandas\\core\\ops\\array_ops.py:323\u001b[0m, in \u001b[0;36mcomparison_op\u001b[1;34m(left, right, op)\u001b[0m\n\u001b[0;32m    318\u001b[0m \u001b[38;5;28;01mif\u001b[39;00m \u001b[38;5;28misinstance\u001b[39m(rvalues, (np\u001b[38;5;241m.\u001b[39mndarray, ABCExtensionArray)):\n\u001b[0;32m    319\u001b[0m     \u001b[38;5;66;03m# TODO: make this treatment consistent across ops and classes.\u001b[39;00m\n\u001b[0;32m    320\u001b[0m     \u001b[38;5;66;03m#  We are not catching all listlikes here (e.g. frozenset, tuple)\u001b[39;00m\n\u001b[0;32m    321\u001b[0m     \u001b[38;5;66;03m#  The ambiguous case is object-dtype.  See GH#27803\u001b[39;00m\n\u001b[0;32m    322\u001b[0m     \u001b[38;5;28;01mif\u001b[39;00m \u001b[38;5;28mlen\u001b[39m(lvalues) \u001b[38;5;241m!=\u001b[39m \u001b[38;5;28mlen\u001b[39m(rvalues):\n\u001b[1;32m--> 323\u001b[0m         \u001b[38;5;28;01mraise\u001b[39;00m \u001b[38;5;167;01mValueError\u001b[39;00m(\n\u001b[0;32m    324\u001b[0m             \u001b[38;5;124m\"\u001b[39m\u001b[38;5;124mLengths must match to compare\u001b[39m\u001b[38;5;124m\"\u001b[39m, lvalues\u001b[38;5;241m.\u001b[39mshape, rvalues\u001b[38;5;241m.\u001b[39mshape\n\u001b[0;32m    325\u001b[0m         )\n\u001b[0;32m    327\u001b[0m \u001b[38;5;28;01mif\u001b[39;00m should_extension_dispatch(lvalues, rvalues) \u001b[38;5;129;01mor\u001b[39;00m (\n\u001b[0;32m    328\u001b[0m     (\u001b[38;5;28misinstance\u001b[39m(rvalues, (Timedelta, BaseOffset, Timestamp)) \u001b[38;5;129;01mor\u001b[39;00m right \u001b[38;5;129;01mis\u001b[39;00m NaT)\n\u001b[0;32m    329\u001b[0m     \u001b[38;5;129;01mand\u001b[39;00m lvalues\u001b[38;5;241m.\u001b[39mdtype \u001b[38;5;241m!=\u001b[39m \u001b[38;5;28mobject\u001b[39m\n\u001b[0;32m    330\u001b[0m ):\n\u001b[0;32m    331\u001b[0m     \u001b[38;5;66;03m# Call the method on lvalues\u001b[39;00m\n\u001b[0;32m    332\u001b[0m     res_values \u001b[38;5;241m=\u001b[39m op(lvalues, rvalues)\n",
      "\u001b[1;31mValueError\u001b[0m: ('Lengths must match to compare', (2725,), (5,))"
     ]
    }
   ],
   "source": [
    "# Sidebar para el filtro de bancos\n",
    "st.sidebar.header(\"Filtro de Bancos\")\n",
    "bancos_disponibles = finances_df['Banco'].unique()\n",
    "banco_seleccionado = st.sidebar.selectbox(\"Selecciona un banco\", bancos_disponibles)\n",
    "\n",
    "# Filtrar los datos según el banco seleccionado\n",
    "finances_filtrado = finances_df[finances_df['Banco'] == bancos_disponibles]\n",
    "\n",
    "# Títulos y encabezado principal\n",
    "st.title(\"Dashboard Financiero\")\n",
    "st.write(f\"Visualización de movimientos financieros para {banco_seleccionado}\")\n",
    "\n",
    "# Calcular los totales basados en el filtro\n",
    "total_recibido = finances_filtrado[finances_filtrado['Tipo'] == 'Recibido']['Valor de movimiento'].sum()\n",
    "total_hecho = -finances_filtrado[finances_filtrado['Tipo'] == 'Pagado']['Valor de movimiento'].sum()\n",
    "impuesto = total_recibido * 0.15  # Suponiendo un 15% de impuestos\n",
    "utilidad = total_recibido - total_hecho - impuesto\n",
    "\n",
    "# Mostrar los totales en formato de tarjetas con un tamaño de texto más pequeño\n",
    "col1, col2, col3, col4 = st.columns(4)\n",
    "\n",
    "with col1:\n",
    "    st.markdown(f\"<h5 style='font-size:14px;'>Pagos Recibidos</h5><h3 style='font-size:20px;'>${total_recibido:,.2f}</h3>\", unsafe_allow_html=True)\n",
    "with col2:\n",
    "    st.markdown(f\"<h5 style='font-size:14px;'>Pagos Hechos</h5><h3 style='font-size:20px;'>${total_hecho:,.2f}</h3>\", unsafe_allow_html=True)\n",
    "with col3:\n",
    "    st.markdown(f\"<h5 style='font-size:14px;'>Impuesto</h5><h3 style='font-size:20px;'>${impuesto:,.2f}</h3>\", unsafe_allow_html=True)\n",
    "with col4:\n",
    "    st.markdown(f\"<h5 style='font-size:14px;'>Utilidad</h5><h3 style='font-size:20px;'>${utilidad:,.2f}</h3>\", unsafe_allow_html=True)\n",
    "\n",
    "#"
   ]
  },
  {
   "cell_type": "code",
   "execution_count": 50,
   "metadata": {},
   "outputs": [
    {
     "data": {
      "text/html": [
       "<div>\n",
       "<style scoped>\n",
       "    .dataframe tbody tr th:only-of-type {\n",
       "        vertical-align: middle;\n",
       "    }\n",
       "\n",
       "    .dataframe tbody tr th {\n",
       "        vertical-align: top;\n",
       "    }\n",
       "\n",
       "    .dataframe thead th {\n",
       "        text-align: right;\n",
       "    }\n",
       "</style>\n",
       "<table border=\"1\" class=\"dataframe\">\n",
       "  <thead>\n",
       "    <tr style=\"text-align: right;\">\n",
       "      <th></th>\n",
       "      <th>Número Movimiento</th>\n",
       "      <th>Nombre</th>\n",
       "      <th>Ciudad</th>\n",
       "      <th>Fecha de movimiento</th>\n",
       "      <th>Valor de movimiento</th>\n",
       "      <th>Tipo</th>\n",
       "      <th>Banco</th>\n",
       "      <th>Imagen</th>\n",
       "      <th>Forma de pago</th>\n",
       "      <th>Mes</th>\n",
       "    </tr>\n",
       "  </thead>\n",
       "  <tbody>\n",
       "    <tr>\n",
       "      <th>0</th>\n",
       "      <td>1</td>\n",
       "      <td>Caramuru Pie I</td>\n",
       "      <td>Nueva York</td>\n",
       "      <td>2020-01-02</td>\n",
       "      <td>675.87</td>\n",
       "      <td>Recibido</td>\n",
       "      <td>Chase Bank</td>\n",
       "      <td>https://i.ibb.co/7zvWdDM/1.png</td>\n",
       "      <td>Paypal</td>\n",
       "      <td>January</td>\n",
       "    </tr>\n",
       "    <tr>\n",
       "      <th>1</th>\n",
       "      <td>2</td>\n",
       "      <td>Indaia</td>\n",
       "      <td>Los Ángeles</td>\n",
       "      <td>2020-01-04</td>\n",
       "      <td>1562555.94</td>\n",
       "      <td>Recibido</td>\n",
       "      <td>Bank Of America</td>\n",
       "      <td>https://i.ibb.co/C63d3hs/2.png</td>\n",
       "      <td>Efectivo</td>\n",
       "      <td>January</td>\n",
       "    </tr>\n",
       "    <tr>\n",
       "      <th>2</th>\n",
       "      <td>3</td>\n",
       "      <td>Diamante Iii</td>\n",
       "      <td>Nueva York</td>\n",
       "      <td>2020-01-04</td>\n",
       "      <td>4970.12</td>\n",
       "      <td>Recibido</td>\n",
       "      <td>Bank Of America</td>\n",
       "      <td>https://i.ibb.co/C63d3hs/2.png</td>\n",
       "      <td>Efectivo</td>\n",
       "      <td>January</td>\n",
       "    </tr>\n",
       "    <tr>\n",
       "      <th>3</th>\n",
       "      <td>4</td>\n",
       "      <td>Diamante Iii</td>\n",
       "      <td>Nueva York</td>\n",
       "      <td>2020-01-04</td>\n",
       "      <td>6716.79</td>\n",
       "      <td>Recibido</td>\n",
       "      <td>Bank Of America</td>\n",
       "      <td>https://i.ibb.co/C63d3hs/2.png</td>\n",
       "      <td>Paypal</td>\n",
       "      <td>January</td>\n",
       "    </tr>\n",
       "    <tr>\n",
       "      <th>4</th>\n",
       "      <td>5</td>\n",
       "      <td>Diamante Iii</td>\n",
       "      <td>Chicago</td>\n",
       "      <td>2020-01-04</td>\n",
       "      <td>7072.15</td>\n",
       "      <td>Recibido</td>\n",
       "      <td>Citigroup</td>\n",
       "      <td>https://i.ibb.co/18SNjp9/3.png</td>\n",
       "      <td>MercadoPago</td>\n",
       "      <td>January</td>\n",
       "    </tr>\n",
       "  </tbody>\n",
       "</table>\n",
       "</div>"
      ],
      "text/plain": [
       "   Número Movimiento          Nombre       Ciudad Fecha de movimiento  \\\n",
       "0                  1  Caramuru Pie I   Nueva York          2020-01-02   \n",
       "1                  2          Indaia  Los Ángeles          2020-01-04   \n",
       "2                  3    Diamante Iii   Nueva York          2020-01-04   \n",
       "3                  4    Diamante Iii   Nueva York          2020-01-04   \n",
       "4                  5    Diamante Iii      Chicago          2020-01-04   \n",
       "\n",
       "   Valor de movimiento      Tipo            Banco  \\\n",
       "0               675.87  Recibido       Chase Bank   \n",
       "1           1562555.94  Recibido  Bank Of America   \n",
       "2              4970.12  Recibido  Bank Of America   \n",
       "3              6716.79  Recibido  Bank Of America   \n",
       "4              7072.15  Recibido        Citigroup   \n",
       "\n",
       "                           Imagen Forma de pago      Mes  \n",
       "0  https://i.ibb.co/7zvWdDM/1.png        Paypal  January  \n",
       "1  https://i.ibb.co/C63d3hs/2.png      Efectivo  January  \n",
       "2  https://i.ibb.co/C63d3hs/2.png      Efectivo  January  \n",
       "3  https://i.ibb.co/C63d3hs/2.png        Paypal  January  \n",
       "4  https://i.ibb.co/18SNjp9/3.png   MercadoPago  January  "
      ]
     },
     "execution_count": 50,
     "metadata": {},
     "output_type": "execute_result"
    }
   ],
   "source": [
    "finances_df.head()"
   ]
  },
  {
   "cell_type": "code",
   "execution_count": 31,
   "metadata": {},
   "outputs": [
    {
     "name": "stderr",
     "output_type": "stream",
     "text": [
      "2024-10-03 16:14:04.721 Thread 'MainThread': missing ScriptRunContext! This warning can be ignored when running in bare mode.\n",
      "2024-10-03 16:14:04.722 Thread 'MainThread': missing ScriptRunContext! This warning can be ignored when running in bare mode.\n",
      "2024-10-03 16:14:04.723 Thread 'MainThread': missing ScriptRunContext! This warning can be ignored when running in bare mode.\n",
      "2024-10-03 16:14:04.724 Thread 'MainThread': missing ScriptRunContext! This warning can be ignored when running in bare mode.\n",
      "2024-10-03 16:14:04.725 Thread 'MainThread': missing ScriptRunContext! This warning can be ignored when running in bare mode.\n",
      "2024-10-03 16:14:04.726 Thread 'MainThread': missing ScriptRunContext! This warning can be ignored when running in bare mode.\n",
      "2024-10-03 16:14:04.726 Thread 'MainThread': missing ScriptRunContext! This warning can be ignored when running in bare mode.\n",
      "2024-10-03 16:14:04.730 Thread 'MainThread': missing ScriptRunContext! This warning can be ignored when running in bare mode.\n",
      "2024-10-03 16:14:04.731 Thread 'MainThread': missing ScriptRunContext! This warning can be ignored when running in bare mode.\n",
      "2024-10-03 16:14:04.732 Thread 'MainThread': missing ScriptRunContext! This warning can be ignored when running in bare mode.\n",
      "2024-10-03 16:14:04.732 Thread 'MainThread': missing ScriptRunContext! This warning can be ignored when running in bare mode.\n",
      "2024-10-03 16:14:04.733 Thread 'MainThread': missing ScriptRunContext! This warning can be ignored when running in bare mode.\n",
      "2024-10-03 16:14:04.736 Thread 'MainThread': missing ScriptRunContext! This warning can be ignored when running in bare mode.\n",
      "2024-10-03 16:14:04.739 Thread 'MainThread': missing ScriptRunContext! This warning can be ignored when running in bare mode.\n",
      "2024-10-03 16:14:04.740 Thread 'MainThread': missing ScriptRunContext! This warning can be ignored when running in bare mode.\n",
      "2024-10-03 16:14:04.740 Thread 'MainThread': missing ScriptRunContext! This warning can be ignored when running in bare mode.\n",
      "2024-10-03 16:14:04.741 Thread 'MainThread': missing ScriptRunContext! This warning can be ignored when running in bare mode.\n",
      "2024-10-03 16:14:04.742 Thread 'MainThread': missing ScriptRunContext! This warning can be ignored when running in bare mode.\n",
      "2024-10-03 16:14:04.743 Thread 'MainThread': missing ScriptRunContext! This warning can be ignored when running in bare mode.\n",
      "2024-10-03 16:14:04.743 Thread 'MainThread': missing ScriptRunContext! This warning can be ignored when running in bare mode.\n",
      "2024-10-03 16:14:04.744 Thread 'MainThread': missing ScriptRunContext! This warning can be ignored when running in bare mode.\n",
      "2024-10-03 16:14:04.745 Thread 'MainThread': missing ScriptRunContext! This warning can be ignored when running in bare mode.\n",
      "2024-10-03 16:14:04.747 Thread 'MainThread': missing ScriptRunContext! This warning can be ignored when running in bare mode.\n",
      "2024-10-03 16:14:04.748 Thread 'MainThread': missing ScriptRunContext! This warning can be ignored when running in bare mode.\n",
      "2024-10-03 16:14:04.748 Thread 'MainThread': missing ScriptRunContext! This warning can be ignored when running in bare mode.\n",
      "2024-10-03 16:14:04.749 Thread 'MainThread': missing ScriptRunContext! This warning can be ignored when running in bare mode.\n"
     ]
    },
    {
     "data": {
      "application/vnd.plotly.v1+json": {
       "config": {
        "plotlyServerURL": "https://plot.ly"
       },
       "data": [
        {
         "connector": {
          "line": {
           "color": "gray"
          }
         },
         "decreasing": {
          "marker": {
           "color": "orange"
          }
         },
         "increasing": {
          "marker": {
           "color": "white"
          }
         },
         "measure": [
          "relative",
          "relative",
          "relative",
          "relative",
          "relative",
          "relative",
          "relative",
          "relative",
          "relative",
          "relative",
          "relative",
          "relative",
          "total"
         ],
         "name": "Utilidad por mes",
         "orientation": "v",
         "text": [
          "$0.00",
          "$0.00",
          "$0.00",
          "$0.00",
          "$0.00",
          "$0.00",
          "$0.00",
          "$0.00",
          "$0.00",
          "$0.00",
          "$0.00",
          "$0.00",
          "$0.00"
         ],
         "textposition": "outside",
         "totals": {
          "marker": {
           "color": "blue"
          }
         },
         "type": "waterfall",
         "x": [
          "enero",
          "febrero",
          "marzo",
          "abril",
          "mayo",
          "junio",
          "julio",
          "agosto",
          "septiembre",
          "octubre",
          "noviembre",
          "diciembre",
          "Total"
         ],
         "y": [
          0,
          0,
          0,
          0,
          0,
          0,
          0,
          0,
          0,
          0,
          0,
          0,
          0
         ]
        }
       ],
       "layout": {
        "showlegend": true,
        "template": {
         "data": {
          "candlestick": [
           {
            "decreasing": {
             "line": {
              "color": "#000033"
             }
            },
            "increasing": {
             "line": {
              "color": "#000032"
             }
            },
            "type": "candlestick"
           }
          ],
          "contour": [
           {
            "colorscale": [
             [
              0,
              "#000011"
             ],
             [
              0.1111111111111111,
              "#000012"
             ],
             [
              0.2222222222222222,
              "#000013"
             ],
             [
              0.3333333333333333,
              "#000014"
             ],
             [
              0.4444444444444444,
              "#000015"
             ],
             [
              0.5555555555555556,
              "#000016"
             ],
             [
              0.6666666666666666,
              "#000017"
             ],
             [
              0.7777777777777778,
              "#000018"
             ],
             [
              0.8888888888888888,
              "#000019"
             ],
             [
              1,
              "#000020"
             ]
            ],
            "type": "contour"
           }
          ],
          "contourcarpet": [
           {
            "colorscale": [
             [
              0,
              "#000011"
             ],
             [
              0.1111111111111111,
              "#000012"
             ],
             [
              0.2222222222222222,
              "#000013"
             ],
             [
              0.3333333333333333,
              "#000014"
             ],
             [
              0.4444444444444444,
              "#000015"
             ],
             [
              0.5555555555555556,
              "#000016"
             ],
             [
              0.6666666666666666,
              "#000017"
             ],
             [
              0.7777777777777778,
              "#000018"
             ],
             [
              0.8888888888888888,
              "#000019"
             ],
             [
              1,
              "#000020"
             ]
            ],
            "type": "contourcarpet"
           }
          ],
          "heatmap": [
           {
            "colorscale": [
             [
              0,
              "#000011"
             ],
             [
              0.1111111111111111,
              "#000012"
             ],
             [
              0.2222222222222222,
              "#000013"
             ],
             [
              0.3333333333333333,
              "#000014"
             ],
             [
              0.4444444444444444,
              "#000015"
             ],
             [
              0.5555555555555556,
              "#000016"
             ],
             [
              0.6666666666666666,
              "#000017"
             ],
             [
              0.7777777777777778,
              "#000018"
             ],
             [
              0.8888888888888888,
              "#000019"
             ],
             [
              1,
              "#000020"
             ]
            ],
            "type": "heatmap"
           }
          ],
          "histogram2d": [
           {
            "colorscale": [
             [
              0,
              "#000011"
             ],
             [
              0.1111111111111111,
              "#000012"
             ],
             [
              0.2222222222222222,
              "#000013"
             ],
             [
              0.3333333333333333,
              "#000014"
             ],
             [
              0.4444444444444444,
              "#000015"
             ],
             [
              0.5555555555555556,
              "#000016"
             ],
             [
              0.6666666666666666,
              "#000017"
             ],
             [
              0.7777777777777778,
              "#000018"
             ],
             [
              0.8888888888888888,
              "#000019"
             ],
             [
              1,
              "#000020"
             ]
            ],
            "type": "histogram2d"
           }
          ],
          "icicle": [
           {
            "textfont": {
             "color": "white"
            },
            "type": "icicle"
           }
          ],
          "sankey": [
           {
            "textfont": {
             "color": "#000036"
            },
            "type": "sankey"
           }
          ],
          "scatter": [
           {
            "marker": {
             "line": {
              "width": 0
             }
            },
            "type": "scatter"
           }
          ],
          "table": [
           {
            "cells": {
             "fill": {
              "color": "#000038"
             },
             "font": {
              "color": "#000037"
             },
             "line": {
              "color": "#000039"
             }
            },
            "header": {
             "fill": {
              "color": "#000040"
             },
             "font": {
              "color": "#000036"
             },
             "line": {
              "color": "#000039"
             }
            },
            "type": "table"
           }
          ],
          "waterfall": [
           {
            "connector": {
             "line": {
              "color": "#000036",
              "width": 2
             }
            },
            "decreasing": {
             "marker": {
              "color": "#000033"
             }
            },
            "increasing": {
             "marker": {
              "color": "#000032"
             }
            },
            "totals": {
             "marker": {
              "color": "#000034"
             }
            },
            "type": "waterfall"
           }
          ]
         },
         "layout": {
          "coloraxis": {
           "colorscale": [
            [
             0,
             "#000011"
            ],
            [
             0.1111111111111111,
             "#000012"
            ],
            [
             0.2222222222222222,
             "#000013"
            ],
            [
             0.3333333333333333,
             "#000014"
            ],
            [
             0.4444444444444444,
             "#000015"
            ],
            [
             0.5555555555555556,
             "#000016"
            ],
            [
             0.6666666666666666,
             "#000017"
            ],
            [
             0.7777777777777778,
             "#000018"
            ],
            [
             0.8888888888888888,
             "#000019"
            ],
            [
             1,
             "#000020"
            ]
           ]
          },
          "colorscale": {
           "diverging": [
            [
             0,
             "#000021"
            ],
            [
             0.1,
             "#000022"
            ],
            [
             0.2,
             "#000023"
            ],
            [
             0.3,
             "#000024"
            ],
            [
             0.4,
             "#000025"
            ],
            [
             0.5,
             "#000026"
            ],
            [
             0.6,
             "#000027"
            ],
            [
             0.7,
             "#000028"
            ],
            [
             0.8,
             "#000029"
            ],
            [
             0.9,
             "#000030"
            ],
            [
             1,
             "#000031"
            ]
           ],
           "sequential": [
            [
             0,
             "#000011"
            ],
            [
             0.1111111111111111,
             "#000012"
            ],
            [
             0.2222222222222222,
             "#000013"
            ],
            [
             0.3333333333333333,
             "#000014"
            ],
            [
             0.4444444444444444,
             "#000015"
            ],
            [
             0.5555555555555556,
             "#000016"
            ],
            [
             0.6666666666666666,
             "#000017"
            ],
            [
             0.7777777777777778,
             "#000018"
            ],
            [
             0.8888888888888888,
             "#000019"
            ],
            [
             1,
             "#000020"
            ]
           ],
           "sequentialminus": [
            [
             0,
             "#000011"
            ],
            [
             0.1111111111111111,
             "#000012"
            ],
            [
             0.2222222222222222,
             "#000013"
            ],
            [
             0.3333333333333333,
             "#000014"
            ],
            [
             0.4444444444444444,
             "#000015"
            ],
            [
             0.5555555555555556,
             "#000016"
            ],
            [
             0.6666666666666666,
             "#000017"
            ],
            [
             0.7777777777777778,
             "#000018"
            ],
            [
             0.8888888888888888,
             "#000019"
            ],
            [
             1,
             "#000020"
            ]
           ]
          },
          "colorway": [
           "#000001",
           "#000002",
           "#000003",
           "#000004",
           "#000005",
           "#000006",
           "#000007",
           "#000008",
           "#000009",
           "#000010"
          ]
         }
        },
        "title": {
         "text": "Utilidad por mes"
        },
        "waterfallgroupgap": 0.5,
        "yaxis": {
         "title": {
          "text": "USD"
         }
        }
       }
      }
     },
     "metadata": {},
     "output_type": "display_data"
    }
   ],
   "source": [
    "# Crear la columna 'Mes' a partir de la fecha de movimiento antes de filtrar\n",
    "finances_df['Fecha de movimiento'] = pd.to_datetime(finances_df['Fecha de movimiento'], errors='coerce')\n",
    "finances_df['Mes'] = finances_df['Fecha de movimiento'].dt.strftime('%B')\n",
    "\n",
    "# Sidebar para el filtro de bancos (agregando un 'key' para evitar duplicados)\n",
    "st.sidebar.header(\"Filtro de Bancos\")\n",
    "bancos_disponibles = finances_df['Banco'].unique()\n",
    "banco_seleccionado = st.sidebar.selectbox(\"Selecciona un banco\", bancos_disponibles, key=\"banco_selectbox1\")\n",
    "\n",
    "# Filtrar los datos según el banco seleccionado\n",
    "finances_filtrado = finances_df[finances_df['Banco'] == banco_seleccionado]\n",
    "\n",
    "# Títulos y encabezado principal\n",
    "st.title(\"Dashboard Financiero\")\n",
    "st.write(f\"Visualización de movimientos financieros para {banco_seleccionado}\")\n",
    "\n",
    "# Calcular los totales basados en el filtro\n",
    "total_recibido = finances_filtrado[finances_filtrado['Tipo'] == 'Recibido']['Valor de movimiento'].sum()\n",
    "total_hecho = -finances_filtrado[finances_filtrado['Tipo'] == 'Pagado']['Valor de movimiento'].sum()\n",
    "impuesto = total_recibido * 0.15  # Suponiendo un 15% de impuestos\n",
    "utilidad = total_recibido - total_hecho - impuesto\n",
    "\n",
    "# Mostrar los totales en formato de tarjetas con un tamaño de texto más pequeño\n",
    "col1, col2, col3, col4 = st.columns(4)\n",
    "\n",
    "with col1:\n",
    "    st.markdown(f\"<h5 style='font-size:14px;'>Pagos Recibidos</h5><h3 style='font-size:20px;'>${total_recibido:,.2f}</h3>\", unsafe_allow_html=True)\n",
    "with col2:\n",
    "    st.markdown(f\"<h5 style='font-size:14px;'>Pagos Hechos</h5><h3 style='font-size:20px;'>${total_hecho:,.2f}</h3>\", unsafe_allow_html=True)\n",
    "with col3:\n",
    "    st.markdown(f\"<h5 style='font-size:14px;'>Impuesto</h5><h3 style='font-size:20px;'>${impuesto:,.2f}</h3>\", unsafe_allow_html=True)\n",
    "with col4:\n",
    "    st.markdown(f\"<h5 style='font-size:14px;'>Utilidad</h5><h3 style='font-size:20px;'>${utilidad:,.2f}</h3>\", unsafe_allow_html=True)\n",
    "\n",
    "# Agrupar por mes y calcular la suma de 'Valor de movimiento' para el banco seleccionado\n",
    "monthly_summary = finances_filtrado.groupby('Mes')['Valor de movimiento'].sum().reindex(\n",
    "    ['enero', 'febrero', 'marzo', 'abril', 'mayo', 'junio', 'julio', 'agosto', \n",
    "     'septiembre', 'octubre', 'noviembre', 'diciembre'], fill_value=0).reset_index()\n",
    "\n",
    "# Añadir una fila con el total\n",
    "monthly_summary = pd.concat([monthly_summary, pd.DataFrame([{'Mes': 'Total', 'Valor de movimiento': monthly_summary['Valor de movimiento'].sum()}])])\n",
    "\n",
    "# Gráfico de cascada\n",
    "meses = monthly_summary['Mes'].tolist()\n",
    "valores = monthly_summary['Valor de movimiento'].tolist()\n",
    "\n",
    "fig = go.Figure(go.Waterfall(\n",
    "    name=\"Utilidad por mes\", \n",
    "    orientation=\"v\",\n",
    "    measure=[\"relative\"] * (len(meses) - 1) + [\"total\"],  # 'relative' para cada mes, 'total' para el total\n",
    "    x=meses,\n",
    "    y=valores,\n",
    "    text=[f\"${x:,.2f}\" for x in valores],  # Etiquetas de texto\n",
    "    textposition=\"outside\",\n",
    "    decreasing={\"marker\":{\"color\":\"orange\"}},\n",
    "    increasing={\"marker\":{\"color\":\"white\"}},\n",
    "    totals={\"marker\":{\"color\":\"blue\"}},\n",
    "    connector={\"line\":{\"color\":\"gray\"}}\n",
    "))\n",
    "\n",
    "fig.update_layout(\n",
    "    title=\"Utilidad por mes\",\n",
    "    waterfallgroupgap = 0.5,\n",
    "    showlegend = True,\n",
    "    yaxis_title=\"USD\"\n",
    ")\n",
    "\n",
    "# Mostrar gráfico de cascada en Streamlit\n",
    "fig.show()\n",
    "\n"
   ]
  },
  {
   "cell_type": "code",
   "execution_count": 32,
   "metadata": {},
   "outputs": [
    {
     "name": "stderr",
     "output_type": "stream",
     "text": [
      "2024-10-03 16:14:22.564 Thread 'MainThread': missing ScriptRunContext! This warning can be ignored when running in bare mode.\n",
      "2024-10-03 16:14:22.565 Thread 'MainThread': missing ScriptRunContext! This warning can be ignored when running in bare mode.\n",
      "2024-10-03 16:14:22.906 Thread 'MainThread': missing ScriptRunContext! This warning can be ignored when running in bare mode.\n",
      "2024-10-03 16:14:22.907 Thread 'MainThread': missing ScriptRunContext! This warning can be ignored when running in bare mode.\n",
      "2024-10-03 16:14:22.909 Thread 'MainThread': missing ScriptRunContext! This warning can be ignored when running in bare mode.\n",
      "2024-10-03 16:14:22.909 Thread 'MainThread': missing ScriptRunContext! This warning can be ignored when running in bare mode.\n",
      "2024-10-03 16:14:22.909 Thread 'MainThread': missing ScriptRunContext! This warning can be ignored when running in bare mode.\n",
      "2024-10-03 16:14:22.909 Thread 'MainThread': missing ScriptRunContext! This warning can be ignored when running in bare mode.\n",
      "2024-10-03 16:14:22.909 Thread 'MainThread': missing ScriptRunContext! This warning can be ignored when running in bare mode.\n",
      "2024-10-03 16:14:22.909 Thread 'MainThread': missing ScriptRunContext! This warning can be ignored when running in bare mode.\n",
      "2024-10-03 16:14:22.909 Thread 'MainThread': missing ScriptRunContext! This warning can be ignored when running in bare mode.\n",
      "2024-10-03 16:14:22.915 Thread 'MainThread': missing ScriptRunContext! This warning can be ignored when running in bare mode.\n",
      "2024-10-03 16:14:22.916 Thread 'MainThread': missing ScriptRunContext! This warning can be ignored when running in bare mode.\n",
      "2024-10-03 16:14:22.916 Thread 'MainThread': missing ScriptRunContext! This warning can be ignored when running in bare mode.\n",
      "2024-10-03 16:14:22.930 Thread 'MainThread': missing ScriptRunContext! This warning can be ignored when running in bare mode.\n",
      "2024-10-03 16:14:22.931 Thread 'MainThread': missing ScriptRunContext! This warning can be ignored when running in bare mode.\n"
     ]
    },
    {
     "data": {
      "text/plain": [
       "DeltaGenerator()"
      ]
     },
     "execution_count": 32,
     "metadata": {},
     "output_type": "execute_result"
    }
   ],
   "source": [
    "# Gráfico de barras (mostrar únicamente los datos filtrados para el banco seleccionado)\n",
    "st.subheader(f\"Movimientos para {banco_seleccionado}\")\n",
    "tipo_movimientos = finances_filtrado.groupby('Tipo')['Valor de movimiento'].sum().reset_index()\n",
    "st.bar_chart(tipo_movimientos, x='Tipo', y='Valor de movimiento')\n",
    "\n",
    "# Información adicional\n",
    "st.subheader(\"Detalles de Movimientos\")\n",
    "st.write(f\"El número de movimientos es de {len(finances_filtrado)}, siendo {len(finances_filtrado[finances_filtrado['Forma de pago'] == 'Tarjeta'])} hechos con tarjeta.\")\n",
    "\n",
    "# Pie chart de margen\n",
    "margen = utilidad / total_recibido * 100 if total_recibido > 0 else 0\n",
    "st.write(f\"Margen: {margen:.2f} %\")\n",
    "\n",
    "# Tabla detallada\n",
    "st.dataframe(finances_filtrado)"
   ]
  },
  {
   "cell_type": "code",
   "execution_count": 45,
   "metadata": {},
   "outputs": [
    {
     "name": "stderr",
     "output_type": "stream",
     "text": [
      "C:\\Users\\cdeor\\AppData\\Local\\Temp\\ipykernel_19300\\3412349246.py:5: SettingWithCopyWarning:\n",
      "\n",
      "\n",
      "A value is trying to be set on a copy of a slice from a DataFrame.\n",
      "Try using .loc[row_indexer,col_indexer] = value instead\n",
      "\n",
      "See the caveats in the documentation: https://pandas.pydata.org/pandas-docs/stable/user_guide/indexing.html#returning-a-view-versus-a-copy\n",
      "\n",
      "C:\\Users\\cdeor\\AppData\\Local\\Temp\\ipykernel_19300\\3412349246.py:6: SettingWithCopyWarning:\n",
      "\n",
      "\n",
      "A value is trying to be set on a copy of a slice from a DataFrame.\n",
      "Try using .loc[row_indexer,col_indexer] = value instead\n",
      "\n",
      "See the caveats in the documentation: https://pandas.pydata.org/pandas-docs/stable/user_guide/indexing.html#returning-a-view-versus-a-copy\n",
      "\n"
     ]
    },
    {
     "data": {
      "text/html": [
       "<div>\n",
       "<style scoped>\n",
       "    .dataframe tbody tr th:only-of-type {\n",
       "        vertical-align: middle;\n",
       "    }\n",
       "\n",
       "    .dataframe tbody tr th {\n",
       "        vertical-align: top;\n",
       "    }\n",
       "\n",
       "    .dataframe thead th {\n",
       "        text-align: right;\n",
       "    }\n",
       "</style>\n",
       "<table border=\"1\" class=\"dataframe\">\n",
       "  <thead>\n",
       "    <tr style=\"text-align: right;\">\n",
       "      <th></th>\n",
       "      <th>Número Movimiento</th>\n",
       "      <th>Nombre</th>\n",
       "      <th>Ciudad</th>\n",
       "      <th>Fecha de movimiento</th>\n",
       "      <th>Valor de movimiento</th>\n",
       "      <th>Tipo</th>\n",
       "      <th>Banco</th>\n",
       "      <th>Imagen</th>\n",
       "      <th>Forma de pago</th>\n",
       "      <th>Mes</th>\n",
       "    </tr>\n",
       "  </thead>\n",
       "  <tbody>\n",
       "    <tr>\n",
       "      <th>0</th>\n",
       "      <td>1</td>\n",
       "      <td>Caramuru Pie I</td>\n",
       "      <td>Nueva York</td>\n",
       "      <td>2020-01-02</td>\n",
       "      <td>675.87</td>\n",
       "      <td>Recibido</td>\n",
       "      <td>Chase Bank</td>\n",
       "      <td>https://i.ibb.co/7zvWdDM/1.png</td>\n",
       "      <td>Paypal</td>\n",
       "      <td>January</td>\n",
       "    </tr>\n",
       "    <tr>\n",
       "      <th>5</th>\n",
       "      <td>6</td>\n",
       "      <td>Canuelas</td>\n",
       "      <td>Nueva York</td>\n",
       "      <td>2020-01-05</td>\n",
       "      <td>6259.85</td>\n",
       "      <td>Recibido</td>\n",
       "      <td>Chase Bank</td>\n",
       "      <td>https://i.ibb.co/7zvWdDM/1.png</td>\n",
       "      <td>Tarjeta</td>\n",
       "      <td>January</td>\n",
       "    </tr>\n",
       "    <tr>\n",
       "      <th>8</th>\n",
       "      <td>9</td>\n",
       "      <td>Libra Energia</td>\n",
       "      <td>Chicago</td>\n",
       "      <td>2020-01-05</td>\n",
       "      <td>5882.06</td>\n",
       "      <td>Recibido</td>\n",
       "      <td>Chase Bank</td>\n",
       "      <td>https://i.ibb.co/7zvWdDM/1.png</td>\n",
       "      <td>Paypal</td>\n",
       "      <td>January</td>\n",
       "    </tr>\n",
       "    <tr>\n",
       "      <th>9</th>\n",
       "      <td>10</td>\n",
       "      <td>Libra Energia</td>\n",
       "      <td>Houston</td>\n",
       "      <td>2020-01-05</td>\n",
       "      <td>6712.31</td>\n",
       "      <td>Recibido</td>\n",
       "      <td>Chase Bank</td>\n",
       "      <td>https://i.ibb.co/7zvWdDM/1.png</td>\n",
       "      <td>MercadoPago</td>\n",
       "      <td>January</td>\n",
       "    </tr>\n",
       "    <tr>\n",
       "      <th>10</th>\n",
       "      <td>11</td>\n",
       "      <td>Libra Energia</td>\n",
       "      <td>Los Ángeles</td>\n",
       "      <td>2020-01-05</td>\n",
       "      <td>6583.79</td>\n",
       "      <td>Recibido</td>\n",
       "      <td>Chase Bank</td>\n",
       "      <td>https://i.ibb.co/7zvWdDM/1.png</td>\n",
       "      <td>Paypal</td>\n",
       "      <td>January</td>\n",
       "    </tr>\n",
       "  </tbody>\n",
       "</table>\n",
       "</div>"
      ],
      "text/plain": [
       "    Número Movimiento          Nombre       Ciudad Fecha de movimiento  \\\n",
       "0                   1  Caramuru Pie I   Nueva York          2020-01-02   \n",
       "5                   6        Canuelas   Nueva York          2020-01-05   \n",
       "8                   9   Libra Energia      Chicago          2020-01-05   \n",
       "9                  10   Libra Energia      Houston          2020-01-05   \n",
       "10                 11   Libra Energia  Los Ángeles          2020-01-05   \n",
       "\n",
       "    Valor de movimiento      Tipo       Banco                          Imagen  \\\n",
       "0                675.87  Recibido  Chase Bank  https://i.ibb.co/7zvWdDM/1.png   \n",
       "5               6259.85  Recibido  Chase Bank  https://i.ibb.co/7zvWdDM/1.png   \n",
       "8               5882.06  Recibido  Chase Bank  https://i.ibb.co/7zvWdDM/1.png   \n",
       "9               6712.31  Recibido  Chase Bank  https://i.ibb.co/7zvWdDM/1.png   \n",
       "10              6583.79  Recibido  Chase Bank  https://i.ibb.co/7zvWdDM/1.png   \n",
       "\n",
       "   Forma de pago      Mes  \n",
       "0         Paypal  January  \n",
       "5        Tarjeta  January  \n",
       "8         Paypal  January  \n",
       "9    MercadoPago  January  \n",
       "10        Paypal  January  "
      ]
     },
     "execution_count": 45,
     "metadata": {},
     "output_type": "execute_result"
    }
   ],
   "source": [
    "# Filtrar los datos según el banco seleccionado\n",
    "finances_filtrado = finances_df[finances_df['Banco'] == 'Chase Bank']\n",
    "\n",
    "# Convertir la columna de fechas y agregar el mes\n",
    "finances_filtrado['Fecha de movimiento'] = pd.to_datetime(finances_filtrado['Fecha de movimiento'])\n",
    "finances_filtrado['Mes'] = finances_filtrado['Fecha de movimiento'].dt.month_name()\n",
    "finances_filtrado.head()"
   ]
  },
  {
   "cell_type": "code",
   "execution_count": 46,
   "metadata": {},
   "outputs": [],
   "source": [
    "utilidad_mensual = finances_filtrado.groupby(['Mes', 'Tipo'])['Valor de movimiento'].sum().unstack(fill_value=0)\n",
    "utilidad_mensual['Impuesto'] = utilidad_mensual['Recibido']*0.15\n",
    "utilidad_mensual['Utilidad'] = utilidad_mensual['Recibido'] + utilidad_mensual['Pagado'] - utilidad_mensual['Impuesto']\n",
    "utilidad_total = utilidad_mensual.Utilidad.sum()"
   ]
  },
  {
   "cell_type": "code",
   "execution_count": null,
   "metadata": {},
   "outputs": [],
   "source": [
    "utilidad_mensual = utilidad_mensual['Utilidad'].reindex(\n",
    "    ['January', 'February', 'March', 'April', 'May', 'June', 'July', 'August', 'September', 'October', 'November', 'December'], \n",
    "    fill_value=0\n",
    ")\n"
   ]
  },
  {
   "cell_type": "code",
   "execution_count": 48,
   "metadata": {},
   "outputs": [
    {
     "data": {
      "application/vnd.plotly.v1+json": {
       "config": {
        "plotlyServerURL": "https://plot.ly"
       },
       "data": [
        {
         "decreasing": {
          "marker": {
           "color": "orange"
          }
         },
         "increasing": {
          "marker": {
           "color": "green"
          }
         },
         "measure": [
          "relative",
          "relative",
          "relative",
          "relative",
          "relative",
          "relative",
          "relative",
          "relative",
          "relative",
          "relative",
          "relative",
          "relative",
          "total"
         ],
         "name": "Utilidad por Mes",
         "orientation": "v",
         "text": [
          "$0.4 mill.",
          "$1.3 mill.",
          "$2.6 mill.",
          "$-2.7 mill.",
          "$4.1 mill.",
          "$1.6 mill.",
          "$-0.6 mill.",
          "$-0.9 mill.",
          "$2.8 mill.",
          "$1.3 mill.",
          "$2.3 mill.",
          "$0.4 mill.",
          "$12.5 mill."
         ],
         "totals": {
          "marker": {
           "color": "blue"
          }
         },
         "type": "waterfall",
         "x": [
          "January",
          "February",
          "March",
          "April",
          "May",
          "June",
          "July",
          "August",
          "September",
          "October",
          "November",
          "December",
          "Total"
         ],
         "y": [
          422988.9365,
          1313986.5565,
          2556218.1180000002,
          -2728193.5525,
          4083128.5809999993,
          1588188.3775000002,
          -577020.4950000001,
          -855362.9479999999,
          2755858.1805,
          1287674.2854999998,
          2302774.6385000004,
          381608.4614999999,
          12531849.139999997
         ]
        }
       ],
       "layout": {
        "showlegend": false,
        "template": {
         "data": {
          "candlestick": [
           {
            "decreasing": {
             "line": {
              "color": "#000033"
             }
            },
            "increasing": {
             "line": {
              "color": "#000032"
             }
            },
            "type": "candlestick"
           }
          ],
          "contour": [
           {
            "colorscale": [
             [
              0,
              "#000011"
             ],
             [
              0.1111111111111111,
              "#000012"
             ],
             [
              0.2222222222222222,
              "#000013"
             ],
             [
              0.3333333333333333,
              "#000014"
             ],
             [
              0.4444444444444444,
              "#000015"
             ],
             [
              0.5555555555555556,
              "#000016"
             ],
             [
              0.6666666666666666,
              "#000017"
             ],
             [
              0.7777777777777778,
              "#000018"
             ],
             [
              0.8888888888888888,
              "#000019"
             ],
             [
              1,
              "#000020"
             ]
            ],
            "type": "contour"
           }
          ],
          "contourcarpet": [
           {
            "colorscale": [
             [
              0,
              "#000011"
             ],
             [
              0.1111111111111111,
              "#000012"
             ],
             [
              0.2222222222222222,
              "#000013"
             ],
             [
              0.3333333333333333,
              "#000014"
             ],
             [
              0.4444444444444444,
              "#000015"
             ],
             [
              0.5555555555555556,
              "#000016"
             ],
             [
              0.6666666666666666,
              "#000017"
             ],
             [
              0.7777777777777778,
              "#000018"
             ],
             [
              0.8888888888888888,
              "#000019"
             ],
             [
              1,
              "#000020"
             ]
            ],
            "type": "contourcarpet"
           }
          ],
          "heatmap": [
           {
            "colorscale": [
             [
              0,
              "#000011"
             ],
             [
              0.1111111111111111,
              "#000012"
             ],
             [
              0.2222222222222222,
              "#000013"
             ],
             [
              0.3333333333333333,
              "#000014"
             ],
             [
              0.4444444444444444,
              "#000015"
             ],
             [
              0.5555555555555556,
              "#000016"
             ],
             [
              0.6666666666666666,
              "#000017"
             ],
             [
              0.7777777777777778,
              "#000018"
             ],
             [
              0.8888888888888888,
              "#000019"
             ],
             [
              1,
              "#000020"
             ]
            ],
            "type": "heatmap"
           }
          ],
          "histogram2d": [
           {
            "colorscale": [
             [
              0,
              "#000011"
             ],
             [
              0.1111111111111111,
              "#000012"
             ],
             [
              0.2222222222222222,
              "#000013"
             ],
             [
              0.3333333333333333,
              "#000014"
             ],
             [
              0.4444444444444444,
              "#000015"
             ],
             [
              0.5555555555555556,
              "#000016"
             ],
             [
              0.6666666666666666,
              "#000017"
             ],
             [
              0.7777777777777778,
              "#000018"
             ],
             [
              0.8888888888888888,
              "#000019"
             ],
             [
              1,
              "#000020"
             ]
            ],
            "type": "histogram2d"
           }
          ],
          "icicle": [
           {
            "textfont": {
             "color": "white"
            },
            "type": "icicle"
           }
          ],
          "sankey": [
           {
            "textfont": {
             "color": "#000036"
            },
            "type": "sankey"
           }
          ],
          "scatter": [
           {
            "marker": {
             "line": {
              "width": 0
             }
            },
            "type": "scatter"
           }
          ],
          "table": [
           {
            "cells": {
             "fill": {
              "color": "#000038"
             },
             "font": {
              "color": "#000037"
             },
             "line": {
              "color": "#000039"
             }
            },
            "header": {
             "fill": {
              "color": "#000040"
             },
             "font": {
              "color": "#000036"
             },
             "line": {
              "color": "#000039"
             }
            },
            "type": "table"
           }
          ],
          "waterfall": [
           {
            "connector": {
             "line": {
              "color": "#000036",
              "width": 2
             }
            },
            "decreasing": {
             "marker": {
              "color": "#000033"
             }
            },
            "increasing": {
             "marker": {
              "color": "#000032"
             }
            },
            "totals": {
             "marker": {
              "color": "#000034"
             }
            },
            "type": "waterfall"
           }
          ]
         },
         "layout": {
          "coloraxis": {
           "colorscale": [
            [
             0,
             "#000011"
            ],
            [
             0.1111111111111111,
             "#000012"
            ],
            [
             0.2222222222222222,
             "#000013"
            ],
            [
             0.3333333333333333,
             "#000014"
            ],
            [
             0.4444444444444444,
             "#000015"
            ],
            [
             0.5555555555555556,
             "#000016"
            ],
            [
             0.6666666666666666,
             "#000017"
            ],
            [
             0.7777777777777778,
             "#000018"
            ],
            [
             0.8888888888888888,
             "#000019"
            ],
            [
             1,
             "#000020"
            ]
           ]
          },
          "colorscale": {
           "diverging": [
            [
             0,
             "#000021"
            ],
            [
             0.1,
             "#000022"
            ],
            [
             0.2,
             "#000023"
            ],
            [
             0.3,
             "#000024"
            ],
            [
             0.4,
             "#000025"
            ],
            [
             0.5,
             "#000026"
            ],
            [
             0.6,
             "#000027"
            ],
            [
             0.7,
             "#000028"
            ],
            [
             0.8,
             "#000029"
            ],
            [
             0.9,
             "#000030"
            ],
            [
             1,
             "#000031"
            ]
           ],
           "sequential": [
            [
             0,
             "#000011"
            ],
            [
             0.1111111111111111,
             "#000012"
            ],
            [
             0.2222222222222222,
             "#000013"
            ],
            [
             0.3333333333333333,
             "#000014"
            ],
            [
             0.4444444444444444,
             "#000015"
            ],
            [
             0.5555555555555556,
             "#000016"
            ],
            [
             0.6666666666666666,
             "#000017"
            ],
            [
             0.7777777777777778,
             "#000018"
            ],
            [
             0.8888888888888888,
             "#000019"
            ],
            [
             1,
             "#000020"
            ]
           ],
           "sequentialminus": [
            [
             0,
             "#000011"
            ],
            [
             0.1111111111111111,
             "#000012"
            ],
            [
             0.2222222222222222,
             "#000013"
            ],
            [
             0.3333333333333333,
             "#000014"
            ],
            [
             0.4444444444444444,
             "#000015"
            ],
            [
             0.5555555555555556,
             "#000016"
            ],
            [
             0.6666666666666666,
             "#000017"
            ],
            [
             0.7777777777777778,
             "#000018"
            ],
            [
             0.8888888888888888,
             "#000019"
            ],
            [
             1,
             "#000020"
            ]
           ]
          },
          "colorway": [
           "#000001",
           "#000002",
           "#000003",
           "#000004",
           "#000005",
           "#000006",
           "#000007",
           "#000008",
           "#000009",
           "#000010"
          ]
         }
        },
        "title": {
         "text": "Utilidad por Mes - Gráfico de Cascada"
        },
        "waterfallgap": 0.3,
        "xaxis": {
         "title": {
          "text": "Meses"
         }
        },
        "yaxis": {
         "title": {
          "text": "Utilidad en millones"
         }
        }
       }
      }
     },
     "metadata": {},
     "output_type": "display_data"
    }
   ],
   "source": [
    "# Crear el gráfico de cascada utilizando Plotly\n",
    "fig = go.Figure(go.Waterfall(\n",
    "    name=\"Utilidad por Mes\",\n",
    "    orientation=\"v\",\n",
    "    measure=[\"relative\"] * len(utilidad_mensual) + [\"total\"],\n",
    "    x=list(utilidad_mensual.index) + [\"Total\"],\n",
    "    text=[f\"${val/1e6:.1f} mill.\" for val in utilidad_mensual.values] + [f\"${utilidad_total/1e6:.1f} mill.\"],\n",
    "    y=list(utilidad_mensual.values) + [utilidad_total],\n",
    "    decreasing={\"marker\": {\"color\": \"orange\"}},\n",
    "    increasing={\"marker\": {\"color\": \"green\"}},\n",
    "    totals={\"marker\": {\"color\": \"blue\"}}\n",
    "))\n",
    "\n",
    "fig.update_layout(\n",
    "    title=\"Utilidad por Mes - Gráfico de Cascada\",\n",
    "    waterfallgap=0.3,\n",
    "    showlegend=False,\n",
    "    yaxis_title=\"Utilidad en millones\",\n",
    "    xaxis_title=\"Meses\"\n",
    ")\n",
    "\n",
    "# Mostrar el gráfico\n",
    "fig.show()\n"
   ]
  },
  {
   "cell_type": "code",
   "execution_count": 44,
   "metadata": {},
   "outputs": [
    {
     "data": {
      "text/plain": [
       "array(['Chase Bank', 'Bank Of America', 'Citigroup', 'Santander',\n",
       "       'BBVA Bancomer'], dtype=object)"
      ]
     },
     "execution_count": 44,
     "metadata": {},
     "output_type": "execute_result"
    }
   ],
   "source": [
    "finances_df['Banco'].unique()"
   ]
  },
  {
   "cell_type": "code",
   "execution_count": 54,
   "metadata": {},
   "outputs": [
    {
     "data": {
      "text/html": [
       "<div>\n",
       "<style scoped>\n",
       "    .dataframe tbody tr th:only-of-type {\n",
       "        vertical-align: middle;\n",
       "    }\n",
       "\n",
       "    .dataframe tbody tr th {\n",
       "        vertical-align: top;\n",
       "    }\n",
       "\n",
       "    .dataframe thead th {\n",
       "        text-align: right;\n",
       "    }\n",
       "</style>\n",
       "<table border=\"1\" class=\"dataframe\">\n",
       "  <thead>\n",
       "    <tr style=\"text-align: right;\">\n",
       "      <th>Tipo</th>\n",
       "      <th>Pagado</th>\n",
       "      <th>Recibido</th>\n",
       "    </tr>\n",
       "    <tr>\n",
       "      <th>Ciudad</th>\n",
       "      <th></th>\n",
       "      <th></th>\n",
       "    </tr>\n",
       "  </thead>\n",
       "  <tbody>\n",
       "    <tr>\n",
       "      <th>Chicago</th>\n",
       "      <td>-5157927.66</td>\n",
       "      <td>8846612.14</td>\n",
       "    </tr>\n",
       "    <tr>\n",
       "      <th>Houston</th>\n",
       "      <td>-5049922.64</td>\n",
       "      <td>4796767.97</td>\n",
       "    </tr>\n",
       "    <tr>\n",
       "      <th>Los Ángeles</th>\n",
       "      <td>-2726475.87</td>\n",
       "      <td>5494114.57</td>\n",
       "    </tr>\n",
       "    <tr>\n",
       "      <th>Nueva York</th>\n",
       "      <td>-2806187.07</td>\n",
       "      <td>14124108.12</td>\n",
       "    </tr>\n",
       "  </tbody>\n",
       "</table>\n",
       "</div>"
      ],
      "text/plain": [
       "Tipo             Pagado     Recibido\n",
       "Ciudad                              \n",
       "Chicago     -5157927.66   8846612.14\n",
       "Houston     -5049922.64   4796767.97\n",
       "Los Ángeles -2726475.87   5494114.57\n",
       "Nueva York  -2806187.07  14124108.12"
      ]
     },
     "execution_count": 54,
     "metadata": {},
     "output_type": "execute_result"
    }
   ],
   "source": [
    "finances_filtrado = finances_df[finances_df['Banco'] == 'Chase Bank']\n",
    "\n",
    "utilidad_ciudad = finances_filtrado.groupby(['Ciudad', 'Tipo'])['Valor de movimiento'].sum().unstack(fill_value=0)\n",
    "#utilidad_ciudad['Impuesto'] = utilidad_ciudad['Recibido']*0.15\n",
    "#utilidad_ciudad['Utilidad'] = utilidad_ciudad['Recibido'] - utilidad_ciudad['Pagado'] - utilidad_ciudad['Impuesto']\n",
    "utilidad_ciudad.head()"
   ]
  }
 ],
 "metadata": {
  "kernelspec": {
   "display_name": "streamlit_venv",
   "language": "python",
   "name": "python3"
  },
  "language_info": {
   "codemirror_mode": {
    "name": "ipython",
    "version": 3
   },
   "file_extension": ".py",
   "mimetype": "text/x-python",
   "name": "python",
   "nbconvert_exporter": "python",
   "pygments_lexer": "ipython3",
   "version": "3.9.19"
  }
 },
 "nbformat": 4,
 "nbformat_minor": 2
}
